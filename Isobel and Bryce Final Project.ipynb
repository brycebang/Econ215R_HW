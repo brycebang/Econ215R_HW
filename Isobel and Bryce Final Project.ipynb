{
 "cells": [
  {
   "cell_type": "markdown",
   "metadata": {},
   "source": [
    "# Econ 213R Project\n",
    "### Isobel Sorenson and Bryce Bangerter"
   ]
  },
  {
   "cell_type": "markdown",
   "metadata": {},
   "source": [
    "For our project, we collected data from the CIA's World Factbook, which is a dataset of all the countries in the world with their respective economic, demographic, and geographic data. We wanted to create a model that could analyze and interpret this data and predict what continent a country belonged to based on the economic, demographic, and geographic data for the country. We figured that this might be useful in seeing how well a model can predict a country's continent based on these data because it may show us that there are difficulties in classification because of disparities between countries in the same continent. For example, we would expect it to be difficult for the model to distiguish between countries that are classified as Oceania from countries in the Caribbean and Virgin Islands which are classified as North America. Another example would be Eastern vs. Western Europe. The model may give us insights into inequality across countries within continents and show us possible ways to classify or distinguish areas of the world better than the traditional continental classification system. We used a boosting model for classification as well as t-SNE to reduce the dimensionality for viewing purposes.\n",
    "\n",
    "The following sections will cover:\n",
    "1. Data Cleaning and Feature Engineering\n",
    "2. K-Nearest Neighbors \n",
    "3. Random Forest\n",
    "4. Boosting\n",
    "5. t-SNE\n",
    "6. Conclusion"
   ]
  },
  {
   "cell_type": "markdown",
   "metadata": {},
   "source": [
    "## Data Cleaning and Feature Engineering"
   ]
  },
  {
   "cell_type": "markdown",
   "metadata": {},
   "source": [
    "In this section, we will cover an essential first step before running any models on the data. This step is referred to as data cleaning and feature engineering. What we will do here is fill missing values, drop variables we don't need, create new variables that are some transformation/combination of the other variables, and change values to be in a usable and interpretable format. \n",
    "\n",
    "First, we import all the packages that we will need for reading and cleaning our data, as well as for running the models afterwards. Then, we add a variable 'contnum' that assigns each continent a number, which turns our target labels into numeric, rather than string data (essential for doing the Random Forest model later on)."
   ]
  },
  {
   "cell_type": "code",
   "execution_count": 1,
   "metadata": {},
   "outputs": [
    {
     "name": "stderr",
     "output_type": "stream",
     "text": [
      "/Users/brycebangerter/anaconda3/lib/python3.6/site-packages/sklearn/cross_validation.py:41: DeprecationWarning: This module was deprecated in version 0.18 in favor of the model_selection module into which all the refactored classes and functions are moved. Also note that the interface of the new CV iterators are different from that of this module. This module will be removed in 0.20.\n",
      "  \"This module will be removed in 0.20.\", DeprecationWarning)\n",
      "/Users/brycebangerter/anaconda3/lib/python3.6/site-packages/sklearn/grid_search.py:42: DeprecationWarning: This module was deprecated in version 0.18 in favor of the model_selection module into which all the refactored classes and functions are moved. This module will be removed in 0.20.\n",
      "  DeprecationWarning)\n"
     ]
    }
   ],
   "source": [
    "#import packages from scikitlearn for modeling\n",
    "import warnings\n",
    "warnings.filterwarnings('ignore')\n",
    "from sklearn.ensemble import GradientBoostingClassifier\n",
    "from sklearn.model_selection import train_test_split, GridSearchCV\n",
    "from sklearn.metrics import f1_score, classification_report\n",
    "from collections import Counter\n",
    "from sklearn.manifold import TSNE\n",
    "from sklearn.decomposition import PCA\n",
    "import numpy as np\n",
    "import pandas as pd\n",
    "import seaborn as sns\n",
    "import scipy as sp\n",
    "import matplotlib.pyplot as plt\n",
    "from sklearn import linear_model\n",
    "from sklearn import metrics\n",
    "from sklearn.grid_search import GridSearchCV\n",
    "import missingno as msno\n",
    "from sklearn.neighbors import KNeighborsClassifier, KNeighborsRegressor\n",
    "from sklearn.ensemble import RandomForestClassifier\n",
    "from sklearn.metrics import accuracy_score, mean_squared_error\n",
    "import pprint\n",
    "from sklearn.metrics import precision_recall_fscore_support\n",
    "%matplotlib inline"
   ]
  },
  {
   "cell_type": "code",
   "execution_count": 2,
   "metadata": {},
   "outputs": [],
   "source": [
    "#read in dataset\n",
    "fulldf= pd.read_csv(\"/Users/brycebangerter/Documents/project1.csv\")\n",
    "df = pd.read_csv(\"/Users/brycebangerter/Documents/project1.csv\")"
   ]
  },
  {
   "cell_type": "code",
   "execution_count": 3,
   "metadata": {},
   "outputs": [],
   "source": [
    "#code to make new variable that assigns each continent a numeric value\n",
    "df['contnum'] = df['cont'].copy()\n",
    "df['contnum'].replace('Asia', 1, inplace=True)\n",
    "df['contnum'].replace('Africa', 2, inplace=True)\n",
    "df['contnum'].replace('Europe', 3, inplace=True)\n",
    "df['contnum'].replace('North America', 4, inplace=True)\n",
    "df['contnum'].replace('Oceania', 5, inplace=True)\n",
    "df['contnum'].replace('South America', 6, inplace=True)\n",
    "\n",
    "cont_key = ['Asia', 'Africa', 'Europe', 'North America', 'Oceania', 'South America']\n",
    "cont_sr = pd.Series(cont_key).astype(str)"
   ]
  },
  {
   "cell_type": "markdown",
   "metadata": {},
   "source": [
    "In our dataset, there are values that have characters like commas, dollar signs, and percentage symbols, likely as a result of how they were orginally entered into the dataset. We can remove these symbols and change the value type from string to float so that we can treat these variables as numbers, not strings. "
   ]
  },
  {
   "cell_type": "code",
   "execution_count": 4,
   "metadata": {},
   "outputs": [],
   "source": [
    "#remove characters in the values for variables that should be numeric\n",
    "df=df.replace(',', '' , regex=True)\n",
    "df=df.replace('%', '' , regex=True)\n",
    "df['GDP_PPP_percapita']=df['GDP_PPP_percapita'].str.replace('$', '')"
   ]
  },
  {
   "cell_type": "code",
   "execution_count": 5,
   "metadata": {},
   "outputs": [],
   "source": [
    "#convert data type to float\n",
    "df.loc[:, 'Pop2013':'Percent Urban']= df.loc[:, 'Pop2013':'Percent Urban'].astype(float)"
   ]
  },
  {
   "cell_type": "markdown",
   "metadata": {},
   "source": [
    "Next, we do something called feature engineering, which is where we create a new variable from existing variables. We want to make two new variables that may be important and helpful for the model to classify countries. We created a 'PopDens' variable which measures the population density of a country, which is the total population divided by the land area of the country, represented in square kilometers. Another variable we created was 'Coast_Area_Ratio' which measures the ratio of coastline to a country's land area, which we calculate by taking the coastline the country possesses(measured in kilometers) divided by the land area of the country (measured in square kilometers). Both of these variables will be helpful in classifying countries to their respective continents.\n",
    "\n",
    "I also rename two of the columns so that there aren't any spaces between words, as this sometimes causes issues later with syntax."
   ]
  },
  {
   "cell_type": "code",
   "execution_count": 6,
   "metadata": {},
   "outputs": [],
   "source": [
    "#create new feature\n",
    "df['PopDens']= df['Pop2013']/df['Area_sqkm']"
   ]
  },
  {
   "cell_type": "code",
   "execution_count": 7,
   "metadata": {},
   "outputs": [],
   "source": [
    "#create new feature\n",
    "df['Coast_Area_Ratio'] = df['coastline_km'] / df['Area_sqkm']"
   ]
  },
  {
   "cell_type": "code",
   "execution_count": 8,
   "metadata": {},
   "outputs": [],
   "source": [
    "#rename column to have no spaces\n",
    "df.rename(columns={'GDP PPP': 'GDP_PPP'}, inplace=True)\n",
    "df.rename(columns={'Percent Urban': 'Percent_Urban'}, inplace=True)"
   ]
  },
  {
   "cell_type": "code",
   "execution_count": 9,
   "metadata": {},
   "outputs": [
    {
     "name": "stdout",
     "output_type": "stream",
     "text": [
      "<class 'pandas.core.frame.DataFrame'>\n",
      "RangeIndex: 223 entries, 0 to 222\n",
      "Data columns (total 23 columns):\n",
      "cont                     223 non-null object\n",
      "name                     223 non-null object\n",
      "Pop2013                  223 non-null float64\n",
      "Area_sqkm                223 non-null float64\n",
      "coastline_km             223 non-null float64\n",
      "PopGrowthRate            223 non-null float64\n",
      "BirthRate                223 non-null float64\n",
      "DeathRate                223 non-null float64\n",
      "NetMigrationRate         220 non-null float64\n",
      "MaternalMortalityRate    183 non-null float64\n",
      "IMR                      222 non-null float64\n",
      "LifeExpectancy           222 non-null float64\n",
      "TotalFertilityRate       222 non-null float64\n",
      "AdultObesityRate         190 non-null float64\n",
      "HealthExpend             190 non-null float64\n",
      "ChildUnderwt             132 non-null float64\n",
      "ChildUnderwtYr           132 non-null float64\n",
      "GDP_PPP                  223 non-null float64\n",
      "GDP_PPP_percapita        223 non-null float64\n",
      "Percent_Urban            223 non-null float64\n",
      "contnum                  223 non-null int64\n",
      "PopDens                  223 non-null float64\n",
      "Coast_Area_Ratio         223 non-null float64\n",
      "dtypes: float64(20), int64(1), object(2)\n",
      "memory usage: 40.1+ KB\n"
     ]
    }
   ],
   "source": [
    "#check to see if all variables are the right data type\n",
    "df.info()"
   ]
  },
  {
   "cell_type": "markdown",
   "metadata": {},
   "source": [
    "Our type of data looks good, so the next step is to see what variables are missing data and how many missing values they have. We then need to decide whether to drop these variables because of the missing data, or impute values for the missing data. First, let's take a look at what variables we're missing data for and how much is missing."
   ]
  },
  {
   "cell_type": "code",
   "execution_count": 10,
   "metadata": {},
   "outputs": [
    {
     "data": {
      "text/plain": [
       "<matplotlib.axes._subplots.AxesSubplot at 0x105b64b38>"
      ]
     },
     "execution_count": 10,
     "metadata": {},
     "output_type": "execute_result"
    },
    {
     "data": {
      "image/png": "[encoded data removed]",
      "text/plain": [
       "<matplotlib.figure.Figure at 0x1045218d0>"
      ]
     },
     "metadata": {},
     "output_type": "display_data"
    }
   ],
   "source": [
    "#create matrix that shows missing data by highlighting it with white\n",
    "msno.matrix(df)"
   ]
  },
  {
   "cell_type": "code",
   "execution_count": 11,
   "metadata": {},
   "outputs": [
    {
     "data": {
      "text/plain": [
       "cont                      0\n",
       "name                      0\n",
       "Pop2013                   0\n",
       "Area_sqkm                 0\n",
       "coastline_km              0\n",
       "PopGrowthRate             0\n",
       "BirthRate                 0\n",
       "DeathRate                 0\n",
       "NetMigrationRate          3\n",
       "MaternalMortalityRate    40\n",
       "IMR                       1\n",
       "LifeExpectancy            1\n",
       "TotalFertilityRate        1\n",
       "AdultObesityRate         33\n",
       "HealthExpend             33\n",
       "ChildUnderwt             91\n",
       "ChildUnderwtYr           91\n",
       "GDP_PPP                   0\n",
       "GDP_PPP_percapita         0\n",
       "Percent_Urban             0\n",
       "contnum                   0\n",
       "PopDens                   0\n",
       "Coast_Area_Ratio          0\n",
       "dtype: int64"
      ]
     },
     "execution_count": 11,
     "metadata": {},
     "output_type": "execute_result"
    }
   ],
   "source": [
    "#shows how many missng values we have for each variable\n",
    "df.isnull().sum()"
   ]
  },
  {
   "cell_type": "markdown",
   "metadata": {},
   "source": [
    "We can see that we are missing data for 11 variables. Because the 'ChildUnderwt' and 'ChildUnderwtYr' variables have so many missing values (41.7% of countries are missing data for these variables) we just dropped them since they wouldn't be very informative. For the rest of the variables with missing data, we imputed the median value for that variable for the missing values for that variable. Using the median is a good value to impute with because we would expect, on average, for a country to have the average value of any variable, and using a median works better than the mean because means are susceptible to being skewed left or right by outliers. We define this function to impute for missing values below."
   ]
  },
  {
   "cell_type": "code",
   "execution_count": 12,
   "metadata": {},
   "outputs": [],
   "source": [
    "#drop these variables\n",
    "df.drop(columns = 'ChildUnderwt', inplace=True)\n",
    "df.drop(columns = 'ChildUnderwtYr', inplace=True)"
   ]
  },
  {
   "cell_type": "code",
   "execution_count": 13,
   "metadata": {},
   "outputs": [],
   "source": [
    "#define a function to fill missing values with median of existing values for each variable\n",
    "def mynafill(var):\n",
    "    df[var].fillna((df[var].median()), inplace=True)"
   ]
  },
  {
   "cell_type": "code",
   "execution_count": 14,
   "metadata": {},
   "outputs": [],
   "source": [
    "#perform function defined above\n",
    "mynafill(\"MaternalMortalityRate\")\n",
    "mynafill(\"NetMigrationRate\")\n",
    "mynafill(\"IMR\")\n",
    "mynafill(\"LifeExpectancy\")\n",
    "mynafill(\"TotalFertilityRate\")\n",
    "mynafill(\"AdultObesityRate\")\n",
    "mynafill(\"HealthExpend\")\n",
    "mynafill(\"GDP_PPP\")\n",
    "mynafill(\"Percent_Urban\")"
   ]
  },
  {
   "cell_type": "markdown",
   "metadata": {},
   "source": [
    "We can see below that there are no more missing data anymore. Another thing we must do before we can proceed with modeling is to put all the variables into proper scales - in this case, decimals. Some of the variables are recorded as percentages, some as number of births per 1000 people, and so on. To make everything common and comparable, I divided these variables by their respective scales, as described in the CIA Factbook in their description of what each variable represents."
   ]
  },
  {
   "cell_type": "code",
   "execution_count": 15,
   "metadata": {},
   "outputs": [
    {
     "data": {
      "text/plain": [
       "<matplotlib.axes._subplots.AxesSubplot at 0x1a17813278>"
      ]
     },
     "execution_count": 15,
     "metadata": {},
     "output_type": "execute_result"
    },
    {
     "data": {
      "image/png": "[encoded data removed]",
      "text/plain": [
       "<matplotlib.figure.Figure at 0x1a0c349cf8>"
      ]
     },
     "metadata": {},
     "output_type": "display_data"
    }
   ],
   "source": [
    "#look at matrix again to see that there are no missing values\n",
    "msno.matrix(df)"
   ]
  },
  {
   "cell_type": "code",
   "execution_count": 16,
   "metadata": {},
   "outputs": [],
   "source": [
    "#convert to decimal form\n",
    "df['Percent_Urban'] = df['Percent_Urban'] / 100\n",
    "df['BirthRate'] = df['BirthRate'] / 1000\n",
    "df['DeathRate'] = df['DeathRate'] / 1000\n",
    "df['PopGrowthRate'] = df['PopGrowthRate'] / 100\n",
    "df['IMR'] = df['IMR'] / 1000\n",
    "df['NetMigrationRate'] = df['NetMigrationRate'] / 1000\n",
    "df['MaternalMortalityRate'] = df['MaternalMortalityRate'] / 100000\n",
    "df['AdultObesityRate'] = df['AdultObesityRate'] / 100\n",
    "df['HealthExpend'] = df['HealthExpend'] / 100"
   ]
  },
  {
   "cell_type": "markdown",
   "metadata": {},
   "source": [
    "## Modeling"
   ]
  },
  {
   "cell_type": "markdown",
   "metadata": {},
   "source": [
    "With the cleaning all done, we can now split the dataframe, separating our label and target columns from the features. For our target feature, we are using the numerically differentiated continent labels- this is essential for the random forest model. Afterwords, we check to make sure it all looks good."
   ]
  },
  {
   "cell_type": "code",
   "execution_count": 17,
   "metadata": {},
   "outputs": [],
   "source": [
    "Y=df['contnum']\n",
    "cont=df['cont']\n",
    "name=df['name']\n",
    "X=df.drop(['cont', 'name', 'contnum'], axis=1)"
   ]
  },
  {
   "cell_type": "code",
   "execution_count": 18,
   "metadata": {},
   "outputs": [
    {
     "name": "stdout",
     "output_type": "stream",
     "text": [
      "[1 2 3 4 5 6]\n"
     ]
    }
   ],
   "source": [
    "print(np.unique(Y))"
   ]
  },
  {
   "cell_type": "code",
   "execution_count": 19,
   "metadata": {},
   "outputs": [
    {
     "data": {
      "text/html": [
       "<div>\n",
       "<style scoped>\n",
       "    .dataframe tbody tr th:only-of-type {\n",
       "        vertical-align: middle;\n",
       "    }\n",
       "\n",
       "    .dataframe tbody tr th {\n",
       "        vertical-align: top;\n",
       "    }\n",
       "\n",
       "    .dataframe thead th {\n",
       "        text-align: right;\n",
       "    }\n",
       "</style>\n",
       "<table border=\"1\" class=\"dataframe\">\n",
       "  <thead>\n",
       "    <tr style=\"text-align: right;\">\n",
       "      <th></th>\n",
       "      <th>Pop2013</th>\n",
       "      <th>Area_sqkm</th>\n",
       "      <th>coastline_km</th>\n",
       "      <th>PopGrowthRate</th>\n",
       "      <th>BirthRate</th>\n",
       "      <th>DeathRate</th>\n",
       "      <th>NetMigrationRate</th>\n",
       "      <th>MaternalMortalityRate</th>\n",
       "      <th>IMR</th>\n",
       "      <th>LifeExpectancy</th>\n",
       "      <th>TotalFertilityRate</th>\n",
       "      <th>AdultObesityRate</th>\n",
       "      <th>HealthExpend</th>\n",
       "      <th>GDP_PPP</th>\n",
       "      <th>GDP_PPP_percapita</th>\n",
       "      <th>Percent_Urban</th>\n",
       "      <th>PopDens</th>\n",
       "      <th>Coast_Area_Ratio</th>\n",
       "    </tr>\n",
       "  </thead>\n",
       "  <tbody>\n",
       "    <tr>\n",
       "      <th>218</th>\n",
       "      <td>2676740.0</td>\n",
       "      <td>5860.0</td>\n",
       "      <td>0.0</td>\n",
       "      <td>0.0203</td>\n",
       "      <td>0.02381</td>\n",
       "      <td>0.00353</td>\n",
       "      <td>0.00000</td>\n",
       "      <td>0.00064</td>\n",
       "      <td>0.01398</td>\n",
       "      <td>75.46</td>\n",
       "      <td>2.91</td>\n",
       "      <td>0.1995</td>\n",
       "      <td>0.066</td>\n",
       "      <td>8.022000e+09</td>\n",
       "      <td>2900.0</td>\n",
       "      <td>0.743</td>\n",
       "      <td>456.781570</td>\n",
       "      <td>0.000000</td>\n",
       "    </tr>\n",
       "    <tr>\n",
       "      <th>219</th>\n",
       "      <td>538811.0</td>\n",
       "      <td>266000.0</td>\n",
       "      <td>1110.0</td>\n",
       "      <td>0.0296</td>\n",
       "      <td>0.03118</td>\n",
       "      <td>0.00864</td>\n",
       "      <td>-0.00006</td>\n",
       "      <td>0.00066</td>\n",
       "      <td>0.05750</td>\n",
       "      <td>61.90</td>\n",
       "      <td>4.15</td>\n",
       "      <td>0.1995</td>\n",
       "      <td>0.066</td>\n",
       "      <td>9.065000e+08</td>\n",
       "      <td>2500.0</td>\n",
       "      <td>0.820</td>\n",
       "      <td>2.025605</td>\n",
       "      <td>0.004173</td>\n",
       "    </tr>\n",
       "    <tr>\n",
       "      <th>220</th>\n",
       "      <td>25408288.0</td>\n",
       "      <td>527968.0</td>\n",
       "      <td>1906.0</td>\n",
       "      <td>0.0250</td>\n",
       "      <td>0.03163</td>\n",
       "      <td>0.00664</td>\n",
       "      <td>0.00000</td>\n",
       "      <td>0.00200</td>\n",
       "      <td>0.05193</td>\n",
       "      <td>64.47</td>\n",
       "      <td>4.27</td>\n",
       "      <td>0.1450</td>\n",
       "      <td>0.052</td>\n",
       "      <td>6.006000e+10</td>\n",
       "      <td>2300.0</td>\n",
       "      <td>0.323</td>\n",
       "      <td>48.124674</td>\n",
       "      <td>0.003610</td>\n",
       "    </tr>\n",
       "    <tr>\n",
       "      <th>221</th>\n",
       "      <td>14222233.0</td>\n",
       "      <td>752618.0</td>\n",
       "      <td>0.0</td>\n",
       "      <td>0.0289</td>\n",
       "      <td>0.04279</td>\n",
       "      <td>0.01317</td>\n",
       "      <td>-0.00075</td>\n",
       "      <td>0.00440</td>\n",
       "      <td>0.06858</td>\n",
       "      <td>51.51</td>\n",
       "      <td>5.81</td>\n",
       "      <td>0.0360</td>\n",
       "      <td>0.059</td>\n",
       "      <td>2.436000e+10</td>\n",
       "      <td>1700.0</td>\n",
       "      <td>0.392</td>\n",
       "      <td>18.897014</td>\n",
       "      <td>0.000000</td>\n",
       "    </tr>\n",
       "    <tr>\n",
       "      <th>222</th>\n",
       "      <td>13182908.0</td>\n",
       "      <td>390757.0</td>\n",
       "      <td>0.0</td>\n",
       "      <td>0.0438</td>\n",
       "      <td>0.03241</td>\n",
       "      <td>0.01140</td>\n",
       "      <td>0.02276</td>\n",
       "      <td>0.00570</td>\n",
       "      <td>0.02725</td>\n",
       "      <td>53.86</td>\n",
       "      <td>3.58</td>\n",
       "      <td>0.0700</td>\n",
       "      <td>0.066</td>\n",
       "      <td>7.366000e+09</td>\n",
       "      <td>600.0</td>\n",
       "      <td>0.386</td>\n",
       "      <td>33.736844</td>\n",
       "      <td>0.000000</td>\n",
       "    </tr>\n",
       "  </tbody>\n",
       "</table>\n",
       "</div>"
      ],
      "text/plain": [
       "        Pop2013  Area_sqkm  coastline_km  PopGrowthRate  BirthRate  DeathRate  \\\n",
       "218   2676740.0     5860.0           0.0         0.0203    0.02381    0.00353   \n",
       "219    538811.0   266000.0        1110.0         0.0296    0.03118    0.00864   \n",
       "220  25408288.0   527968.0        1906.0         0.0250    0.03163    0.00664   \n",
       "221  14222233.0   752618.0           0.0         0.0289    0.04279    0.01317   \n",
       "222  13182908.0   390757.0           0.0         0.0438    0.03241    0.01140   \n",
       "\n",
       "     NetMigrationRate  MaternalMortalityRate      IMR  LifeExpectancy  \\\n",
       "218           0.00000                0.00064  0.01398           75.46   \n",
       "219          -0.00006                0.00066  0.05750           61.90   \n",
       "220           0.00000                0.00200  0.05193           64.47   \n",
       "221          -0.00075                0.00440  0.06858           51.51   \n",
       "222           0.02276                0.00570  0.02725           53.86   \n",
       "\n",
       "     TotalFertilityRate  AdultObesityRate  HealthExpend       GDP_PPP  \\\n",
       "218                2.91            0.1995         0.066  8.022000e+09   \n",
       "219                4.15            0.1995         0.066  9.065000e+08   \n",
       "220                4.27            0.1450         0.052  6.006000e+10   \n",
       "221                5.81            0.0360         0.059  2.436000e+10   \n",
       "222                3.58            0.0700         0.066  7.366000e+09   \n",
       "\n",
       "     GDP_PPP_percapita  Percent_Urban     PopDens  Coast_Area_Ratio  \n",
       "218             2900.0          0.743  456.781570          0.000000  \n",
       "219             2500.0          0.820    2.025605          0.004173  \n",
       "220             2300.0          0.323   48.124674          0.003610  \n",
       "221             1700.0          0.392   18.897014          0.000000  \n",
       "222              600.0          0.386   33.736844          0.000000  "
      ]
     },
     "execution_count": 19,
     "metadata": {},
     "output_type": "execute_result"
    }
   ],
   "source": [
    "X.tail()"
   ]
  },
  {
   "cell_type": "markdown",
   "metadata": {},
   "source": [
    "We also define a function that will plot confusion matrices of our prediction accuracies for more intuitive visualization.  We do so below."
   ]
  },
  {
   "cell_type": "code",
   "execution_count": 20,
   "metadata": {},
   "outputs": [],
   "source": [
    "import itertools\n",
    "from sklearn.metrics import confusion_matrix\n",
    "\n",
    "def plot_confusion_matrix(cm, classes,\n",
    "                          normalize=False,\n",
    "                          title='',\n",
    "                          cmap=plt.cm.Blues):\n",
    "    \"\"\"\n",
    "    This function prints and plots the confusion matrix.\n",
    "    Normalization can be applied by setting `normalize=True`.\n",
    "    \"\"\"\n",
    "    if normalize:\n",
    "        cm = cm.astype('float') / cm.sum(axis=1)[:, np.newaxis]\n",
    "        print(\"Normalized confusion matrix\")\n",
    "    else:\n",
    "        print('Confusion matrix, without normalization')\n",
    "\n",
    "    print(cm)\n",
    "\n",
    "    plt.matshow(cm, interpolation='nearest', cmap=cmap)\n",
    "    plt.title(title)\n",
    "    plt.colorbar()\n",
    "    tick_marks = np.arange(len(classes))\n",
    "    plt.xticks(tick_marks, classes, rotation=90)\n",
    "    plt.yticks(tick_marks, classes)\n",
    "\n",
    "    fmt = '.2f' if normalize else 'd'\n",
    "    thresh = cm.max() / 2.\n",
    "    for i, j in itertools.product(range(cm.shape[0]), range(cm.shape[1])):\n",
    "        plt.text(j, i, format(cm[i, j], fmt),\n",
    "                 horizontalalignment=\"center\",\n",
    "                 color=\"white\" if cm[i, j] > thresh else \"black\")\n",
    "\n",
    "    plt.ylabel('True label')\n",
    "    plt.xlabel('Predicted label')\n",
    "    plt.tight_layout()"
   ]
  },
  {
   "cell_type": "markdown",
   "metadata": {},
   "source": [
    "## KNearestNeighbors Classifier"
   ]
  },
  {
   "cell_type": "markdown",
   "metadata": {},
   "source": [
    "After splitting our data into training and testing data, we use GridSearch to evaluate which parameters produce the most accurate model.  Our analysis suggests that we should have 5 neighbors, a p value of 1, and uniform weights."
   ]
  },
  {
   "cell_type": "code",
   "execution_count": 21,
   "metadata": {},
   "outputs": [
    {
     "name": "stdout",
     "output_type": "stream",
     "text": [
      "Best Params: {'n_neighbors': 5, 'p': 1, 'weights': 'uniform'}\n",
      "Train F1: [0.54901961 0.56637168 0.52631579 0.33333333 0.54545455 0.        ]\n",
      "Test Classification Report:\n",
      "             precision    recall  f1-score   support\n",
      "\n",
      "          1       0.38      0.33      0.35         9\n",
      "          2       0.33      0.38      0.35         8\n",
      "          3       0.36      0.50      0.42         8\n",
      "          4       0.50      0.17      0.25         6\n",
      "          5       0.25      0.50      0.33         2\n",
      "          6       0.00      0.00      0.00         1\n",
      "\n",
      "avg / total       0.37      0.35      0.34        34\n",
      "\n",
      "Train Accuracy: 0.5079365079365079\tTest accuracy: 0.35294117647058826\n"
     ]
    }
   ],
   "source": [
    "X_train, X_test, y_train, y_test = train_test_split(X, Y, test_size=0.15, random_state=18)\n",
    "clf = KNeighborsClassifier()\n",
    "gridsearch = GridSearchCV(clf, {\"n_neighbors\": [1, 3, 5, 7,], \"weights\": ['uniform', 'distance'], \n",
    "                                'p': [1, 2, 3]})\n",
    "gridsearch.fit(X_train, y_train)\n",
    "print(\"Best Params: {}\".format(gridsearch.best_params_, average=None))\n",
    "y_pred_train = gridsearch.predict(X_train)\n",
    "print(\"Train F1: {}\".format(f1_score(y_train, y_pred_train, average=None)))\n",
    "print(\"Test Classification Report:\")\n",
    "y_pred_test = gridsearch.predict(X_test)\n",
    "print(classification_report(y_test, y_pred_test))\n",
    "print(\"Train Accuracy: {}\\tTest accuracy: {}\".format(accuracy_score(y_train, y_pred_train),\n",
    "                                                     accuracy_score(y_test, y_pred_test)))"
   ]
  },
  {
   "cell_type": "code",
   "execution_count": 22,
   "metadata": {},
   "outputs": [
    {
     "name": "stdout",
     "output_type": "stream",
     "text": [
      "Confusion matrix, without normalization\n",
      "[[3 2 4 0 0 0]\n",
      " [2 3 1 1 1 0]\n",
      " [3 1 4 0 0 0]\n",
      " [0 2 1 1 2 0]\n",
      " [0 0 1 0 1 0]\n",
      " [0 1 0 0 0 0]]\n"
     ]
    },
    {
     "data": {
      "text/plain": [
       "<matplotlib.figure.Figure at 0x1a178280f0>"
      ]
     },
     "metadata": {},
     "output_type": "display_data"
    },
    {
     "data": {
      "image/png": "[encoded data removed]",
      "text/plain": [
       "<matplotlib.figure.Figure at 0x1064b1978>"
      ]
     },
     "metadata": {},
     "output_type": "display_data"
    }
   ],
   "source": [
    "#Plotting the confusion matrix for this model\n",
    "y_pred = clf.fit(X_train, y_train).predict(X_test)\n",
    "# Compute confusion matrix\n",
    "cnf_matrix = confusion_matrix(y_test, y_pred)\n",
    "np.set_printoptions(precision=2)\n",
    "# Plot non-normalized confusion matrix\n",
    "plt.figure()\n",
    "plot_confusion_matrix(cnf_matrix, classes=cont_key,)\n",
    "plt.show()"
   ]
  },
  {
   "cell_type": "markdown",
   "metadata": {},
   "source": [
    "Even applying the suggested parameters in the model above, from the classification report right out of the gate we can see that our knn model is not performing very well. Even the training accuracy isn't very good, and the 35% accuracy on the testing data is abysmal.\n",
    "\n",
    "We wondered if the model would work better if we simplified the data a bit- turning a few of the continuous features into a score of relative advantage. Below, we do just that.\n",
    "\n",
    "We generate quintile categorizations for Infant Mortality Rates, Health Expenditures, Life Expectancy, and GDP per capita.  We make the IMR quintile negative as a way of scaling it to represent disadvantage in a way comparable to the other three, and then sum these 4 ordinal variables to create a score of advantage.  Given our parameters, the scores can range from -2 to 14.  "
   ]
  },
  {
   "cell_type": "code",
   "execution_count": 23,
   "metadata": {},
   "outputs": [],
   "source": [
    "X_score=X.copy()"
   ]
  },
  {
   "cell_type": "code",
   "execution_count": 24,
   "metadata": {},
   "outputs": [],
   "source": [
    "#defining a function that will produce ordinally ranked quintiles of our continuous data.\n",
    "def quintiles(var):\n",
    "    X_score[var+'q'] = pd.qcut(X_score[var] ,5, labels=[1,2,3,4,5]).astype(float)"
   ]
  },
  {
   "cell_type": "code",
   "execution_count": 25,
   "metadata": {},
   "outputs": [],
   "source": [
    "quintiles('IMR')\n",
    "quintiles('HealthExpend')\n",
    "quintiles('LifeExpectancy')\n",
    "quintiles('GDP_PPP_percapita')"
   ]
  },
  {
   "cell_type": "code",
   "execution_count": 26,
   "metadata": {},
   "outputs": [],
   "source": [
    "X_score['IMRq']*=-1\n",
    "X_score['advantage_score'] = X_score.loc[:, 'IMRq':'GDP_PPP_percapitaq'].sum(axis=1)"
   ]
  },
  {
   "cell_type": "code",
   "execution_count": 27,
   "metadata": {},
   "outputs": [],
   "source": [
    "X_score.drop(columns = 'IMR', inplace=True)\n",
    "X_score.drop(columns = 'HealthExpend', inplace=True)\n",
    "X_score.drop(columns = 'LifeExpectancy', inplace=True)\n",
    "X_score.drop(columns = 'GDP_PPP_percapita', inplace=True)"
   ]
  },
  {
   "cell_type": "code",
   "execution_count": 28,
   "metadata": {},
   "outputs": [],
   "source": [
    "X_score.drop(columns = 'IMRq', inplace=True)\n",
    "X_score.drop(columns = 'HealthExpendq', inplace=True)\n",
    "X_score.drop(columns = 'LifeExpectancyq', inplace=True)\n",
    "X_score.drop(columns = 'GDP_PPP_percapitaq', inplace=True)"
   ]
  },
  {
   "cell_type": "code",
   "execution_count": 29,
   "metadata": {},
   "outputs": [
    {
     "data": {
      "text/html": [
       "<div>\n",
       "<style scoped>\n",
       "    .dataframe tbody tr th:only-of-type {\n",
       "        vertical-align: middle;\n",
       "    }\n",
       "\n",
       "    .dataframe tbody tr th {\n",
       "        vertical-align: top;\n",
       "    }\n",
       "\n",
       "    .dataframe thead th {\n",
       "        text-align: right;\n",
       "    }\n",
       "</style>\n",
       "<table border=\"1\" class=\"dataframe\">\n",
       "  <thead>\n",
       "    <tr style=\"text-align: right;\">\n",
       "      <th></th>\n",
       "      <th>Pop2013</th>\n",
       "      <th>Area_sqkm</th>\n",
       "      <th>coastline_km</th>\n",
       "      <th>PopGrowthRate</th>\n",
       "      <th>BirthRate</th>\n",
       "      <th>DeathRate</th>\n",
       "      <th>NetMigrationRate</th>\n",
       "      <th>MaternalMortalityRate</th>\n",
       "      <th>TotalFertilityRate</th>\n",
       "      <th>AdultObesityRate</th>\n",
       "      <th>GDP_PPP</th>\n",
       "      <th>Percent_Urban</th>\n",
       "      <th>PopDens</th>\n",
       "      <th>Coast_Area_Ratio</th>\n",
       "      <th>advantage_score</th>\n",
       "    </tr>\n",
       "  </thead>\n",
       "  <tbody>\n",
       "    <tr>\n",
       "      <th>0</th>\n",
       "      <td>31108077.0</td>\n",
       "      <td>652230.0</td>\n",
       "      <td>0.0</td>\n",
       "      <td>0.0225</td>\n",
       "      <td>0.03905</td>\n",
       "      <td>0.01435</td>\n",
       "      <td>-0.00216</td>\n",
       "      <td>0.00460</td>\n",
       "      <td>5.54</td>\n",
       "      <td>0.022</td>\n",
       "      <td>3.429000e+10</td>\n",
       "      <td>0.235</td>\n",
       "      <td>47.694950</td>\n",
       "      <td>0.000000</td>\n",
       "      <td>1.0</td>\n",
       "    </tr>\n",
       "    <tr>\n",
       "      <th>1</th>\n",
       "      <td>3011405.0</td>\n",
       "      <td>28748.0</td>\n",
       "      <td>362.0</td>\n",
       "      <td>0.0029</td>\n",
       "      <td>0.01257</td>\n",
       "      <td>0.00636</td>\n",
       "      <td>-0.00332</td>\n",
       "      <td>0.00027</td>\n",
       "      <td>1.49</td>\n",
       "      <td>0.213</td>\n",
       "      <td>2.654000e+10</td>\n",
       "      <td>0.520</td>\n",
       "      <td>104.751809</td>\n",
       "      <td>0.012592</td>\n",
       "      <td>7.0</td>\n",
       "    </tr>\n",
       "    <tr>\n",
       "      <th>2</th>\n",
       "      <td>38087812.0</td>\n",
       "      <td>2381741.0</td>\n",
       "      <td>998.0</td>\n",
       "      <td>0.0190</td>\n",
       "      <td>0.02425</td>\n",
       "      <td>0.00431</td>\n",
       "      <td>-0.00093</td>\n",
       "      <td>0.00097</td>\n",
       "      <td>2.78</td>\n",
       "      <td>0.160</td>\n",
       "      <td>2.774000e+11</td>\n",
       "      <td>0.730</td>\n",
       "      <td>15.991584</td>\n",
       "      <td>0.000419</td>\n",
       "      <td>3.0</td>\n",
       "    </tr>\n",
       "    <tr>\n",
       "      <th>3</th>\n",
       "      <td>54719.0</td>\n",
       "      <td>199.0</td>\n",
       "      <td>116.0</td>\n",
       "      <td>-0.0040</td>\n",
       "      <td>0.02284</td>\n",
       "      <td>0.00462</td>\n",
       "      <td>-0.02217</td>\n",
       "      <td>0.00066</td>\n",
       "      <td>3.04</td>\n",
       "      <td>0.746</td>\n",
       "      <td>5.753000e+08</td>\n",
       "      <td>0.930</td>\n",
       "      <td>274.969849</td>\n",
       "      <td>0.582915</td>\n",
       "      <td>7.0</td>\n",
       "    </tr>\n",
       "    <tr>\n",
       "      <th>4</th>\n",
       "      <td>85293.0</td>\n",
       "      <td>468.0</td>\n",
       "      <td>0.0</td>\n",
       "      <td>0.0022</td>\n",
       "      <td>0.00888</td>\n",
       "      <td>0.00667</td>\n",
       "      <td>0.00000</td>\n",
       "      <td>0.00066</td>\n",
       "      <td>1.37</td>\n",
       "      <td>0.252</td>\n",
       "      <td>3.163000e+09</td>\n",
       "      <td>0.880</td>\n",
       "      <td>182.250000</td>\n",
       "      <td>0.000000</td>\n",
       "      <td>13.0</td>\n",
       "    </tr>\n",
       "  </tbody>\n",
       "</table>\n",
       "</div>"
      ],
      "text/plain": [
       "      Pop2013  Area_sqkm  coastline_km  PopGrowthRate  BirthRate  DeathRate  \\\n",
       "0  31108077.0   652230.0           0.0         0.0225    0.03905    0.01435   \n",
       "1   3011405.0    28748.0         362.0         0.0029    0.01257    0.00636   \n",
       "2  38087812.0  2381741.0         998.0         0.0190    0.02425    0.00431   \n",
       "3     54719.0      199.0         116.0        -0.0040    0.02284    0.00462   \n",
       "4     85293.0      468.0           0.0         0.0022    0.00888    0.00667   \n",
       "\n",
       "   NetMigrationRate  MaternalMortalityRate  TotalFertilityRate  \\\n",
       "0          -0.00216                0.00460                5.54   \n",
       "1          -0.00332                0.00027                1.49   \n",
       "2          -0.00093                0.00097                2.78   \n",
       "3          -0.02217                0.00066                3.04   \n",
       "4           0.00000                0.00066                1.37   \n",
       "\n",
       "   AdultObesityRate       GDP_PPP  Percent_Urban     PopDens  \\\n",
       "0             0.022  3.429000e+10          0.235   47.694950   \n",
       "1             0.213  2.654000e+10          0.520  104.751809   \n",
       "2             0.160  2.774000e+11          0.730   15.991584   \n",
       "3             0.746  5.753000e+08          0.930  274.969849   \n",
       "4             0.252  3.163000e+09          0.880  182.250000   \n",
       "\n",
       "   Coast_Area_Ratio  advantage_score  \n",
       "0          0.000000              1.0  \n",
       "1          0.012592              7.0  \n",
       "2          0.000419              3.0  \n",
       "3          0.582915              7.0  \n",
       "4          0.000000             13.0  "
      ]
     },
     "execution_count": 29,
     "metadata": {},
     "output_type": "execute_result"
    }
   ],
   "source": [
    "X_score.head()"
   ]
  },
  {
   "cell_type": "markdown",
   "metadata": {},
   "source": [
    "With our advantage score ready to go and the features that contribute to it dropped from the feature list, we are ready to predict parameters on the new set of data and run the tuned-up model. "
   ]
  },
  {
   "cell_type": "code",
   "execution_count": 30,
   "metadata": {},
   "outputs": [
    {
     "name": "stdout",
     "output_type": "stream",
     "text": [
      "Best Params: {'n_neighbors': 5, 'p': 1, 'weights': 'uniform'}\n",
      "Train F1: [0.55 0.57 0.53 0.33 0.55 0.  ]\n",
      "Test Classification Report:\n",
      "             precision    recall  f1-score   support\n",
      "\n",
      "          1       0.38      0.33      0.35         9\n",
      "          2       0.33      0.38      0.35         8\n",
      "          3       0.36      0.50      0.42         8\n",
      "          4       0.50      0.17      0.25         6\n",
      "          5       0.25      0.50      0.33         2\n",
      "          6       0.00      0.00      0.00         1\n",
      "\n",
      "avg / total       0.37      0.35      0.34        34\n",
      "\n",
      "Train Accuracy: 0.5079365079365079\tTest accuracy: 0.35294117647058826\n"
     ]
    }
   ],
   "source": [
    "X_train, X_test, y_train, y_test = train_test_split(X_score, Y, test_size=0.15, random_state=18)\n",
    "clf = KNeighborsClassifier()\n",
    "gridsearch = GridSearchCV(clf, {\"n_neighbors\": [1, 3, 5, 7,], \"weights\": ['uniform', 'distance'], \n",
    "                                'p': [1, 2, 3]})\n",
    "gridsearch.fit(X_train, y_train)\n",
    "print(\"Best Params: {}\".format(gridsearch.best_params_, average=None))\n",
    "y_pred_train = gridsearch.predict(X_train)\n",
    "print(\"Train F1: {}\".format(f1_score(y_train, y_pred_train, average=None)))\n",
    "print(\"Test Classification Report:\")\n",
    "y_pred_test = gridsearch.predict(X_test)\n",
    "print(classification_report(y_test, y_pred_test))\n",
    "print(\"Train Accuracy: {}\\tTest accuracy: {}\".format(accuracy_score(y_train, y_pred_train),\n",
    "                                                     accuracy_score(y_test, y_pred_test)))"
   ]
  },
  {
   "cell_type": "markdown",
   "metadata": {},
   "source": [
    "The suggested parameters remained the same as the first model. Unfortunately, this feature engineering had no effect on the accuracy of our model. Instead, we turn to an entirely new model."
   ]
  },
  {
   "cell_type": "markdown",
   "metadata": {},
   "source": [
    "## Random Forest Classifier"
   ]
  },
  {
   "cell_type": "markdown",
   "metadata": {},
   "source": [
    "We decided to try our random forest model on two different sets of the data.\n",
    "\n",
    "The first model we feed the same dataframe as the last knn model- the set that includes the score of advantage.\n",
    "\n",
    "For the second model, knowing that decision trees should theoretically work best on categorical data, we run the model on a dataset in which we have reduced all of our features into binned categorical quintiles.\n",
    "\n",
    "Immediately below we create that categorical data."
   ]
  },
  {
   "cell_type": "code",
   "execution_count": 31,
   "metadata": {},
   "outputs": [],
   "source": [
    "#X_cat is going to be our categorical dataset\n",
    "X_cat=X.copy()"
   ]
  },
  {
   "cell_type": "code",
   "execution_count": 32,
   "metadata": {},
   "outputs": [],
   "source": [
    "#tweaking our quintile function\n",
    "def quintiles(var):\n",
    "    X_cat[var+'q'] = pd.qcut(X_cat[var] ,5, labels=[1,2,3,4,5]).astype(float)"
   ]
  },
  {
   "cell_type": "code",
   "execution_count": 33,
   "metadata": {},
   "outputs": [],
   "source": [
    "quintiles('Pop2013')\n",
    "quintiles('Area_sqkm')\n",
    "quintiles('coastline_km')\n",
    "quintiles('PopGrowthRate')\n",
    "quintiles('BirthRate')\n",
    "quintiles('DeathRate')\n",
    "quintiles('NetMigrationRate')\n",
    "quintiles('MaternalMortalityRate')\n",
    "quintiles('TotalFertilityRate')\n",
    "quintiles('AdultObesityRate')\n",
    "quintiles('GDP_PPP')\n",
    "quintiles('Percent_Urban')\n",
    "quintiles('PopDens')\n",
    "quintiles('Coast_Area_Ratio')\n",
    "quintiles('IMR')\n",
    "quintiles('HealthExpend')\n",
    "quintiles('LifeExpectancy')\n",
    "quintiles('GDP_PPP_percapita')"
   ]
  },
  {
   "cell_type": "code",
   "execution_count": 34,
   "metadata": {},
   "outputs": [],
   "source": [
    "X_cat.drop(columns = X_cat.loc[:, 'Pop2013':'Coast_Area_Ratio'], inplace=True)"
   ]
  },
  {
   "cell_type": "code",
   "execution_count": 35,
   "metadata": {},
   "outputs": [
    {
     "data": {
      "text/html": [
       "<div>\n",
       "<style scoped>\n",
       "    .dataframe tbody tr th:only-of-type {\n",
       "        vertical-align: middle;\n",
       "    }\n",
       "\n",
       "    .dataframe tbody tr th {\n",
       "        vertical-align: top;\n",
       "    }\n",
       "\n",
       "    .dataframe thead th {\n",
       "        text-align: right;\n",
       "    }\n",
       "</style>\n",
       "<table border=\"1\" class=\"dataframe\">\n",
       "  <thead>\n",
       "    <tr style=\"text-align: right;\">\n",
       "      <th></th>\n",
       "      <th>Pop2013q</th>\n",
       "      <th>Area_sqkmq</th>\n",
       "      <th>coastline_kmq</th>\n",
       "      <th>PopGrowthRateq</th>\n",
       "      <th>BirthRateq</th>\n",
       "      <th>DeathRateq</th>\n",
       "      <th>NetMigrationRateq</th>\n",
       "      <th>MaternalMortalityRateq</th>\n",
       "      <th>TotalFertilityRateq</th>\n",
       "      <th>AdultObesityRateq</th>\n",
       "      <th>GDP_PPPq</th>\n",
       "      <th>Percent_Urbanq</th>\n",
       "      <th>PopDensq</th>\n",
       "      <th>Coast_Area_Ratioq</th>\n",
       "      <th>IMRq</th>\n",
       "      <th>HealthExpendq</th>\n",
       "      <th>LifeExpectancyq</th>\n",
       "      <th>GDP_PPP_percapitaq</th>\n",
       "    </tr>\n",
       "  </thead>\n",
       "  <tbody>\n",
       "    <tr>\n",
       "      <th>0</th>\n",
       "      <td>5.0</td>\n",
       "      <td>5.0</td>\n",
       "      <td>1.0</td>\n",
       "      <td>5.0</td>\n",
       "      <td>5.0</td>\n",
       "      <td>5.0</td>\n",
       "      <td>2.0</td>\n",
       "      <td>5.0</td>\n",
       "      <td>5.0</td>\n",
       "      <td>1.0</td>\n",
       "      <td>3.0</td>\n",
       "      <td>1.0</td>\n",
       "      <td>2.0</td>\n",
       "      <td>1.0</td>\n",
       "      <td>5.0</td>\n",
       "      <td>4.0</td>\n",
       "      <td>1.0</td>\n",
       "      <td>1.0</td>\n",
       "    </tr>\n",
       "    <tr>\n",
       "      <th>1</th>\n",
       "      <td>2.0</td>\n",
       "      <td>2.0</td>\n",
       "      <td>3.0</td>\n",
       "      <td>2.0</td>\n",
       "      <td>2.0</td>\n",
       "      <td>2.0</td>\n",
       "      <td>1.0</td>\n",
       "      <td>2.0</td>\n",
       "      <td>1.0</td>\n",
       "      <td>4.0</td>\n",
       "      <td>3.0</td>\n",
       "      <td>3.0</td>\n",
       "      <td>3.0</td>\n",
       "      <td>3.0</td>\n",
       "      <td>3.0</td>\n",
       "      <td>3.0</td>\n",
       "      <td>4.0</td>\n",
       "      <td>3.0</td>\n",
       "    </tr>\n",
       "    <tr>\n",
       "      <th>2</th>\n",
       "      <td>5.0</td>\n",
       "      <td>5.0</td>\n",
       "      <td>4.0</td>\n",
       "      <td>4.0</td>\n",
       "      <td>4.0</td>\n",
       "      <td>1.0</td>\n",
       "      <td>2.0</td>\n",
       "      <td>4.0</td>\n",
       "      <td>4.0</td>\n",
       "      <td>2.0</td>\n",
       "      <td>4.0</td>\n",
       "      <td>4.0</td>\n",
       "      <td>1.0</td>\n",
       "      <td>2.0</td>\n",
       "      <td>4.0</td>\n",
       "      <td>1.0</td>\n",
       "      <td>4.0</td>\n",
       "      <td>2.0</td>\n",
       "    </tr>\n",
       "    <tr>\n",
       "      <th>3</th>\n",
       "      <td>1.0</td>\n",
       "      <td>1.0</td>\n",
       "      <td>2.0</td>\n",
       "      <td>1.0</td>\n",
       "      <td>4.0</td>\n",
       "      <td>1.0</td>\n",
       "      <td>1.0</td>\n",
       "      <td>3.0</td>\n",
       "      <td>4.0</td>\n",
       "      <td>5.0</td>\n",
       "      <td>1.0</td>\n",
       "      <td>5.0</td>\n",
       "      <td>5.0</td>\n",
       "      <td>5.0</td>\n",
       "      <td>2.0</td>\n",
       "      <td>3.0</td>\n",
       "      <td>3.0</td>\n",
       "      <td>3.0</td>\n",
       "    </tr>\n",
       "    <tr>\n",
       "      <th>4</th>\n",
       "      <td>1.0</td>\n",
       "      <td>1.0</td>\n",
       "      <td>1.0</td>\n",
       "      <td>2.0</td>\n",
       "      <td>1.0</td>\n",
       "      <td>2.0</td>\n",
       "      <td>3.0</td>\n",
       "      <td>3.0</td>\n",
       "      <td>1.0</td>\n",
       "      <td>4.0</td>\n",
       "      <td>2.0</td>\n",
       "      <td>5.0</td>\n",
       "      <td>4.0</td>\n",
       "      <td>1.0</td>\n",
       "      <td>1.0</td>\n",
       "      <td>4.0</td>\n",
       "      <td>5.0</td>\n",
       "      <td>5.0</td>\n",
       "    </tr>\n",
       "  </tbody>\n",
       "</table>\n",
       "</div>"
      ],
      "text/plain": [
       "   Pop2013q  Area_sqkmq  coastline_kmq  PopGrowthRateq  BirthRateq  \\\n",
       "0       5.0         5.0            1.0             5.0         5.0   \n",
       "1       2.0         2.0            3.0             2.0         2.0   \n",
       "2       5.0         5.0            4.0             4.0         4.0   \n",
       "3       1.0         1.0            2.0             1.0         4.0   \n",
       "4       1.0         1.0            1.0             2.0         1.0   \n",
       "\n",
       "   DeathRateq  NetMigrationRateq  MaternalMortalityRateq  TotalFertilityRateq  \\\n",
       "0         5.0                2.0                     5.0                  5.0   \n",
       "1         2.0                1.0                     2.0                  1.0   \n",
       "2         1.0                2.0                     4.0                  4.0   \n",
       "3         1.0                1.0                     3.0                  4.0   \n",
       "4         2.0                3.0                     3.0                  1.0   \n",
       "\n",
       "   AdultObesityRateq  GDP_PPPq  Percent_Urbanq  PopDensq  Coast_Area_Ratioq  \\\n",
       "0                1.0       3.0             1.0       2.0                1.0   \n",
       "1                4.0       3.0             3.0       3.0                3.0   \n",
       "2                2.0       4.0             4.0       1.0                2.0   \n",
       "3                5.0       1.0             5.0       5.0                5.0   \n",
       "4                4.0       2.0             5.0       4.0                1.0   \n",
       "\n",
       "   IMRq  HealthExpendq  LifeExpectancyq  GDP_PPP_percapitaq  \n",
       "0   5.0            4.0              1.0                 1.0  \n",
       "1   3.0            3.0              4.0                 3.0  \n",
       "2   4.0            1.0              4.0                 2.0  \n",
       "3   2.0            3.0              3.0                 3.0  \n",
       "4   1.0            4.0              5.0                 5.0  "
      ]
     },
     "execution_count": 35,
     "metadata": {},
     "output_type": "execute_result"
    }
   ],
   "source": [
    "X_cat.head()"
   ]
  },
  {
   "cell_type": "markdown",
   "metadata": {},
   "source": [
    "With both sets of data ready to go, we begin training our model.  Using train test split (and a handy method of finding the best f1 score that was modeled in Tyler's lecture) we evaluate the best parameters for our model. "
   ]
  },
  {
   "cell_type": "code",
   "execution_count": 36,
   "metadata": {},
   "outputs": [
    {
     "name": "stdout",
     "output_type": "stream",
     "text": [
      "1000 5 balanced\n",
      "1000 5 None\n",
      "1000 10 balanced\n",
      "1000 10 None\n",
      "1000 15 balanced\n",
      "1000 15 None\n",
      "750 5 balanced\n",
      "750 5 None\n",
      "750 10 balanced\n",
      "750 10 None\n",
      "750 15 balanced\n",
      "750 15 None\n",
      "500 5 balanced\n",
      "500 5 None\n",
      "500 10 balanced\n",
      "500 10 None\n",
      "500 15 balanced\n",
      "500 15 None\n"
     ]
    }
   ],
   "source": [
    "X_train, X_test, y_train, y_test = train_test_split(X_score, Y, test_size=0.15, random_state=18)\n",
    "\n",
    "n_estimators = [1000, 750, 500]\n",
    "max_depth = [5, 10, 15]\n",
    "class_weights = ['balanced', None]\n",
    "best_f1 = 0\n",
    "\n",
    "for est in n_estimators:\n",
    "    for depth in max_depth:\n",
    "        for wgt in class_weights:\n",
    "            print(est, depth, wgt)\n",
    "            rf = RandomForestClassifier(n_estimators=est, max_depth=depth, oob_score=True, class_weight=wgt)\n",
    "            rf.fit(X_train, y_train)\n",
    "            f1 = f1_score(y_train, np.argmax(rf.oob_decision_function_ , 1), average='micro')\n",
    "            if f1 > best_f1:\n",
    "                best_f1 = f1\n",
    "                best_params = (est, depth, wgt)"
   ]
  },
  {
   "cell_type": "code",
   "execution_count": 37,
   "metadata": {},
   "outputs": [
    {
     "name": "stdout",
     "output_type": "stream",
     "text": [
      "Best OOB F1: 0.06878306878306878\n",
      "Best params: (500, 5, 'balanced')\n"
     ]
    }
   ],
   "source": [
    "print(\"Best OOB F1: {}\".format(best_f1))\n",
    "print(\"Best params: {}\".format(best_params))"
   ]
  },
  {
   "cell_type": "markdown",
   "metadata": {},
   "source": [
    "Using the parameters suggested by our analysis, we find that our model is remarkably accurate on the training data, classifying over 90% of the data correctly.  Given the confusion we expected over regions such as Oceania and the Carribean, this is somewhat exciting."
   ]
  },
  {
   "cell_type": "code",
   "execution_count": 38,
   "metadata": {},
   "outputs": [
    {
     "name": "stdout",
     "output_type": "stream",
     "text": [
      "             precision    recall  f1-score   support\n",
      "\n",
      "          1       0.95      0.98      0.97        43\n",
      "          2       1.00      0.87      0.93        47\n",
      "          3       0.97      0.95      0.96        40\n",
      "          4       0.85      1.00      0.92        28\n",
      "          5       1.00      1.00      1.00        19\n",
      "          6       0.92      1.00      0.96        12\n",
      "\n",
      "avg / total       0.96      0.95      0.95       189\n",
      "\n"
     ]
    }
   ],
   "source": [
    "rf = RandomForestClassifier(n_estimators=750, max_depth=5, class_weight='balanced')\n",
    "rf.fit(X_train, y_train)\n",
    "train_predictions5 = rf.predict(X_train)\n",
    "print(classification_report(y_train, train_predictions5))"
   ]
  },
  {
   "cell_type": "code",
   "execution_count": 39,
   "metadata": {},
   "outputs": [
    {
     "name": "stdout",
     "output_type": "stream",
     "text": [
      "             precision    recall  f1-score   support\n",
      "\n",
      "          1       0.86      0.67      0.75         9\n",
      "          2       0.86      0.75      0.80         8\n",
      "          3       0.89      1.00      0.94         8\n",
      "          4       0.57      0.67      0.62         6\n",
      "          5       1.00      1.00      1.00         2\n",
      "          6       0.00      0.00      0.00         1\n",
      "\n",
      "avg / total       0.80      0.76      0.78        34\n",
      "\n"
     ]
    }
   ],
   "source": [
    "rf = RandomForestClassifier(n_estimators=750, max_depth=5, class_weight='balanced')\n",
    "rf.fit(X_train, y_train)\n",
    "test_pred1 = rf.predict(X_test)\n",
    "print(classification_report(y_test, test_pred1))"
   ]
  },
  {
   "cell_type": "code",
   "execution_count": 40,
   "metadata": {},
   "outputs": [
    {
     "name": "stdout",
     "output_type": "stream",
     "text": [
      "Confusion matrix, without normalization\n",
      "[[5 2 0 1 0 1]\n",
      " [0 6 0 1 0 1]\n",
      " [0 0 8 0 0 0]\n",
      " [1 0 1 4 0 0]\n",
      " [0 0 0 0 2 0]\n",
      " [0 0 0 1 0 0]]\n"
     ]
    },
    {
     "data": {
      "text/plain": [
       "<matplotlib.figure.Figure at 0x1a17ea07b8>"
      ]
     },
     "metadata": {},
     "output_type": "display_data"
    },
    {
     "data": {
      "image/png": "[encoded data removed]",
      "text/plain": [
       "<matplotlib.figure.Figure at 0x1a17ea0390>"
      ]
     },
     "metadata": {},
     "output_type": "display_data"
    }
   ],
   "source": [
    "#Plotting the confusion matrix for this model\n",
    "y_pred = rf.fit(X_train, y_train).predict(X_test)\n",
    "# Compute confusion matrix\n",
    "cnf_matrix = confusion_matrix(y_test, y_pred)\n",
    "np.set_printoptions(precision=2)\n",
    "# Plot non-normalized confusion matrix\n",
    "plt.figure()\n",
    "plot_confusion_matrix(cnf_matrix, classes=cont_key,)\n",
    "plt.show()"
   ]
  },
  {
   "cell_type": "markdown",
   "metadata": {},
   "source": [
    "Using our trained model on our test set, we see that accuracy drops almost 20%, but compared to our knn models dismal performance, and in light of the geographic confusion we noted expecting, having nearly 80% accuracy is fantastic. "
   ]
  },
  {
   "cell_type": "code",
   "execution_count": 41,
   "metadata": {},
   "outputs": [],
   "source": [
    "from sklearn.model_selection import learning_curve\n",
    "from sklearn.metrics import make_scorer\n",
    "## source: http://scikit-learn.org/0.15/auto_examples/plot_learning_curve.html\n",
    "def plot_learning_curve(estimator, title, X, y, ylim=None, cv=None,\n",
    "                        n_jobs=1, train_sizes=np.linspace(.1, 1.0, 5)):\n",
    "    plt.figure()\n",
    "    plt.title(title)\n",
    "    if ylim is not None:\n",
    "        plt.ylim(*ylim)\n",
    "    plt.xlabel(\"Training examples\")\n",
    "    plt.ylabel(\"Score\")\n",
    "    train_sizes, train_scores, test_scores = learning_curve(estimator, X, y, cv=cv, n_jobs=n_jobs, train_sizes=train_sizes, scoring=make_scorer(mean_squared_error))\n",
    "    train_scores_mean = np.mean(train_scores, axis=1)\n",
    "    train_scores_std = np.std(train_scores, axis=1)\n",
    "    test_scores_mean = np.mean(test_scores, axis=1)\n",
    "    test_scores_std = np.std(test_scores, axis=1)\n",
    "    plt.grid()\n",
    "\n",
    "    plt.fill_between(train_sizes, train_scores_mean - train_scores_std,\n",
    "                     train_scores_mean + train_scores_std, alpha=0.1,\n",
    "                     color=\"r\")\n",
    "    plt.fill_between(train_sizes, test_scores_mean - test_scores_std,\n",
    "                     test_scores_mean + test_scores_std, alpha=0.1, color=\"g\")\n",
    "    plt.plot(train_sizes, train_scores_mean, 'o-', color=\"r\",\n",
    "             label=\"Training score\")\n",
    "    plt.plot(train_sizes, test_scores_mean, 'o-', color=\"g\",\n",
    "             label=\"Cross-validation score\")\n",
    "\n",
    "    plt.legend(loc=\"best\")\n",
    "    return plt"
   ]
  },
  {
   "cell_type": "code",
   "execution_count": 42,
   "metadata": {},
   "outputs": [
    {
     "data": {
      "text/plain": [
       "<module 'matplotlib.pyplot' from '/Users/brycebangerter/anaconda3/lib/python3.6/site-packages/matplotlib/pyplot.py'>"
      ]
     },
     "execution_count": 42,
     "metadata": {},
     "output_type": "execute_result"
    },
    {
     "data": {
      "image/png": "[encoded data removed]",
      "text/plain": [
       "<matplotlib.figure.Figure at 0x1a17f18390>"
      ]
     },
     "metadata": {},
     "output_type": "display_data"
    }
   ],
   "source": [
    "plot_learning_curve(rf, \"Learning Curve\", X_train, y_train)"
   ]
  },
  {
   "cell_type": "code",
   "execution_count": 43,
   "metadata": {},
   "outputs": [
    {
     "data": {
      "text/plain": [
       "<module 'matplotlib.pyplot' from '/Users/brycebangerter/anaconda3/lib/python3.6/site-packages/matplotlib/pyplot.py'>"
      ]
     },
     "execution_count": 43,
     "metadata": {},
     "output_type": "execute_result"
    },
    {
     "data": {
      "image/png": "[encoded data removed]",
      "text/plain": [
       "<matplotlib.figure.Figure at 0x1a17dc9438>"
      ]
     },
     "metadata": {},
     "output_type": "display_data"
    }
   ],
   "source": [
    "plot_learning_curve(rf, \"Learning Curve\", X_test, y_test)"
   ]
  },
  {
   "cell_type": "markdown",
   "metadata": {},
   "source": [
    "Alright, we've run our first model with the more normal data set, and from the looks of our accuracy as well as the MSE visualed above by our learning curve, it looks like we're doing pretty well. An MSE of 1.5 ish is not too bad in the context of our model.  Both the training and testing learning curves look pretty good. (The second graph is the test graph). \n",
    "\n",
    "Now we'll see how the categorical version of the data runs in the model."
   ]
  },
  {
   "cell_type": "code",
   "execution_count": 44,
   "metadata": {},
   "outputs": [
    {
     "name": "stdout",
     "output_type": "stream",
     "text": [
      "1000 5 balanced\n",
      "1000 5 None\n",
      "1000 10 balanced\n",
      "1000 10 None\n",
      "1000 15 balanced\n",
      "1000 15 None\n",
      "750 5 balanced\n",
      "750 5 None\n",
      "750 10 balanced\n",
      "750 10 None\n",
      "750 15 balanced\n",
      "750 15 None\n",
      "500 5 balanced\n",
      "500 5 None\n",
      "500 10 balanced\n",
      "500 10 None\n",
      "500 15 balanced\n",
      "500 15 None\n"
     ]
    }
   ],
   "source": [
    "X_train, X_test, y_train, y_test = train_test_split(X_cat, Y, test_size=0.15, random_state=18)\n",
    "\n",
    "n_estimators = [1000, 750, 500]\n",
    "max_depth = [5, 10, 15]\n",
    "class_weights = ['balanced', None]\n",
    "best_f1 = 0\n",
    "\n",
    "for est in n_estimators:\n",
    "    for depth in max_depth:\n",
    "        for wgt in class_weights:\n",
    "            print(est, depth, wgt)\n",
    "            rf = RandomForestClassifier(n_estimators=est, max_depth=depth, oob_score=True, class_weight=wgt)\n",
    "            rf.fit(X_train, y_train)\n",
    "            f1 = f1_score(y_train, np.argmax(rf.oob_decision_function_ , 1), average='micro')\n",
    "            if f1 > best_f1:\n",
    "                best_f1 = f1\n",
    "                best_params = (est, depth, wgt)"
   ]
  },
  {
   "cell_type": "code",
   "execution_count": 45,
   "metadata": {},
   "outputs": [
    {
     "name": "stdout",
     "output_type": "stream",
     "text": [
      "Best OOB F1: 0.06349206349206349\n",
      "Best params: (1000, 5, 'balanced')\n"
     ]
    }
   ],
   "source": [
    "print(\"Best OOB F1: {}\".format(best_f1))\n",
    "print(\"Best params: {}\".format(best_params))"
   ]
  },
  {
   "cell_type": "markdown",
   "metadata": {},
   "source": [
    "Using the parameters suggested by our analysis above, we run our model on the training data and can already see a slight decrease in accuracy compared to the previous model."
   ]
  },
  {
   "cell_type": "code",
   "execution_count": 46,
   "metadata": {},
   "outputs": [
    {
     "name": "stdout",
     "output_type": "stream",
     "text": [
      "             precision    recall  f1-score   support\n",
      "\n",
      "          1       0.84      0.88      0.86        43\n",
      "          2       1.00      0.85      0.92        47\n",
      "          3       0.93      0.95      0.94        40\n",
      "          4       0.89      0.89      0.89        28\n",
      "          5       1.00      0.95      0.97        19\n",
      "          6       0.71      1.00      0.83        12\n",
      "\n",
      "avg / total       0.91      0.90      0.91       189\n",
      "\n"
     ]
    }
   ],
   "source": [
    "rf = RandomForestClassifier(n_estimators=500, max_depth=5, class_weight='balanced')\n",
    "rf.fit(X_train, y_train)\n",
    "train_predictions5 = rf.predict(X_train)\n",
    "print(classification_report(y_train, train_predictions5))"
   ]
  },
  {
   "cell_type": "code",
   "execution_count": 47,
   "metadata": {},
   "outputs": [
    {
     "name": "stdout",
     "output_type": "stream",
     "text": [
      "             precision    recall  f1-score   support\n",
      "\n",
      "          1       0.86      0.67      0.75         9\n",
      "          2       0.86      0.75      0.80         8\n",
      "          3       1.00      1.00      1.00         8\n",
      "          4       0.56      0.83      0.67         6\n",
      "          5       1.00      0.50      0.67         2\n",
      "          6       0.00      0.00      0.00         1\n",
      "\n",
      "avg / total       0.82      0.76      0.78        34\n",
      "\n"
     ]
    }
   ],
   "source": [
    "rf = RandomForestClassifier(n_estimators=500, max_depth=5, class_weight='balanced')\n",
    "rf.fit(X_train, y_train)\n",
    "test_pred1 = rf.predict(X_test)\n",
    "print(classification_report(y_test, test_pred1))"
   ]
  },
  {
   "cell_type": "markdown",
   "metadata": {},
   "source": [
    "Looking at the accuracy of the model on the testing data, we also see a small decrease from the first random forest model. "
   ]
  },
  {
   "cell_type": "code",
   "execution_count": 48,
   "metadata": {},
   "outputs": [
    {
     "data": {
      "text/plain": [
       "0.9024774201977267"
      ]
     },
     "execution_count": 48,
     "metadata": {},
     "output_type": "execute_result"
    }
   ],
   "source": [
    "f1_score(y_train, train_predictions5, average = 'macro')"
   ]
  },
  {
   "cell_type": "markdown",
   "metadata": {},
   "source": [
    "Turns out the all categorical data set performed worse in the random forest model, despite our theoretical idea that it would be easier for the model to process and classify. This is an interesting, unexpected finding.  \n",
    "But in better news, we're happy with the performance of the first model!"
   ]
  },
  {
   "cell_type": "markdown",
   "metadata": {},
   "source": [
    "## Boosting"
   ]
  },
  {
   "cell_type": "markdown",
   "metadata": {},
   "source": [
    "Boosting is another ensemble techinque like random forests, but boosting trains multiple models/trees sequentially where each each model/tree tries to improve on the areas where the previous models/trees performed poorly. It slowly learns and penalizes misclassifications by weighting them more heavily until the final model/tree does the best job of predicting classifications for each observation. Boosting has the tendency to overfit, but this isn't something we worry about happening because we have a data set that includes the entire population. \n",
    "\n",
    "Below, we run the boosting model and measure its accuracy through an f1 score, which is a metric that measures how well the model does at precision and recall, balancing the two. "
   ]
  },
  {
   "cell_type": "code",
   "execution_count": 49,
   "metadata": {},
   "outputs": [
    {
     "data": {
      "text/html": [
       "<div>\n",
       "<style scoped>\n",
       "    .dataframe tbody tr th:only-of-type {\n",
       "        vertical-align: middle;\n",
       "    }\n",
       "\n",
       "    .dataframe tbody tr th {\n",
       "        vertical-align: top;\n",
       "    }\n",
       "\n",
       "    .dataframe thead th {\n",
       "        text-align: right;\n",
       "    }\n",
       "</style>\n",
       "<table border=\"1\" class=\"dataframe\">\n",
       "  <thead>\n",
       "    <tr style=\"text-align: right;\">\n",
       "      <th></th>\n",
       "      <th>cont</th>\n",
       "      <th>name</th>\n",
       "      <th>Pop2013</th>\n",
       "      <th>Area_sqkm</th>\n",
       "      <th>coastline_km</th>\n",
       "      <th>PopGrowthRate</th>\n",
       "      <th>BirthRate</th>\n",
       "      <th>DeathRate</th>\n",
       "      <th>NetMigrationRate</th>\n",
       "      <th>MaternalMortalityRate</th>\n",
       "      <th>...</th>\n",
       "      <th>LifeExpectancy</th>\n",
       "      <th>TotalFertilityRate</th>\n",
       "      <th>AdultObesityRate</th>\n",
       "      <th>HealthExpend</th>\n",
       "      <th>GDP_PPP</th>\n",
       "      <th>GDP_PPP_percapita</th>\n",
       "      <th>Percent_Urban</th>\n",
       "      <th>contnum</th>\n",
       "      <th>PopDens</th>\n",
       "      <th>Coast_Area_Ratio</th>\n",
       "    </tr>\n",
       "  </thead>\n",
       "  <tbody>\n",
       "    <tr>\n",
       "      <th>0</th>\n",
       "      <td>Asia</td>\n",
       "      <td>Afghanistan</td>\n",
       "      <td>31108077.0</td>\n",
       "      <td>652230.0</td>\n",
       "      <td>0.0</td>\n",
       "      <td>0.0225</td>\n",
       "      <td>0.03905</td>\n",
       "      <td>0.01435</td>\n",
       "      <td>-0.00216</td>\n",
       "      <td>0.00460</td>\n",
       "      <td>...</td>\n",
       "      <td>50.11</td>\n",
       "      <td>5.54</td>\n",
       "      <td>0.022</td>\n",
       "      <td>0.076</td>\n",
       "      <td>3.429000e+10</td>\n",
       "      <td>1100.0</td>\n",
       "      <td>0.235</td>\n",
       "      <td>1</td>\n",
       "      <td>47.694950</td>\n",
       "      <td>0.000000</td>\n",
       "    </tr>\n",
       "    <tr>\n",
       "      <th>1</th>\n",
       "      <td>Europe</td>\n",
       "      <td>Albania</td>\n",
       "      <td>3011405.0</td>\n",
       "      <td>28748.0</td>\n",
       "      <td>362.0</td>\n",
       "      <td>0.0029</td>\n",
       "      <td>0.01257</td>\n",
       "      <td>0.00636</td>\n",
       "      <td>-0.00332</td>\n",
       "      <td>0.00027</td>\n",
       "      <td>...</td>\n",
       "      <td>77.77</td>\n",
       "      <td>1.49</td>\n",
       "      <td>0.213</td>\n",
       "      <td>0.066</td>\n",
       "      <td>2.654000e+10</td>\n",
       "      <td>8200.0</td>\n",
       "      <td>0.520</td>\n",
       "      <td>3</td>\n",
       "      <td>104.751809</td>\n",
       "      <td>0.012592</td>\n",
       "    </tr>\n",
       "    <tr>\n",
       "      <th>2</th>\n",
       "      <td>Africa</td>\n",
       "      <td>Algeria</td>\n",
       "      <td>38087812.0</td>\n",
       "      <td>2381741.0</td>\n",
       "      <td>998.0</td>\n",
       "      <td>0.0190</td>\n",
       "      <td>0.02425</td>\n",
       "      <td>0.00431</td>\n",
       "      <td>-0.00093</td>\n",
       "      <td>0.00097</td>\n",
       "      <td>...</td>\n",
       "      <td>76.18</td>\n",
       "      <td>2.78</td>\n",
       "      <td>0.160</td>\n",
       "      <td>0.042</td>\n",
       "      <td>2.774000e+11</td>\n",
       "      <td>7600.0</td>\n",
       "      <td>0.730</td>\n",
       "      <td>2</td>\n",
       "      <td>15.991584</td>\n",
       "      <td>0.000419</td>\n",
       "    </tr>\n",
       "    <tr>\n",
       "      <th>3</th>\n",
       "      <td>Oceania</td>\n",
       "      <td>American Samoa</td>\n",
       "      <td>54719.0</td>\n",
       "      <td>199.0</td>\n",
       "      <td>116.0</td>\n",
       "      <td>-0.0040</td>\n",
       "      <td>0.02284</td>\n",
       "      <td>0.00462</td>\n",
       "      <td>-0.02217</td>\n",
       "      <td>0.00066</td>\n",
       "      <td>...</td>\n",
       "      <td>74.68</td>\n",
       "      <td>3.04</td>\n",
       "      <td>0.746</td>\n",
       "      <td>0.066</td>\n",
       "      <td>5.753000e+08</td>\n",
       "      <td>8000.0</td>\n",
       "      <td>0.930</td>\n",
       "      <td>5</td>\n",
       "      <td>274.969849</td>\n",
       "      <td>0.582915</td>\n",
       "    </tr>\n",
       "    <tr>\n",
       "      <th>4</th>\n",
       "      <td>Europe</td>\n",
       "      <td>Andorra</td>\n",
       "      <td>85293.0</td>\n",
       "      <td>468.0</td>\n",
       "      <td>0.0</td>\n",
       "      <td>0.0022</td>\n",
       "      <td>0.00888</td>\n",
       "      <td>0.00667</td>\n",
       "      <td>0.00000</td>\n",
       "      <td>0.00066</td>\n",
       "      <td>...</td>\n",
       "      <td>82.58</td>\n",
       "      <td>1.37</td>\n",
       "      <td>0.252</td>\n",
       "      <td>0.075</td>\n",
       "      <td>3.163000e+09</td>\n",
       "      <td>37200.0</td>\n",
       "      <td>0.880</td>\n",
       "      <td>3</td>\n",
       "      <td>182.250000</td>\n",
       "      <td>0.000000</td>\n",
       "    </tr>\n",
       "  </tbody>\n",
       "</table>\n",
       "<p>5 rows × 21 columns</p>\n",
       "</div>"
      ],
      "text/plain": [
       "      cont            name     Pop2013  Area_sqkm  coastline_km  \\\n",
       "0     Asia     Afghanistan  31108077.0   652230.0           0.0   \n",
       "1   Europe         Albania   3011405.0    28748.0         362.0   \n",
       "2   Africa         Algeria  38087812.0  2381741.0         998.0   \n",
       "3  Oceania  American Samoa     54719.0      199.0         116.0   \n",
       "4   Europe         Andorra     85293.0      468.0           0.0   \n",
       "\n",
       "   PopGrowthRate  BirthRate  DeathRate  NetMigrationRate  \\\n",
       "0         0.0225    0.03905    0.01435          -0.00216   \n",
       "1         0.0029    0.01257    0.00636          -0.00332   \n",
       "2         0.0190    0.02425    0.00431          -0.00093   \n",
       "3        -0.0040    0.02284    0.00462          -0.02217   \n",
       "4         0.0022    0.00888    0.00667           0.00000   \n",
       "\n",
       "   MaternalMortalityRate        ...         LifeExpectancy  \\\n",
       "0                0.00460        ...                  50.11   \n",
       "1                0.00027        ...                  77.77   \n",
       "2                0.00097        ...                  76.18   \n",
       "3                0.00066        ...                  74.68   \n",
       "4                0.00066        ...                  82.58   \n",
       "\n",
       "   TotalFertilityRate  AdultObesityRate  HealthExpend       GDP_PPP  \\\n",
       "0                5.54             0.022         0.076  3.429000e+10   \n",
       "1                1.49             0.213         0.066  2.654000e+10   \n",
       "2                2.78             0.160         0.042  2.774000e+11   \n",
       "3                3.04             0.746         0.066  5.753000e+08   \n",
       "4                1.37             0.252         0.075  3.163000e+09   \n",
       "\n",
       "   GDP_PPP_percapita  Percent_Urban  contnum     PopDens  Coast_Area_Ratio  \n",
       "0             1100.0          0.235        1   47.694950          0.000000  \n",
       "1             8200.0          0.520        3  104.751809          0.012592  \n",
       "2             7600.0          0.730        2   15.991584          0.000419  \n",
       "3             8000.0          0.930        5  274.969849          0.582915  \n",
       "4            37200.0          0.880        3  182.250000          0.000000  \n",
       "\n",
       "[5 rows x 21 columns]"
      ]
     },
     "execution_count": 49,
     "metadata": {},
     "output_type": "execute_result"
    }
   ],
   "source": [
    "#view the first 5 rows of data\n",
    "df.head()"
   ]
  },
  {
   "cell_type": "code",
   "execution_count": 50,
   "metadata": {},
   "outputs": [],
   "source": [
    "#create new data frame that doesn't have the classification variables\n",
    "df1 = df.drop(['cont', 'name', 'contnum'], axis=1)"
   ]
  },
  {
   "cell_type": "code",
   "execution_count": 51,
   "metadata": {},
   "outputs": [],
   "source": [
    "#Break up dataset into train and test subsets for training and testing the model\n",
    "X_train, X_test, y_train, y_test = train_test_split(df1, df.cont, test_size=0.20, random_state=42)"
   ]
  },
  {
   "cell_type": "code",
   "execution_count": 52,
   "metadata": {},
   "outputs": [
    {
     "data": {
      "text/html": [
       "<div>\n",
       "<style scoped>\n",
       "    .dataframe tbody tr th:only-of-type {\n",
       "        vertical-align: middle;\n",
       "    }\n",
       "\n",
       "    .dataframe tbody tr th {\n",
       "        vertical-align: top;\n",
       "    }\n",
       "\n",
       "    .dataframe thead th {\n",
       "        text-align: right;\n",
       "    }\n",
       "</style>\n",
       "<table border=\"1\" class=\"dataframe\">\n",
       "  <thead>\n",
       "    <tr style=\"text-align: right;\">\n",
       "      <th></th>\n",
       "      <th>Pop2013</th>\n",
       "      <th>Area_sqkm</th>\n",
       "      <th>coastline_km</th>\n",
       "      <th>PopGrowthRate</th>\n",
       "      <th>BirthRate</th>\n",
       "      <th>DeathRate</th>\n",
       "      <th>NetMigrationRate</th>\n",
       "      <th>MaternalMortalityRate</th>\n",
       "      <th>IMR</th>\n",
       "      <th>LifeExpectancy</th>\n",
       "      <th>TotalFertilityRate</th>\n",
       "      <th>AdultObesityRate</th>\n",
       "      <th>HealthExpend</th>\n",
       "      <th>GDP_PPP</th>\n",
       "      <th>GDP_PPP_percapita</th>\n",
       "      <th>Percent_Urban</th>\n",
       "      <th>PopDens</th>\n",
       "      <th>Coast_Area_Ratio</th>\n",
       "    </tr>\n",
       "  </thead>\n",
       "  <tbody>\n",
       "    <tr>\n",
       "      <th>127</th>\n",
       "      <td>69747.0</td>\n",
       "      <td>181.0</td>\n",
       "      <td>370.0</td>\n",
       "      <td>0.0179</td>\n",
       "      <td>0.02721</td>\n",
       "      <td>0.00427</td>\n",
       "      <td>-0.00500</td>\n",
       "      <td>0.00066</td>\n",
       "      <td>0.02215</td>\n",
       "      <td>72.31</td>\n",
       "      <td>3.29</td>\n",
       "      <td>0.4540</td>\n",
       "      <td>0.181</td>\n",
       "      <td>4.818000e+08</td>\n",
       "      <td>8800.0</td>\n",
       "      <td>0.720</td>\n",
       "      <td>385.342541</td>\n",
       "      <td>2.044199</td>\n",
       "    </tr>\n",
       "    <tr>\n",
       "      <th>66</th>\n",
       "      <td>896758.0</td>\n",
       "      <td>18274.0</td>\n",
       "      <td>1129.0</td>\n",
       "      <td>0.0073</td>\n",
       "      <td>0.02028</td>\n",
       "      <td>0.00596</td>\n",
       "      <td>-0.00699</td>\n",
       "      <td>0.00026</td>\n",
       "      <td>0.01046</td>\n",
       "      <td>71.87</td>\n",
       "      <td>2.54</td>\n",
       "      <td>0.3060</td>\n",
       "      <td>0.049</td>\n",
       "      <td>4.373000e+09</td>\n",
       "      <td>4900.0</td>\n",
       "      <td>0.520</td>\n",
       "      <td>49.072890</td>\n",
       "      <td>0.061782</td>\n",
       "    </tr>\n",
       "    <tr>\n",
       "      <th>73</th>\n",
       "      <td>4555911.0</td>\n",
       "      <td>69700.0</td>\n",
       "      <td>310.0</td>\n",
       "      <td>-0.0033</td>\n",
       "      <td>0.01072</td>\n",
       "      <td>0.01017</td>\n",
       "      <td>-0.00386</td>\n",
       "      <td>0.00067</td>\n",
       "      <td>0.01421</td>\n",
       "      <td>77.51</td>\n",
       "      <td>1.46</td>\n",
       "      <td>0.2210</td>\n",
       "      <td>0.101</td>\n",
       "      <td>2.711000e+10</td>\n",
       "      <td>6000.0</td>\n",
       "      <td>0.528</td>\n",
       "      <td>65.364577</td>\n",
       "      <td>0.004448</td>\n",
       "    </tr>\n",
       "    <tr>\n",
       "      <th>96</th>\n",
       "      <td>86159.0</td>\n",
       "      <td>572.0</td>\n",
       "      <td>160.0</td>\n",
       "      <td>0.0084</td>\n",
       "      <td>0.01127</td>\n",
       "      <td>0.00999</td>\n",
       "      <td>0.00711</td>\n",
       "      <td>0.00066</td>\n",
       "      <td>0.00422</td>\n",
       "      <td>80.87</td>\n",
       "      <td>1.95</td>\n",
       "      <td>0.1995</td>\n",
       "      <td>0.066</td>\n",
       "      <td>4.076000e+09</td>\n",
       "      <td>53800.0</td>\n",
       "      <td>0.510</td>\n",
       "      <td>150.627622</td>\n",
       "      <td>0.279720</td>\n",
       "    </tr>\n",
       "    <tr>\n",
       "      <th>119</th>\n",
       "      <td>583003.0</td>\n",
       "      <td>28.0</td>\n",
       "      <td>41.0</td>\n",
       "      <td>0.0085</td>\n",
       "      <td>0.00903</td>\n",
       "      <td>0.00397</td>\n",
       "      <td>0.00343</td>\n",
       "      <td>0.00066</td>\n",
       "      <td>0.00315</td>\n",
       "      <td>84.46</td>\n",
       "      <td>0.93</td>\n",
       "      <td>0.1995</td>\n",
       "      <td>0.066</td>\n",
       "      <td>4.719000e+10</td>\n",
       "      <td>82400.0</td>\n",
       "      <td>1.000</td>\n",
       "      <td>20821.535714</td>\n",
       "      <td>1.464286</td>\n",
       "    </tr>\n",
       "  </tbody>\n",
       "</table>\n",
       "</div>"
      ],
      "text/plain": [
       "       Pop2013  Area_sqkm  coastline_km  PopGrowthRate  BirthRate  DeathRate  \\\n",
       "127    69747.0      181.0         370.0         0.0179    0.02721    0.00427   \n",
       "66    896758.0    18274.0        1129.0         0.0073    0.02028    0.00596   \n",
       "73   4555911.0    69700.0         310.0        -0.0033    0.01072    0.01017   \n",
       "96     86159.0      572.0         160.0         0.0084    0.01127    0.00999   \n",
       "119   583003.0       28.0          41.0         0.0085    0.00903    0.00397   \n",
       "\n",
       "     NetMigrationRate  MaternalMortalityRate      IMR  LifeExpectancy  \\\n",
       "127          -0.00500                0.00066  0.02215           72.31   \n",
       "66           -0.00699                0.00026  0.01046           71.87   \n",
       "73           -0.00386                0.00067  0.01421           77.51   \n",
       "96            0.00711                0.00066  0.00422           80.87   \n",
       "119           0.00343                0.00066  0.00315           84.46   \n",
       "\n",
       "     TotalFertilityRate  AdultObesityRate  HealthExpend       GDP_PPP  \\\n",
       "127                3.29            0.4540         0.181  4.818000e+08   \n",
       "66                 2.54            0.3060         0.049  4.373000e+09   \n",
       "73                 1.46            0.2210         0.101  2.711000e+10   \n",
       "96                 1.95            0.1995         0.066  4.076000e+09   \n",
       "119                0.93            0.1995         0.066  4.719000e+10   \n",
       "\n",
       "     GDP_PPP_percapita  Percent_Urban       PopDens  Coast_Area_Ratio  \n",
       "127             8800.0          0.720    385.342541          2.044199  \n",
       "66              4900.0          0.520     49.072890          0.061782  \n",
       "73              6000.0          0.528     65.364577          0.004448  \n",
       "96             53800.0          0.510    150.627622          0.279720  \n",
       "119            82400.0          1.000  20821.535714          1.464286  "
      ]
     },
     "execution_count": 52,
     "metadata": {},
     "output_type": "execute_result"
    }
   ],
   "source": [
    "#view the first 5 rows of training data\n",
    "X_train.head()"
   ]
  },
  {
   "cell_type": "code",
   "execution_count": 53,
   "metadata": {},
   "outputs": [],
   "source": [
    "#define the gradient boosting model\n",
    "clf = GradientBoostingClassifier()"
   ]
  },
  {
   "cell_type": "code",
   "execution_count": 54,
   "metadata": {},
   "outputs": [],
   "source": [
    "#create a cross-validation function that will find optimal hyperparameters for boosting model\n",
    "gridsearch = GridSearchCV(clf, {\"learning_rate\": [.1, .01, .001], \"n_estimators\": [100, 1000, 5000], \n",
    "                                'max_depth': [1, 2, 3]}, scoring='f1_micro')"
   ]
  },
  {
   "cell_type": "code",
   "execution_count": 55,
   "metadata": {},
   "outputs": [
    {
     "data": {
      "text/plain": [
       "GridSearchCV(cv=None, error_score='raise',\n",
       "       estimator=GradientBoostingClassifier(criterion='friedman_mse', init=None,\n",
       "              learning_rate=0.1, loss='deviance', max_depth=3,\n",
       "              max_features=None, max_leaf_nodes=None,\n",
       "              min_impurity_decrease=0.0, min_impurity_split=None,\n",
       "              min_samples_leaf=1, min_samples_split=2,\n",
       "              min_weight_fraction_leaf=0.0, n_estimators=100,\n",
       "              presort='auto', random_state=None, subsample=1.0, verbose=0,\n",
       "              warm_start=False),\n",
       "       fit_params={}, iid=True, n_jobs=1,\n",
       "       param_grid={'learning_rate': [0.1, 0.01, 0.001], 'n_estimators': [100, 1000, 5000], 'max_depth': [1, 2, 3]},\n",
       "       pre_dispatch='2*n_jobs', refit=True, scoring='f1_micro', verbose=0)"
      ]
     },
     "execution_count": 55,
     "metadata": {},
     "output_type": "execute_result"
    }
   ],
   "source": [
    "#fit the model to the training data\n",
    "gridsearch.fit(X_train, y_train)"
   ]
  },
  {
   "cell_type": "code",
   "execution_count": 56,
   "metadata": {},
   "outputs": [
    {
     "name": "stdout",
     "output_type": "stream",
     "text": [
      "Best Params: {'learning_rate': 0.1, 'max_depth': 1, 'n_estimators': 100}\n",
      "\n",
      "Classification Report (TEST):\n",
      "               precision    recall  f1-score   support\n",
      "\n",
      "       Africa       0.92      0.85      0.88        13\n",
      "         Asia       0.71      0.62      0.67         8\n",
      "       Europe       0.76      0.87      0.81        15\n",
      "North America       0.25      1.00      0.40         2\n",
      "      Oceania       1.00      0.20      0.33         5\n",
      "South America       0.00      0.00      0.00         2\n",
      "\n",
      "  avg / total       0.77      0.71      0.70        45\n",
      "\n",
      "\n",
      "Classification Report (TRAIN):\n",
      "               precision    recall  f1-score   support\n",
      "\n",
      "       Africa       0.97      0.93      0.95        42\n",
      "         Asia       0.98      0.98      0.98        44\n",
      "       Europe       0.97      0.97      0.97        33\n",
      "North America       0.89      0.97      0.93        32\n",
      "      Oceania       1.00      0.94      0.97        16\n",
      "South America       1.00      1.00      1.00        11\n",
      "\n",
      "  avg / total       0.96      0.96      0.96       178\n",
      "\n"
     ]
    }
   ],
   "source": [
    "#print the best parameters found from cross-validation and the results of the model for train and test subsets\n",
    "print(\"Best Params: {}\".format(gridsearch.best_params_))\n",
    "print(\"\\nClassification Report (TEST):\")\n",
    "print(classification_report(y_test, gridsearch.predict(X_test)))\n",
    "print(\"\\nClassification Report (TRAIN):\")\n",
    "print(classification_report(y_train, gridsearch.predict(X_train)))"
   ]
  },
  {
   "cell_type": "code",
   "execution_count": 57,
   "metadata": {},
   "outputs": [
    {
     "data": {
      "text/plain": [
       "Asia             44\n",
       "Africa           42\n",
       "Europe           33\n",
       "North America    32\n",
       "Oceania          16\n",
       "South America    11\n",
       "Name: cont, dtype: int64"
      ]
     },
     "execution_count": 57,
     "metadata": {},
     "output_type": "execute_result"
    }
   ],
   "source": [
    "#see how many of each continent are in the dataset\n",
    "y_train.value_counts()"
   ]
  },
  {
   "cell_type": "code",
   "execution_count": 58,
   "metadata": {},
   "outputs": [
    {
     "name": "stdout",
     "output_type": "stream",
     "text": [
      "Confusion matrix, without normalization\n",
      "[[10  1  0  2  0  0]\n",
      " [ 1  5  2  0  0  0]\n",
      " [ 0  0 13  2  0  0]\n",
      " [ 0  1  0  1  0  0]\n",
      " [ 0  0  2  2  1  0]\n",
      " [ 0  1  1  0  0  0]]\n"
     ]
    },
    {
     "data": {
      "text/plain": [
       "<matplotlib.figure.Figure at 0x1a17d6db38>"
      ]
     },
     "metadata": {},
     "output_type": "display_data"
    },
    {
     "data": {
      "image/png": "[encoded data removed]",
      "text/plain": [
       "<matplotlib.figure.Figure at 0x1a178b4b70>"
      ]
     },
     "metadata": {},
     "output_type": "display_data"
    }
   ],
   "source": [
    "#Plotting the confusion matrix for this model\n",
    "y_pred = clf.fit(X_train, y_train).predict(X_test)\n",
    "# Compute confusion matrix\n",
    "cnf_matrix = confusion_matrix(y_test, y_pred)\n",
    "np.set_printoptions(precision=2)\n",
    "# Plot non-normalized confusion matrix\n",
    "plt.figure()\n",
    "plot_confusion_matrix(cnf_matrix, classes=cont_key,)\n",
    "plt.show()"
   ]
  },
  {
   "cell_type": "markdown",
   "metadata": {},
   "source": [
    "We can see from our results above that the model did really well in the training set, but worse in the testing set, although it is still fairly accurate. The areas that it performed poorly in were South America, Oceania, and North America. This is likely due to the fact that South America had only two countries in the testing set and 11 in the training set, making it hard for the model to predict something that occurs so infrequently. Additionally, we can see that Oceania did perfect in precision but poor in recall, and the opposite for North America. This shows that it overpredicted North America for everything that could be a North American or Oceanian country or that North America was hard to predict because there were only two North American countries in the testing set. That would explain the results for precision and recall for these two continents. \n",
    "\n",
    "Next, we try to run the boosting model again, but this time with less features, as maybe the model overfits too much on the training set, causing the testing set predictions to be poor. Below is our model on this new set of data. "
   ]
  },
  {
   "cell_type": "code",
   "execution_count": 59,
   "metadata": {},
   "outputs": [],
   "source": [
    "#create new dataset that has less features\n",
    "df_reduced = df.drop(['coastline_km', 'PopDens', 'HealthExpend', 'AdultObesityRate', 'MaternalMortalityRate', 'GDP_PPP', 'PopGrowthRate'], axis=1)"
   ]
  },
  {
   "cell_type": "code",
   "execution_count": 60,
   "metadata": {},
   "outputs": [],
   "source": [
    "#create new dataset that drops the classification variables from the dataset previously created\n",
    "df_reduced1 = df_reduced.drop(['cont', 'name', 'contnum'], axis=1)"
   ]
  },
  {
   "cell_type": "code",
   "execution_count": 61,
   "metadata": {},
   "outputs": [],
   "source": [
    "#break up data into train and test subsets\n",
    "X_train2, X_test2, y_train2, y_test2 = train_test_split(df_reduced1, df_reduced.cont, test_size=0.20, random_state=42)"
   ]
  },
  {
   "cell_type": "code",
   "execution_count": 62,
   "metadata": {},
   "outputs": [
    {
     "data": {
      "text/plain": [
       "GridSearchCV(cv=None, error_score='raise',\n",
       "       estimator=GradientBoostingClassifier(criterion='friedman_mse', init=None,\n",
       "              learning_rate=0.1, loss='deviance', max_depth=3,\n",
       "              max_features=None, max_leaf_nodes=None,\n",
       "              min_impurity_decrease=0.0, min_impurity_split=None,\n",
       "              min_samples_leaf=1, min_samples_split=2,\n",
       "              min_weight_fraction_leaf=0.0, n_estimators=100,\n",
       "              presort='auto', random_state=None, subsample=1.0, verbose=0,\n",
       "              warm_start=False),\n",
       "       fit_params={}, iid=True, n_jobs=1,\n",
       "       param_grid={'learning_rate': [0.1, 0.01, 0.001], 'n_estimators': [100, 1000, 5000], 'max_depth': [1, 2, 3]},\n",
       "       pre_dispatch='2*n_jobs', refit=True, scoring='f1_micro', verbose=0)"
      ]
     },
     "execution_count": 62,
     "metadata": {},
     "output_type": "execute_result"
    }
   ],
   "source": [
    "#fit model to training data\n",
    "gridsearch.fit(X_train2, y_train2)"
   ]
  },
  {
   "cell_type": "code",
   "execution_count": 63,
   "metadata": {},
   "outputs": [
    {
     "name": "stdout",
     "output_type": "stream",
     "text": [
      "Best Params: {'learning_rate': 0.1, 'max_depth': 1, 'n_estimators': 1000}\n",
      "\n",
      "Classification Report (TEST):\n",
      "               precision    recall  f1-score   support\n",
      "\n",
      "       Africa       0.91      0.77      0.83        13\n",
      "         Asia       0.75      0.75      0.75         8\n",
      "       Europe       0.82      0.93      0.87        15\n",
      "North America       0.33      1.00      0.50         2\n",
      "      Oceania       1.00      0.40      0.57         5\n",
      "South America       1.00      0.50      0.67         2\n",
      "\n",
      "  avg / total       0.84      0.78      0.78        45\n",
      "\n",
      "\n",
      "Classification Report (TRAIN):\n",
      "               precision    recall  f1-score   support\n",
      "\n",
      "       Africa       1.00      1.00      1.00        42\n",
      "         Asia       1.00      1.00      1.00        44\n",
      "       Europe       1.00      1.00      1.00        33\n",
      "North America       1.00      1.00      1.00        32\n",
      "      Oceania       1.00      1.00      1.00        16\n",
      "South America       1.00      1.00      1.00        11\n",
      "\n",
      "  avg / total       1.00      1.00      1.00       178\n",
      "\n"
     ]
    }
   ],
   "source": [
    "#print the best parameters found from cross-validation and the results of the model for train and test subsets\n",
    "print(\"Best Params: {}\".format(gridsearch.best_params_))\n",
    "print(\"\\nClassification Report (TEST):\")\n",
    "print(classification_report(y_test2, gridsearch.predict(X_test2)))\n",
    "print(\"\\nClassification Report (TRAIN):\")\n",
    "print(classification_report(y_train2, gridsearch.predict(X_train2)))"
   ]
  },
  {
   "cell_type": "code",
   "execution_count": 64,
   "metadata": {},
   "outputs": [
    {
     "name": "stdout",
     "output_type": "stream",
     "text": [
      "Confusion matrix, without normalization\n",
      "[[ 8  3  0  2  0  0]\n",
      " [ 1  6  1  0  0  0]\n",
      " [ 0  0 15  0  0  0]\n",
      " [ 0  0  0  2  0  0]\n",
      " [ 0  0  1  2  2  0]\n",
      " [ 0  1  0  0  0  1]]\n"
     ]
    },
    {
     "data": {
      "text/plain": [
       "<matplotlib.figure.Figure at 0x1a11e9f898>"
      ]
     },
     "metadata": {},
     "output_type": "display_data"
    },
    {
     "data": {
      "image/png": "[encoded data removed]",
      "text/plain": [
       "<matplotlib.figure.Figure at 0x1a17e79f60>"
      ]
     },
     "metadata": {},
     "output_type": "display_data"
    }
   ],
   "source": [
    "#Plotting the confusion matrix for this model\n",
    "y_pred = clf.fit(X_train2, y_train2).predict(X_test2)\n",
    "# Compute confusion matrix\n",
    "cnf_matrix = confusion_matrix(y_test2, y_pred)\n",
    "np.set_printoptions(precision=2)\n",
    "# Plot non-normalized confusion matrix\n",
    "plt.figure()\n",
    "plot_confusion_matrix(cnf_matrix, classes=cont_key,)\n",
    "plt.show()"
   ]
  },
  {
   "cell_type": "markdown",
   "metadata": {},
   "source": [
    "We can see in our results above that it did perfect in the training set and fairly well in the testing set, outperforming the first model.\n",
    "\n",
    "Next, let's try creating the model on a subset of the data (with the reduced features that performed the best) and then testing its predictions on the entire dataset. We conduct this test below."
   ]
  },
  {
   "cell_type": "code",
   "execution_count": 65,
   "metadata": {},
   "outputs": [],
   "source": [
    "#break up data into train and test subsets \n",
    "X_train2, X_test2, y_train2, y_test2 = train_test_split(df_reduced1, df_reduced.cont, test_size=0.20, random_state=42)"
   ]
  },
  {
   "cell_type": "code",
   "execution_count": 66,
   "metadata": {},
   "outputs": [
    {
     "data": {
      "text/plain": [
       "GridSearchCV(cv=None, error_score='raise',\n",
       "       estimator=GradientBoostingClassifier(criterion='friedman_mse', init=None,\n",
       "              learning_rate=0.1, loss='deviance', max_depth=3,\n",
       "              max_features=None, max_leaf_nodes=None,\n",
       "              min_impurity_decrease=0.0, min_impurity_split=None,\n",
       "              min_samples_leaf=1, min_samples_split=2,\n",
       "              min_weight_fraction_leaf=0.0, n_estimators=100,\n",
       "              presort='auto', random_state=None, subsample=1.0, verbose=0,\n",
       "              warm_start=False),\n",
       "       fit_params={}, iid=True, n_jobs=1,\n",
       "       param_grid={'learning_rate': [0.1, 0.01, 0.001], 'n_estimators': [100, 1000, 5000], 'max_depth': [1, 2, 3]},\n",
       "       pre_dispatch='2*n_jobs', refit=True, scoring='f1_micro', verbose=0)"
      ]
     },
     "execution_count": 66,
     "metadata": {},
     "output_type": "execute_result"
    }
   ],
   "source": [
    "#fit the model to the training data\n",
    "gridsearch.fit(X_train2, y_train2)"
   ]
  },
  {
   "cell_type": "code",
   "execution_count": 67,
   "metadata": {},
   "outputs": [
    {
     "name": "stdout",
     "output_type": "stream",
     "text": [
      "\n",
      "Classification Report (TOTAL):\n",
      "               precision    recall  f1-score   support\n",
      "\n",
      "       Africa       0.98      0.95      0.96        55\n",
      "         Asia       0.96      0.96      0.96        52\n",
      "       Europe       0.94      0.98      0.96        48\n",
      "North America       0.89      1.00      0.94        34\n",
      "      Oceania       1.00      0.86      0.92        21\n",
      "South America       1.00      0.92      0.96        13\n",
      "\n",
      "  avg / total       0.96      0.96      0.96       223\n",
      "\n"
     ]
    }
   ],
   "source": [
    "#print the results of the model from running it on the entire dataset\n",
    "print(\"\\nClassification Report (TOTAL):\")\n",
    "print(classification_report(df.cont, gridsearch.predict(df_reduced1)))"
   ]
  },
  {
   "cell_type": "code",
   "execution_count": 68,
   "metadata": {},
   "outputs": [
    {
     "name": "stdout",
     "output_type": "stream",
     "text": [
      "Confusion matrix, without normalization\n",
      "[[50  3  0  2  0  0]\n",
      " [ 1 50  1  0  0  0]\n",
      " [ 0  0 48  0  0  0]\n",
      " [ 0  0  0 34  0  0]\n",
      " [ 0  0  1  2 18  0]\n",
      " [ 0  1  0  0  0 12]]\n"
     ]
    },
    {
     "data": {
      "text/plain": [
       "<matplotlib.figure.Figure at 0x1a14b62390>"
      ]
     },
     "metadata": {},
     "output_type": "display_data"
    },
    {
     "data": {
      "image/png": "[encoded data removed]",
      "text/plain": [
       "<matplotlib.figure.Figure at 0x1a17f28780>"
      ]
     },
     "metadata": {},
     "output_type": "display_data"
    }
   ],
   "source": [
    "#Plotting the confusion matrix for this model\n",
    "y_pred = clf.fit(X_train2, y_train2).predict(df_reduced1)\n",
    "# Compute confusion matrix\n",
    "cnf_matrix = confusion_matrix(df_reduced.cont, y_pred)\n",
    "np.set_printoptions(precision=2)\n",
    "# Plot non-normalized confusion matrix\n",
    "plt.figure()\n",
    "plot_confusion_matrix(cnf_matrix, classes=cont_key,)\n",
    "plt.show()"
   ]
  },
  {
   "cell_type": "markdown",
   "metadata": {},
   "source": [
    "Great! We see that the model performs really well on the full data set, with an F1 score of .96."
   ]
  },
  {
   "cell_type": "markdown",
   "metadata": {},
   "source": [
    "## t-SNE"
   ]
  },
  {
   "cell_type": "markdown",
   "metadata": {},
   "source": [
    "t-SNE is a visualization tool that compresses high-dimensional data into 2 dimensions through PCA. These first dimension is the axis that explains the most variance of any other axis and then the second component is the dimension orthogonal to the first. The purpose of doing t-SNE is to be able to view high dimensional data. The model tries to separate and cluster data points that belong to the same class.\n",
    "\n",
    "In the code below, I reduce the dimensionality to 2 principal components and feed this compressed data into the t-SNE model to visualize it. The value of the perplexity parameter I chose was the one that did the best job of separating, clustering, and visualizing the data. We can see that the model is not great, but it does do a decent job of clumping the North American and Oceania countries. However, these points seem to be bunched together, likely due to the fact the model may have a hard time differentiating between the Oceania islands and the Caribbean and Virgin Islands that belong to North America. Africa is clustered pretty well in the middle of the graph. South America seems to be pretty spread out, which is to be expected because it is the continent with the least amount of countries. It's hard for a model to classify when there aren't a lot of observations to learn from. "
   ]
  },
  {
   "cell_type": "code",
   "execution_count": 71,
   "metadata": {},
   "outputs": [],
   "source": [
    "#create new dataset that contains all observations with no classification variables\n",
    "df_total = df.drop(['cont', 'name', 'contnum'], axis=1)"
   ]
  },
  {
   "cell_type": "code",
   "execution_count": 84,
   "metadata": {},
   "outputs": [],
   "source": [
    "#define pca function to compress data to 2 components and fit it to data\n",
    "pca = PCA(n_components=2)\n",
    "df_pca = pca.fit_transform(df_total)"
   ]
  },
  {
   "cell_type": "code",
   "execution_count": 85,
   "metadata": {},
   "outputs": [
    {
     "name": "stdout",
     "output_type": "stream",
     "text": [
      "[t-SNE] Computing 76 nearest neighbors...\n",
      "[t-SNE] Indexed 223 samples in 0.000s...\n",
      "[t-SNE] Computed neighbors for 223 samples in 0.004s...\n",
      "[t-SNE] Computed conditional probabilities for sample 223 / 223\n",
      "[t-SNE] Mean sigma: 245718027.161373\n",
      "[t-SNE] KL divergence after 250 iterations with early exaggeration: 43.831837\n",
      "[t-SNE] Error after 1450 iterations: 0.103503\n"
     ]
    }
   ],
   "source": [
    "#define t-SNE and its parameters and fit it to the compressed data\n",
    "tsne = TSNE(n_components=2, verbose=1, perplexity=25, n_iter=2000, learning_rate=10)\n",
    "tsne_results = tsne.fit_transform(df_pca)"
   ]
  },
  {
   "cell_type": "code",
   "execution_count": 86,
   "metadata": {},
   "outputs": [],
   "source": [
    "#create dataframe with the results of t-SNE\n",
    "df_tsne = pd.DataFrame(tsne_results, columns=['comp1', 'comp2'])\n",
    "df_tsne['label'] = df.cont"
   ]
  },
  {
   "cell_type": "code",
   "execution_count": 87,
   "metadata": {},
   "outputs": [
    {
     "data": {
      "text/plain": [
       "<seaborn.axisgrid.FacetGrid at 0x1a14622828>"
      ]
     },
     "execution_count": 87,
     "metadata": {},
     "output_type": "execute_result"
    },
    {
     "data": {
      "image/png": "[encoded data removed]",
      "text/plain": [
       "<matplotlib.figure.Figure at 0x1a14622160>"
      ]
     },
     "metadata": {},
     "output_type": "display_data"
    }
   ],
   "source": [
    "#create visualization of t-SNE\n",
    "sns.lmplot(x='comp1', y='comp2', data=df_tsne, hue='label', fit_reg=False)"
   ]
  },
  {
   "cell_type": "markdown",
   "metadata": {},
   "source": [
    "## Conclusion"
   ]
  },
  {
   "cell_type": "markdown",
   "metadata": {},
   "source": [
    "To conclude, we see that our models did a fair job in classifying countries to their respective continents. The F1 scores show that the model performed fairly well. It would be interesting to do another run through these models but with more data for each country. The World Factbook provides more data on more variables that aren't compiled in the downloadable dataset. If we manually input these data into our dataset, perhaps the model would be able to classify even better with this added information. \n",
    "\n",
    "Our models show that given a set of demographic, geographic, and economic data for countries, we can accurately predict what continent each country belongs to, and gives us insight into trends, similarities, and differences between contries within and across continents. "
   ]
  }
 ],
 "metadata": {
  "kernelspec": {
   "display_name": "Python 3",
   "language": "python",
   "name": "python3"
  },
  "language_info": {
   "codemirror_mode": {
    "name": "ipython",
    "version": 3
   },
   "file_extension": ".py",
   "mimetype": "text/x-python",
   "name": "python",
   "nbconvert_exporter": "python",
   "pygments_lexer": "ipython3",
   "version": "3.6.4"
  }
 },
 "nbformat": 4,
 "nbformat_minor": 2
}
