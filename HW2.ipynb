{
 "cells": [
  {
   "cell_type": "code",
   "execution_count": 1,
   "metadata": {},
   "outputs": [],
   "source": [
    "#import the packages needed for this project\n",
    "import pandas as pd\n",
    "import seaborn as sns\n",
    "import matplotlib.pyplot as plt\n",
    "import numpy as np\n",
    "%matplotlib inline"
   ]
  },
  {
   "cell_type": "code",
   "execution_count": 2,
   "metadata": {},
   "outputs": [
    {
     "data": {
      "text/html": [
       "<div>\n",
       "<style scoped>\n",
       "    .dataframe tbody tr th:only-of-type {\n",
       "        vertical-align: middle;\n",
       "    }\n",
       "\n",
       "    .dataframe tbody tr th {\n",
       "        vertical-align: top;\n",
       "    }\n",
       "\n",
       "    .dataframe thead th {\n",
       "        text-align: right;\n",
       "    }\n",
       "</style>\n",
       "<table border=\"1\" class=\"dataframe\">\n",
       "  <thead>\n",
       "    <tr style=\"text-align: right;\">\n",
       "      <th></th>\n",
       "      <th>Id</th>\n",
       "      <th>MSSubClass</th>\n",
       "      <th>MSZoning</th>\n",
       "      <th>LotFrontage</th>\n",
       "      <th>LotArea</th>\n",
       "      <th>Street</th>\n",
       "      <th>Alley</th>\n",
       "      <th>LotShape</th>\n",
       "      <th>LandContour</th>\n",
       "      <th>Utilities</th>\n",
       "      <th>...</th>\n",
       "      <th>PoolArea</th>\n",
       "      <th>PoolQC</th>\n",
       "      <th>Fence</th>\n",
       "      <th>MiscFeature</th>\n",
       "      <th>MiscVal</th>\n",
       "      <th>MoSold</th>\n",
       "      <th>YrSold</th>\n",
       "      <th>SaleType</th>\n",
       "      <th>SaleCondition</th>\n",
       "      <th>SalePrice</th>\n",
       "    </tr>\n",
       "  </thead>\n",
       "  <tbody>\n",
       "    <tr>\n",
       "      <th>0</th>\n",
       "      <td>1</td>\n",
       "      <td>60</td>\n",
       "      <td>RL</td>\n",
       "      <td>65.0</td>\n",
       "      <td>8450</td>\n",
       "      <td>Pave</td>\n",
       "      <td>NaN</td>\n",
       "      <td>Reg</td>\n",
       "      <td>Lvl</td>\n",
       "      <td>AllPub</td>\n",
       "      <td>...</td>\n",
       "      <td>0</td>\n",
       "      <td>NaN</td>\n",
       "      <td>NaN</td>\n",
       "      <td>NaN</td>\n",
       "      <td>0</td>\n",
       "      <td>2</td>\n",
       "      <td>2008</td>\n",
       "      <td>WD</td>\n",
       "      <td>Normal</td>\n",
       "      <td>208500</td>\n",
       "    </tr>\n",
       "    <tr>\n",
       "      <th>1</th>\n",
       "      <td>2</td>\n",
       "      <td>20</td>\n",
       "      <td>RL</td>\n",
       "      <td>80.0</td>\n",
       "      <td>9600</td>\n",
       "      <td>Pave</td>\n",
       "      <td>NaN</td>\n",
       "      <td>Reg</td>\n",
       "      <td>Lvl</td>\n",
       "      <td>AllPub</td>\n",
       "      <td>...</td>\n",
       "      <td>0</td>\n",
       "      <td>NaN</td>\n",
       "      <td>NaN</td>\n",
       "      <td>NaN</td>\n",
       "      <td>0</td>\n",
       "      <td>5</td>\n",
       "      <td>2007</td>\n",
       "      <td>WD</td>\n",
       "      <td>Normal</td>\n",
       "      <td>181500</td>\n",
       "    </tr>\n",
       "    <tr>\n",
       "      <th>2</th>\n",
       "      <td>3</td>\n",
       "      <td>60</td>\n",
       "      <td>RL</td>\n",
       "      <td>68.0</td>\n",
       "      <td>11250</td>\n",
       "      <td>Pave</td>\n",
       "      <td>NaN</td>\n",
       "      <td>IR1</td>\n",
       "      <td>Lvl</td>\n",
       "      <td>AllPub</td>\n",
       "      <td>...</td>\n",
       "      <td>0</td>\n",
       "      <td>NaN</td>\n",
       "      <td>NaN</td>\n",
       "      <td>NaN</td>\n",
       "      <td>0</td>\n",
       "      <td>9</td>\n",
       "      <td>2008</td>\n",
       "      <td>WD</td>\n",
       "      <td>Normal</td>\n",
       "      <td>223500</td>\n",
       "    </tr>\n",
       "    <tr>\n",
       "      <th>3</th>\n",
       "      <td>4</td>\n",
       "      <td>70</td>\n",
       "      <td>RL</td>\n",
       "      <td>60.0</td>\n",
       "      <td>9550</td>\n",
       "      <td>Pave</td>\n",
       "      <td>NaN</td>\n",
       "      <td>IR1</td>\n",
       "      <td>Lvl</td>\n",
       "      <td>AllPub</td>\n",
       "      <td>...</td>\n",
       "      <td>0</td>\n",
       "      <td>NaN</td>\n",
       "      <td>NaN</td>\n",
       "      <td>NaN</td>\n",
       "      <td>0</td>\n",
       "      <td>2</td>\n",
       "      <td>2006</td>\n",
       "      <td>WD</td>\n",
       "      <td>Abnorml</td>\n",
       "      <td>140000</td>\n",
       "    </tr>\n",
       "    <tr>\n",
       "      <th>4</th>\n",
       "      <td>5</td>\n",
       "      <td>60</td>\n",
       "      <td>RL</td>\n",
       "      <td>84.0</td>\n",
       "      <td>14260</td>\n",
       "      <td>Pave</td>\n",
       "      <td>NaN</td>\n",
       "      <td>IR1</td>\n",
       "      <td>Lvl</td>\n",
       "      <td>AllPub</td>\n",
       "      <td>...</td>\n",
       "      <td>0</td>\n",
       "      <td>NaN</td>\n",
       "      <td>NaN</td>\n",
       "      <td>NaN</td>\n",
       "      <td>0</td>\n",
       "      <td>12</td>\n",
       "      <td>2008</td>\n",
       "      <td>WD</td>\n",
       "      <td>Normal</td>\n",
       "      <td>250000</td>\n",
       "    </tr>\n",
       "  </tbody>\n",
       "</table>\n",
       "<p>5 rows × 81 columns</p>\n",
       "</div>"
      ],
      "text/plain": [
       "   Id  MSSubClass MSZoning  LotFrontage  LotArea Street Alley LotShape  \\\n",
       "0   1          60       RL         65.0     8450   Pave   NaN      Reg   \n",
       "1   2          20       RL         80.0     9600   Pave   NaN      Reg   \n",
       "2   3          60       RL         68.0    11250   Pave   NaN      IR1   \n",
       "3   4          70       RL         60.0     9550   Pave   NaN      IR1   \n",
       "4   5          60       RL         84.0    14260   Pave   NaN      IR1   \n",
       "\n",
       "  LandContour Utilities    ...     PoolArea PoolQC Fence MiscFeature MiscVal  \\\n",
       "0         Lvl    AllPub    ...            0    NaN   NaN         NaN       0   \n",
       "1         Lvl    AllPub    ...            0    NaN   NaN         NaN       0   \n",
       "2         Lvl    AllPub    ...            0    NaN   NaN         NaN       0   \n",
       "3         Lvl    AllPub    ...            0    NaN   NaN         NaN       0   \n",
       "4         Lvl    AllPub    ...            0    NaN   NaN         NaN       0   \n",
       "\n",
       "  MoSold YrSold  SaleType  SaleCondition  SalePrice  \n",
       "0      2   2008        WD         Normal     208500  \n",
       "1      5   2007        WD         Normal     181500  \n",
       "2      9   2008        WD         Normal     223500  \n",
       "3      2   2006        WD        Abnorml     140000  \n",
       "4     12   2008        WD         Normal     250000  \n",
       "\n",
       "[5 rows x 81 columns]"
      ]
     },
     "execution_count": 2,
     "metadata": {},
     "output_type": "execute_result"
    }
   ],
   "source": [
    "#read in data and view first 5 lines to get a feel for what I'm working with\n",
    "df = pd.read_csv(\"/Users/brycebangerter/Documents/all/train.csv\")\n",
    "df.head()"
   ]
  },
  {
   "cell_type": "code",
   "execution_count": 3,
   "metadata": {},
   "outputs": [
    {
     "data": {
      "text/plain": [
       "(1460, 81)"
      ]
     },
     "execution_count": 3,
     "metadata": {},
     "output_type": "execute_result"
    }
   ],
   "source": [
    "#look at the dimensions of the dataframe to see how many variables and observations we have\n",
    "df.shape"
   ]
  },
  {
   "cell_type": "code",
   "execution_count": 4,
   "metadata": {},
   "outputs": [
    {
     "data": {
      "text/plain": [
       "Index(['Id', 'MSSubClass', 'MSZoning', 'LotFrontage', 'LotArea', 'Street',\n",
       "       'Alley', 'LotShape', 'LandContour', 'Utilities', 'LotConfig',\n",
       "       'LandSlope', 'Neighborhood', 'Condition1', 'Condition2', 'BldgType',\n",
       "       'HouseStyle', 'OverallQual', 'OverallCond', 'YearBuilt', 'YearRemodAdd',\n",
       "       'RoofStyle', 'RoofMatl', 'Exterior1st', 'Exterior2nd', 'MasVnrType',\n",
       "       'MasVnrArea', 'ExterQual', 'ExterCond', 'Foundation', 'BsmtQual',\n",
       "       'BsmtCond', 'BsmtExposure', 'BsmtFinType1', 'BsmtFinSF1',\n",
       "       'BsmtFinType2', 'BsmtFinSF2', 'BsmtUnfSF', 'TotalBsmtSF', 'Heating',\n",
       "       'HeatingQC', 'CentralAir', 'Electrical', '1stFlrSF', '2ndFlrSF',\n",
       "       'LowQualFinSF', 'GrLivArea', 'BsmtFullBath', 'BsmtHalfBath', 'FullBath',\n",
       "       'HalfBath', 'BedroomAbvGr', 'KitchenAbvGr', 'KitchenQual',\n",
       "       'TotRmsAbvGrd', 'Functional', 'Fireplaces', 'FireplaceQu', 'GarageType',\n",
       "       'GarageYrBlt', 'GarageFinish', 'GarageCars', 'GarageArea', 'GarageQual',\n",
       "       'GarageCond', 'PavedDrive', 'WoodDeckSF', 'OpenPorchSF',\n",
       "       'EnclosedPorch', '3SsnPorch', 'ScreenPorch', 'PoolArea', 'PoolQC',\n",
       "       'Fence', 'MiscFeature', 'MiscVal', 'MoSold', 'YrSold', 'SaleType',\n",
       "       'SaleCondition', 'SalePrice'],\n",
       "      dtype='object')"
      ]
     },
     "execution_count": 4,
     "metadata": {},
     "output_type": "execute_result"
    }
   ],
   "source": [
    "#view all the varibles in our dataset\n",
    "df.columns"
   ]
  },
  {
   "cell_type": "code",
   "execution_count": 5,
   "metadata": {},
   "outputs": [
    {
     "data": {
      "text/plain": [
       "LotFrontage      259\n",
       "Alley           1369\n",
       "MasVnrType         8\n",
       "MasVnrArea         8\n",
       "BsmtQual          37\n",
       "BsmtCond          37\n",
       "BsmtExposure      38\n",
       "BsmtFinType1      37\n",
       "BsmtFinType2      38\n",
       "Electrical         1\n",
       "FireplaceQu      690\n",
       "GarageType        81\n",
       "GarageYrBlt       81\n",
       "GarageFinish      81\n",
       "GarageQual        81\n",
       "GarageCond        81\n",
       "PoolQC          1453\n",
       "Fence           1179\n",
       "MiscFeature     1406\n",
       "dtype: int64"
      ]
     },
     "execution_count": 5,
     "metadata": {},
     "output_type": "execute_result"
    }
   ],
   "source": [
    "# had help from Conner's code to show only the variables with missing values \n",
    "def show_missing():\n",
    "    missing = df.columns[df.isnull().any()].tolist()\n",
    "    return missing\n",
    "df[show_missing()].isnull().sum()"
   ]
  },
  {
   "cell_type": "code",
   "execution_count": 6,
   "metadata": {},
   "outputs": [],
   "source": [
    "#replace NaN values with the mean of the existing values\n",
    "df['LotFrontage_copy'] = df['LotFrontage']\n",
    "df.LotFrontage_copy = df.LotFrontage_copy.isna()\n",
    "df.LotFrontage_copy\n",
    "LotFrontageMean = df.LotFrontage.mean()\n",
    "def NaN(row):\n",
    "    if (row[\"LotFrontage_copy\"]) == True:\n",
    "        return LotFrontageMean\n",
    "    else:\n",
    "        return (row['LotFrontage'])\n",
    "df['LotFrontage_copy'] = df.apply(NaN, axis=1)\n",
    "df.LotFrontage_copy\n",
    "df.drop('LotFrontage', axis=1, inplace=True)\n",
    "df.rename(columns={'LotFrontage_copy': 'LotFrontage'}, inplace=True)"
   ]
  },
  {
   "cell_type": "code",
   "execution_count": 7,
   "metadata": {},
   "outputs": [],
   "source": [
    "#the next set of variables I fix NaN values for are categorical and, after reading their descriptions in the .txt file, I determined that NaN corresponded to the observation not having that particular type of quality, so I returned \"None\"\n",
    "df['Alley_copy'] = df['Alley']\n",
    "df.Alley_copy = df.Alley.isna()\n",
    "def NaNalley(row):\n",
    "    if (row[\"Alley_copy\"]) == True:\n",
    "        return 'None'\n",
    "    else:\n",
    "        return (row['Alley'])\n",
    "df['Alley_copy'] = df.apply(NaNalley, axis=1)\n",
    "df.drop('Alley', axis=1, inplace=True)\n",
    "df.rename(columns={'Alley_copy': 'Alley'}, inplace=True)"
   ]
  },
  {
   "cell_type": "code",
   "execution_count": 8,
   "metadata": {},
   "outputs": [],
   "source": [
    "df['MasVnrType_copy'] = df['MasVnrType']\n",
    "df.MasVnrType_copy = df.MasVnrType.isna()\n",
    "def NaNmasvnrtype(row):\n",
    "    if (row[\"MasVnrType_copy\"]) == True:\n",
    "        return 'None'\n",
    "    else:\n",
    "        return (row['MasVnrType'])\n",
    "df['MasVnrType_copy'] = df.apply(NaNmasvnrtype, axis=1)\n",
    "df.drop('MasVnrType', axis=1, inplace=True)\n",
    "df.rename(columns={'MasVnrType_copy': 'MasVnrType'}, inplace=True)"
   ]
  },
  {
   "cell_type": "code",
   "execution_count": 9,
   "metadata": {},
   "outputs": [
    {
     "data": {
      "text/plain": [
       "0    0.0\n",
       "dtype: float64"
      ]
     },
     "execution_count": 9,
     "metadata": {},
     "output_type": "execute_result"
    }
   ],
   "source": [
    "df['MasVnrArea'].mode()"
   ]
  },
  {
   "cell_type": "code",
   "execution_count": 10,
   "metadata": {},
   "outputs": [],
   "source": [
    "#this variable is an integer but because there are the same number of missing values for this as the MasVnrType variable, it's safe to assume that the missing values should be \"0\" because the MasVnrType is \"None\"\n",
    "df['MasVnrArea_copy'] = df['MasVnrArea']\n",
    "df.MasVnrArea_copy = df.MasVnrArea.isna()\n",
    "def NaNmasvnrarea(row):\n",
    "    if (row[\"MasVnrArea_copy\"]) == True:\n",
    "        return \"0\"\n",
    "    else:\n",
    "        return (row['MasVnrArea'])\n",
    "df['MasVnrArea_copy'] = df.apply(NaNmasvnrarea, axis=1)\n",
    "df.drop('MasVnrArea', axis=1, inplace=True)\n",
    "df.rename(columns={'MasVnrArea_copy': 'MasVnrArea'}, inplace=True)"
   ]
  },
  {
   "cell_type": "code",
   "execution_count": 11,
   "metadata": {},
   "outputs": [],
   "source": [
    "df['BsmtQual_copy'] = df['BsmtQual']\n",
    "df.BsmtQual_copy = df.BsmtQual.isna()\n",
    "def NaNBsmtQual(row):\n",
    "    if (row[\"BsmtQual_copy\"]) == True:\n",
    "        return 'None'\n",
    "    else:\n",
    "        return (row['BsmtQual'])\n",
    "df['BsmtQual_copy'] = df.apply(NaNBsmtQual, axis=1)\n",
    "df.drop('BsmtQual', axis=1, inplace=True)\n",
    "df.rename(columns={'BsmtQual_copy': 'BsmtQual'}, inplace=True)"
   ]
  },
  {
   "cell_type": "code",
   "execution_count": 12,
   "metadata": {},
   "outputs": [],
   "source": [
    "df['BsmtCond_copy'] = df['BsmtCond']\n",
    "df.BsmtCond_copy = df.BsmtCond.isna()\n",
    "def NaNBsmtCond(row):\n",
    "    if (row[\"BsmtCond_copy\"]) == True:\n",
    "        return 'None'\n",
    "    else:\n",
    "        return (row['BsmtCond'])\n",
    "df['BsmtCond_copy'] = df.apply(NaNBsmtCond, axis=1)\n",
    "df.drop('BsmtCond', axis=1, inplace=True)\n",
    "df.rename(columns={'BsmtCond_copy': 'BsmtCond'}, inplace=True)"
   ]
  },
  {
   "cell_type": "code",
   "execution_count": 13,
   "metadata": {},
   "outputs": [],
   "source": [
    "df['BsmtExposure_copy'] = df['BsmtExposure']\n",
    "df.BsmtExposure_copy = df.BsmtExposure.isna()\n",
    "def NaNBsmtExposure(row):\n",
    "    if (row[\"BsmtExposure_copy\"]) == True:\n",
    "        return 'None'\n",
    "    else:\n",
    "        return (row['BsmtExposure'])\n",
    "df['BsmtExposure_copy'] = df.apply(NaNBsmtExposure, axis=1)\n",
    "df.drop('BsmtExposure', axis=1, inplace=True)\n",
    "df.rename(columns={'BsmtExposure_copy': 'BsmtExposure'}, inplace=True)"
   ]
  },
  {
   "cell_type": "code",
   "execution_count": 14,
   "metadata": {},
   "outputs": [],
   "source": [
    "df['BsmtFinType1_copy'] = df['BsmtFinType1']\n",
    "df.BsmtFinType1_copy = df.BsmtFinType1.isna()\n",
    "def NaNBsmtFinType1(row):\n",
    "    if (row[\"BsmtFinType1_copy\"]) == True:\n",
    "        return 'None'\n",
    "    else:\n",
    "        return (row['BsmtFinType1'])\n",
    "df['BsmtFinType1_copy'] = df.apply(NaNBsmtFinType1, axis=1)\n",
    "df.drop('BsmtFinType1', axis=1, inplace=True)\n",
    "df.rename(columns={'BsmtFinType1_copy': 'BsmtFinType1'}, inplace=True)"
   ]
  },
  {
   "cell_type": "code",
   "execution_count": 15,
   "metadata": {},
   "outputs": [],
   "source": [
    "df['BsmtFinType2_copy'] = df['BsmtFinType2']\n",
    "df.BsmtFinType2_copy = df.BsmtFinType2.isna()\n",
    "def NaNBsmtFinType2(row):\n",
    "    if (row[\"BsmtFinType2_copy\"]) == True:\n",
    "        return 'None'\n",
    "    else:\n",
    "        return (row['BsmtFinType2'])\n",
    "df['BsmtFinType2_copy'] = df.apply(NaNBsmtFinType2, axis=1)\n",
    "df.drop('BsmtFinType2', axis=1, inplace=True)\n",
    "df.rename(columns={'BsmtFinType2_copy': 'BsmtFinType2'}, inplace=True)"
   ]
  },
  {
   "cell_type": "code",
   "execution_count": 16,
   "metadata": {},
   "outputs": [],
   "source": [
    "#this one differs slightly because there shouldn't be any \"None\" values for this particular variable, so I just replaced the missing value with the mode of the variable, in this case, SBrkr\n",
    "df['Electrical_copy'] = df['Electrical']\n",
    "df.Electrical_copy = df.Electrical.isna()\n",
    "def NaNElectrical(row):\n",
    "    if (row[\"Electrical_copy\"]) == True:\n",
    "        return 'SBrkr'\n",
    "    else:\n",
    "        return (row['Electrical'])\n",
    "df['Electrical_copy'] = df.apply(NaNElectrical, axis=1)\n",
    "df.drop('Electrical', axis=1, inplace=True)\n",
    "df.rename(columns={'Electrical_copy': 'Electrical'}, inplace=True)"
   ]
  },
  {
   "cell_type": "code",
   "execution_count": 17,
   "metadata": {},
   "outputs": [],
   "source": [
    "df['FireplaceQu_copy'] = df['FireplaceQu']\n",
    "df.FireplaceQu_copy = df.FireplaceQu.isna()\n",
    "def NaNFireplaceQu(row):\n",
    "    if (row[\"FireplaceQu_copy\"]) == True:\n",
    "        return 'None'\n",
    "    else:\n",
    "        return (row['FireplaceQu'])\n",
    "df['FireplaceQu_copy'] = df.apply(NaNFireplaceQu, axis=1)\n",
    "df.drop('FireplaceQu', axis=1, inplace=True)\n",
    "df.rename(columns={'FireplaceQu_copy': 'FireplaceQu'}, inplace=True)"
   ]
  },
  {
   "cell_type": "code",
   "execution_count": 18,
   "metadata": {},
   "outputs": [],
   "source": [
    "df['GarageType_copy'] = df['GarageType']\n",
    "df.GarageType_copy = df.GarageType.isna()\n",
    "def NaNGarageType(row):\n",
    "    if (row[\"GarageType_copy\"]) == True:\n",
    "        return 'None'\n",
    "    else:\n",
    "        return (row['GarageType'])\n",
    "df['GarageType_copy'] = df.apply(NaNGarageType, axis=1)\n",
    "df.drop('GarageType', axis=1, inplace=True)\n",
    "df.rename(columns={'GarageType_copy': 'GarageType'}, inplace=True)"
   ]
  },
  {
   "cell_type": "code",
   "execution_count": 19,
   "metadata": {},
   "outputs": [
    {
     "data": {
      "text/plain": [
       "0.8256674841743423"
      ]
     },
     "execution_count": 19,
     "metadata": {},
     "output_type": "execute_result"
    }
   ],
   "source": [
    "#this next variable, since it was not categorical, required me to do something different. In this case, I wanted to see how correlated the year the house was built is with the year the garage was built\n",
    "df['GarageYrBlt'].corr(df['YearBuilt'])"
   ]
  },
  {
   "cell_type": "code",
   "execution_count": 20,
   "metadata": {},
   "outputs": [],
   "source": [
    "#after determining that the corr coef is pretty high, I decided to just replace missing values for when the garage was built with the year the house was built\n",
    "df['GarageYrBlt_copy'] = df['GarageYrBlt']\n",
    "df.GarageYrBlt_copy = df.GarageYrBlt.isna()\n",
    "def NaNGarageYrBlt(row):\n",
    "    if (row[\"GarageYrBlt_copy\"]) == True:\n",
    "        return (row['YearBuilt'])\n",
    "    else:\n",
    "        return (row['GarageYrBlt'])\n",
    "df['GarageYrBlt_copy'] = df.apply(NaNGarageYrBlt, axis=1)\n",
    "df.drop('GarageYrBlt', axis=1, inplace=True)\n",
    "df.rename(columns={'GarageYrBlt_copy': 'GarageYrBlt'}, inplace=True)"
   ]
  },
  {
   "cell_type": "code",
   "execution_count": 21,
   "metadata": {},
   "outputs": [],
   "source": [
    "df['GarageFinish_copy'] = df['GarageFinish']\n",
    "df.GarageFinish_copy = df.GarageFinish.isna()\n",
    "def NaNGarageFinish(row):\n",
    "    if (row[\"GarageFinish_copy\"]) == True:\n",
    "        return 'None'\n",
    "    else:\n",
    "        return (row['GarageFinish'])\n",
    "df['GarageFinish_copy'] = df.apply(NaNGarageFinish, axis=1)\n",
    "df.drop('GarageFinish', axis=1, inplace=True)\n",
    "df.rename(columns={'GarageFinish_copy': 'GarageFinish'}, inplace=True)"
   ]
  },
  {
   "cell_type": "code",
   "execution_count": 22,
   "metadata": {},
   "outputs": [],
   "source": [
    "df['GarageQual_copy'] = df['GarageQual']\n",
    "df.GarageQual_copy = df.GarageQual.isna()\n",
    "def NaNGarageQual(row):\n",
    "    if (row[\"GarageQual_copy\"]) == True:\n",
    "        return 'None'\n",
    "    else:\n",
    "        return (row['GarageQual'])\n",
    "df['GarageQual_copy'] = df.apply(NaNGarageQual, axis=1)\n",
    "df.drop('GarageQual', axis=1, inplace=True)\n",
    "df.rename(columns={'GarageQual_copy': 'GarageQual'}, inplace=True)"
   ]
  },
  {
   "cell_type": "code",
   "execution_count": 23,
   "metadata": {},
   "outputs": [],
   "source": [
    "df['GarageCond_copy'] = df['GarageCond']\n",
    "df.GarageCond_copy = df.GarageCond.isna()\n",
    "def NaNGarageCond(row):\n",
    "    if (row[\"GarageCond_copy\"]) == True:\n",
    "        return 'None'\n",
    "    else:\n",
    "        return (row['GarageCond'])\n",
    "df['GarageCond_copy'] = df.apply(NaNGarageCond, axis=1)\n",
    "df.drop('GarageCond', axis=1, inplace=True)\n",
    "df.rename(columns={'GarageCond_copy': 'GarageCond'}, inplace=True)"
   ]
  },
  {
   "cell_type": "code",
   "execution_count": 24,
   "metadata": {},
   "outputs": [],
   "source": [
    "#dropped this variable since there are so few data points because there are so few houses with pools\n",
    "df.drop('PoolQC', axis=1, inplace=True)"
   ]
  },
  {
   "cell_type": "code",
   "execution_count": 25,
   "metadata": {},
   "outputs": [],
   "source": [
    "df['MiscFeature_copy'] = df['MiscFeature']\n",
    "df.MiscFeature_copy = df.MiscFeature.isna()\n",
    "def NaNMiscFeature(row):\n",
    "    if (row[\"MiscFeature_copy\"]) == True:\n",
    "        return 'None'\n",
    "    else:\n",
    "        return (row['MiscFeature'])\n",
    "df['MiscFeature_copy'] = df.apply(NaNMiscFeature, axis=1)\n",
    "df.drop('MiscFeature', axis=1, inplace=True)\n",
    "df.rename(columns={'MiscFeature_copy': 'MiscFeature'}, inplace=True)"
   ]
  },
  {
   "cell_type": "code",
   "execution_count": 26,
   "metadata": {},
   "outputs": [],
   "source": [
    "df['Fence_copy'] = df['Fence']\n",
    "df.Fence_copy = df.Fence.isna()\n",
    "def NaNFence(row):\n",
    "    if (row[\"Fence_copy\"]) == True:\n",
    "        return 'None'\n",
    "    else:\n",
    "        return (row['Fence'])\n",
    "df['Fence_copy'] = df.apply(NaNFence, axis=1)\n",
    "df.drop('Fence', axis=1, inplace=True)\n",
    "df.rename(columns={'Fence_copy': 'Fence'}, inplace=True)"
   ]
  },
  {
   "cell_type": "code",
   "execution_count": 27,
   "metadata": {},
   "outputs": [
    {
     "name": "stdout",
     "output_type": "stream",
     "text": [
      "<class 'pandas.core.frame.DataFrame'>\n",
      "RangeIndex: 1460 entries, 0 to 1459\n",
      "Data columns (total 80 columns):\n",
      "Id               1460 non-null int64\n",
      "MSSubClass       1460 non-null int64\n",
      "MSZoning         1460 non-null object\n",
      "LotArea          1460 non-null int64\n",
      "Street           1460 non-null object\n",
      "LotShape         1460 non-null object\n",
      "LandContour      1460 non-null object\n",
      "Utilities        1460 non-null object\n",
      "LotConfig        1460 non-null object\n",
      "LandSlope        1460 non-null object\n",
      "Neighborhood     1460 non-null object\n",
      "Condition1       1460 non-null object\n",
      "Condition2       1460 non-null object\n",
      "BldgType         1460 non-null object\n",
      "HouseStyle       1460 non-null object\n",
      "OverallQual      1460 non-null int64\n",
      "OverallCond      1460 non-null int64\n",
      "YearBuilt        1460 non-null int64\n",
      "YearRemodAdd     1460 non-null int64\n",
      "RoofStyle        1460 non-null object\n",
      "RoofMatl         1460 non-null object\n",
      "Exterior1st      1460 non-null object\n",
      "Exterior2nd      1460 non-null object\n",
      "ExterQual        1460 non-null object\n",
      "ExterCond        1460 non-null object\n",
      "Foundation       1460 non-null object\n",
      "BsmtFinSF1       1460 non-null int64\n",
      "BsmtFinSF2       1460 non-null int64\n",
      "BsmtUnfSF        1460 non-null int64\n",
      "TotalBsmtSF      1460 non-null int64\n",
      "Heating          1460 non-null object\n",
      "HeatingQC        1460 non-null object\n",
      "CentralAir       1460 non-null object\n",
      "1stFlrSF         1460 non-null int64\n",
      "2ndFlrSF         1460 non-null int64\n",
      "LowQualFinSF     1460 non-null int64\n",
      "GrLivArea        1460 non-null int64\n",
      "BsmtFullBath     1460 non-null int64\n",
      "BsmtHalfBath     1460 non-null int64\n",
      "FullBath         1460 non-null int64\n",
      "HalfBath         1460 non-null int64\n",
      "BedroomAbvGr     1460 non-null int64\n",
      "KitchenAbvGr     1460 non-null int64\n",
      "KitchenQual      1460 non-null object\n",
      "TotRmsAbvGrd     1460 non-null int64\n",
      "Functional       1460 non-null object\n",
      "Fireplaces       1460 non-null int64\n",
      "GarageCars       1460 non-null int64\n",
      "GarageArea       1460 non-null int64\n",
      "PavedDrive       1460 non-null object\n",
      "WoodDeckSF       1460 non-null int64\n",
      "OpenPorchSF      1460 non-null int64\n",
      "EnclosedPorch    1460 non-null int64\n",
      "3SsnPorch        1460 non-null int64\n",
      "ScreenPorch      1460 non-null int64\n",
      "PoolArea         1460 non-null int64\n",
      "MiscVal          1460 non-null int64\n",
      "MoSold           1460 non-null int64\n",
      "YrSold           1460 non-null int64\n",
      "SaleType         1460 non-null object\n",
      "SaleCondition    1460 non-null object\n",
      "SalePrice        1460 non-null int64\n",
      "LotFrontage      1460 non-null float64\n",
      "Alley            1460 non-null object\n",
      "MasVnrType       1460 non-null object\n",
      "MasVnrArea       1460 non-null object\n",
      "BsmtQual         1460 non-null object\n",
      "BsmtCond         1460 non-null object\n",
      "BsmtExposure     1460 non-null object\n",
      "BsmtFinType1     1460 non-null object\n",
      "BsmtFinType2     1460 non-null object\n",
      "Electrical       1460 non-null object\n",
      "FireplaceQu      1460 non-null object\n",
      "GarageType       1460 non-null object\n",
      "GarageYrBlt      1460 non-null float64\n",
      "GarageFinish     1460 non-null object\n",
      "GarageQual       1460 non-null object\n",
      "GarageCond       1460 non-null object\n",
      "MiscFeature      1460 non-null object\n",
      "Fence            1460 non-null object\n",
      "dtypes: float64(2), int64(35), object(43)\n",
      "memory usage: 912.6+ KB\n"
     ]
    }
   ],
   "source": [
    "#want to see the dtypes of all variables\n",
    "df.info()"
   ]
  },
  {
   "cell_type": "code",
   "execution_count": 28,
   "metadata": {},
   "outputs": [],
   "source": [
    "#changing the dtypes to be what I need them to be\n",
    "df['MSSubClass'] = df['MSSubClass'].astype(str)\n",
    "df['MoSold'] = df['MoSold'].astype(str)\n",
    "df['YrSold'] = df['YrSold'].astype(str)\n",
    "df['LotFrontage'] = df['LotFrontage'].astype(int)\n",
    "df['MasVnrArea'] = df['MasVnrArea'].astype(int)\n",
    "df['GarageYrBlt'] = df['GarageYrBlt'].astype(int)"
   ]
  },
  {
   "cell_type": "code",
   "execution_count": 29,
   "metadata": {},
   "outputs": [
    {
     "data": {
      "text/plain": [
       "<matplotlib.axes._subplots.AxesSubplot at 0x104ac9a20>"
      ]
     },
     "execution_count": 29,
     "metadata": {},
     "output_type": "execute_result"
    },
    {
     "data": {
      "image/png": "[encoded data removed]",
      "text/plain": [
       "<matplotlib.figure.Figure at 0x10a16eef0>"
      ]
     },
     "metadata": {},
     "output_type": "display_data"
    }
   ],
   "source": [
    "#code that I found to make a correlation coefficient heatmap from https://seaborn.pydata.org/examples/many_pairwise_correlations.html\n",
    "corr = df.corr()\n",
    "mask = np.zeros_like(corr, dtype=np.bool)\n",
    "mask[np.triu_indices_from(mask)] = True\n",
    "f, ax = plt.subplots(figsize=(11, 9))\n",
    "cmap = sns.diverging_palette(220, 10, as_cmap=True)\n",
    "sns.heatmap(corr, mask=mask, cmap=cmap, vmax=.3, center=0,\n",
    "            square=True, linewidths=.5, cbar_kws={\"shrink\": .5})"
   ]
  },
  {
   "cell_type": "code",
   "execution_count": 30,
   "metadata": {},
   "outputs": [],
   "source": [
    "#import scikitlearn packages for scaling the data\n",
    "#I also extracted just the variables with dtype = int so I could perform the scaler function\n",
    "from sklearn.preprocessing import StandardScaler\n",
    "scaler = StandardScaler()\n",
    "dfint = df.select_dtypes(exclude=['object'])"
   ]
  },
  {
   "cell_type": "code",
   "execution_count": 31,
   "metadata": {},
   "outputs": [],
   "source": [
    "scaler.fit(dfint)\n",
    "scaled_df = scaler.transform(dfint)"
   ]
  },
  {
   "cell_type": "code",
   "execution_count": 32,
   "metadata": {},
   "outputs": [],
   "source": [
    "#the scaled_df is actually an array, so I needed to convert it into a dataframe with the correct column names\n",
    "#This dataframe is now just all the scaled continuous variables\n",
    "#I also dropped the 'Id' variable since that isn't a needed variable for the regression\n",
    "contvar = pd.DataFrame(data=scaled_df, columns=dfint.columns)\n",
    "contvar.drop('Id', axis=1, inplace=True)"
   ]
  },
  {
   "cell_type": "code",
   "execution_count": 33,
   "metadata": {},
   "outputs": [
    {
     "data": {
      "text/plain": [
       "<matplotlib.axes._subplots.AxesSubplot at 0x1a1383e908>"
      ]
     },
     "execution_count": 33,
     "metadata": {},
     "output_type": "execute_result"
    },
    {
     "data": {
      "image/png": "[encoded data removed]",
      "text/plain": [
       "<matplotlib.figure.Figure at 0x10a16e390>"
      ]
     },
     "metadata": {},
     "output_type": "display_data"
    }
   ],
   "source": [
    "#code that I found to make a correlation coefficient heatmap from https://seaborn.pydata.org/examples/many_pairwise_correlations.html\n",
    "corr = contvar.corr()\n",
    "mask = np.zeros_like(corr, dtype=np.bool)\n",
    "mask[np.triu_indices_from(mask)] = True\n",
    "f, ax = plt.subplots(figsize=(11, 9))\n",
    "cmap = sns.diverging_palette(220, 10, as_cmap=True)\n",
    "sns.heatmap(corr, mask=mask, cmap=cmap, vmax=.3, center=0,\n",
    "            square=True, linewidths=.5, cbar_kws={\"shrink\": .5})"
   ]
  },
  {
   "cell_type": "code",
   "execution_count": 34,
   "metadata": {},
   "outputs": [],
   "source": [
    "#change the categorical variables into dummy variables and got rid of dummies that represented a house having \"None\" for the value of that particular categorical variable\n",
    "df = pd.get_dummies(df)\n",
    "df = df[df.columns.drop(list(df.filter(regex='None')))]"
   ]
  },
  {
   "cell_type": "code",
   "execution_count": 35,
   "metadata": {
    "scrolled": true
   },
   "outputs": [],
   "source": [
    "#made a new dataframe that just included all the dummy variables\n",
    "catvar = df.select_dtypes(exclude=['int'])"
   ]
  },
  {
   "cell_type": "code",
   "execution_count": 36,
   "metadata": {},
   "outputs": [],
   "source": [
    "#made a new dataframe that combines the scaled continuous variables and the categorical variables into one dataframe\n",
    "traindf = pd.concat([contvar, catvar], axis=1)"
   ]
  },
  {
   "cell_type": "code",
   "execution_count": 37,
   "metadata": {},
   "outputs": [],
   "source": [
    "#Generate SalePrice vector and then drop it from the dataframe. This is done so I can use this SalePrice vector to regress on my explanatory variables\n",
    "SalePrice = traindf.SalePrice\n",
    "traindf.drop('SalePrice', axis=1, inplace=True)"
   ]
  },
  {
   "cell_type": "code",
   "execution_count": 38,
   "metadata": {},
   "outputs": [],
   "source": [
    "#import scikitlearn packages for running regression\n",
    "from sklearn.linear_model import SGDRegressor\n",
    "from sklearn.metrics import mean_squared_error\n",
    "from sklearn.model_selection import learning_curve\n",
    "from sklearn.metrics import make_scorer"
   ]
  },
  {
   "cell_type": "code",
   "execution_count": 39,
   "metadata": {},
   "outputs": [
    {
     "name": "stdout",
     "output_type": "stream",
     "text": [
      "RMSE: 0.3719710144513874\n"
     ]
    }
   ],
   "source": [
    "#here is where I run the regression. This code is pulled from Tyler's lecture\n",
    "linear_regression_model = SGDRegressor(tol=.0001, eta0=.01)\n",
    "linear_regression_model.fit(traindf, SalePrice)\n",
    "predictions = linear_regression_model.predict(traindf)\n",
    "mse = mean_squared_error(SalePrice, predictions)\n",
    "print(\"RMSE: {}\".format(np.sqrt(mse)))"
   ]
  },
  {
   "cell_type": "code",
   "execution_count": 40,
   "metadata": {},
   "outputs": [],
   "source": [
    "#here I am trying to split the data into train and test segments to find the optimal hyperparameters that minimize the MSE\n",
    "from sklearn.model_selection import train_test_split\n",
    "\n",
    "X_train, X_test, y_train, y_test = train_test_split(traindf, SalePrice, test_size=0.33, random_state=42)"
   ]
  },
  {
   "cell_type": "code",
   "execution_count": 41,
   "metadata": {},
   "outputs": [
    {
     "name": "stdout",
     "output_type": "stream",
     "text": [
      "Train MSE: 0.14518012631102387\n",
      "Test MSE: 0.2850263563409067\n"
     ]
    }
   ],
   "source": [
    "linear_regression_model = SGDRegressor(tol=.0001, eta0=.01)\n",
    "linear_regression_model.fit(X_train, y_train)\n",
    "train_predictions = linear_regression_model.predict(X_train)\n",
    "test_predictions = linear_regression_model.predict(X_test)\n",
    "\n",
    "train_mse = mean_squared_error(y_train, train_predictions)\n",
    "test_mse = mean_squared_error(y_test, test_predictions)\n",
    "\n",
    "print(\"Train MSE: {}\".format(train_mse))\n",
    "print(\"Test MSE: {}\".format(test_mse))"
   ]
  },
  {
   "cell_type": "code",
   "execution_count": 42,
   "metadata": {},
   "outputs": [],
   "source": [
    "## source: http://scikit-learn.org/0.15/auto_examples/plot_learning_curve.html\n",
    "## This is for plotting a learning curve that shows the MSE of the train and test subsets of the data to see if the model is high bias or high variance\n",
    "def plot_learning_curve(estimator, title, X, y, ylim=None, cv=None,\n",
    "                        n_jobs=1, train_sizes=np.linspace(.1, 1.0, 5)):\n",
    "    plt.figure()\n",
    "    plt.title(title)\n",
    "    if ylim is not None:\n",
    "        plt.ylim(*ylim)\n",
    "    plt.xlabel(\"Training examples\")\n",
    "    plt.ylabel(\"Score\")\n",
    "    train_sizes, train_scores, test_scores = learning_curve(\n",
    "        estimator, X, y, cv=cv, n_jobs=n_jobs, train_sizes=train_sizes, scoring=make_scorer(mean_squared_error))\n",
    "    train_scores_mean = np.mean(train_scores, axis=1)\n",
    "    train_scores_std = np.std(train_scores, axis=1)\n",
    "    test_scores_mean = np.mean(test_scores, axis=1)\n",
    "    test_scores_std = np.std(test_scores, axis=1)\n",
    "    plt.grid()\n",
    "\n",
    "    plt.fill_between(train_sizes, train_scores_mean - train_scores_std,\n",
    "                     train_scores_mean + train_scores_std, alpha=0.1,\n",
    "                     color=\"r\")\n",
    "    plt.fill_between(train_sizes, test_scores_mean - test_scores_std,\n",
    "                     test_scores_mean + test_scores_std, alpha=0.1, color=\"g\")\n",
    "    plt.plot(train_sizes, train_scores_mean, 'o-', color=\"r\",\n",
    "             label=\"Training score\")\n",
    "    plt.plot(train_sizes, test_scores_mean, 'o-', color=\"g\",\n",
    "             label=\"Cross-validation score\")\n",
    "\n",
    "    plt.legend(loc=\"best\")\n",
    "    return plt"
   ]
  },
  {
   "cell_type": "code",
   "execution_count": 43,
   "metadata": {},
   "outputs": [
    {
     "data": {
      "text/plain": [
       "<module 'matplotlib.pyplot' from '/Users/brycebangerter/anaconda3/lib/python3.6/site-packages/matplotlib/pyplot.py'>"
      ]
     },
     "execution_count": 43,
     "metadata": {},
     "output_type": "execute_result"
    },
    {
     "data": {
      "image/png": "[encoded data removed]",
      "text/plain": [
       "<matplotlib.figure.Figure at 0x1a14310588>"
      ]
     },
     "metadata": {},
     "output_type": "display_data"
    }
   ],
   "source": [
    "#Looking at the curves, we can see that there is a fairly large gap between the two curves, meaning that my model must be overfitting my data\n",
    "plot_learning_curve(linear_regression_model, \"Learning Curve\", X_train, y_train, cv=5)"
   ]
  },
  {
   "cell_type": "code",
   "execution_count": 44,
   "metadata": {},
   "outputs": [
    {
     "data": {
      "text/plain": [
       "[('Condition2_PosA', 0.0),\n",
       " ('Condition2_RRNn', 0.0),\n",
       " ('RoofMatl_Membran', 0.0),\n",
       " ('Exterior1st_ImStucc', 0.0),\n",
       " ('Electrical_Mix', 0.0),\n",
       " ('GarageType_Basment', -5.301102663566017e-05),\n",
       " ('Condition2_RRAe', -0.00010856041753173731),\n",
       " ('MiscFeature_Gar2', -0.00010856041753173731),\n",
       " ('Exterior1st_AsphShn', -0.0001431122217224548),\n",
       " ('GarageCond_Po', -0.00016716141221181056),\n",
       " ('HouseStyle_1.5Fin', -0.0001759670271406019),\n",
       " ('Exterior1st_CBlock', -0.00019662015526077014),\n",
       " ('Exterior2nd_CBlock', -0.00019662015526077014),\n",
       " ('SaleType_ConLD', -0.00022506856211530052),\n",
       " ('MiscFeature_TenC', 0.00028565982462520786),\n",
       " ('Condition2_RRAn', 0.0002903125286915377),\n",
       " ('GarageQual_Po', -0.00033561487676119693),\n",
       " ('Electrical_FuseP', 0.0004169511266186043),\n",
       " ('BsmtFinType1_ALQ', -0.0004574819143382305),\n",
       " ('Neighborhood_Blueste', -0.000491325701582458),\n",
       " ('MiscFeature_Othr', -0.0005445694191414128),\n",
       " ('Exterior2nd_VinylSd', -0.0005689484291454335),\n",
       " ('Condition1_RRNe', 0.0005777141566250188),\n",
       " ('RoofMatl_Roll', 0.0006016111393451282),\n",
       " ('SaleType_ConLw', -0.0006026666008810309),\n",
       " ('MSZoning_RH', 0.0006123324641249753),\n",
       " ('Exterior2nd_AsbShng', 0.0006374088328551636),\n",
       " ('ExterCond_Po', -0.0006578011712706881),\n",
       " ('GarageType_Attchd', -0.0007249823908944164),\n",
       " ('BldgType_2fmCon', -0.0007348720312784203),\n",
       " ('Exterior2nd_MetalSd', 0.0007782524540255457),\n",
       " ('SaleCondition_AdjLand', 0.0008542870809730955),\n",
       " ('BsmtFinType1_BLQ', -0.00091989836955151),\n",
       " ('Exterior1st_BrkComm', 0.0009488913646084221),\n",
       " ('RoofMatl_Metal', 0.001052801125462913),\n",
       " ('Exterior2nd_Other', 0.0010638020032637788),\n",
       " ('ExterCond_Gd', 0.0010771046597402435),\n",
       " ('HouseStyle_2.5Fin', 0.001157038968051718),\n",
       " ('Heating_Grav', 0.0011683040696394119),\n",
       " ('Electrical_FuseF', 0.0011823488385093218),\n",
       " ('SaleType_Oth', 0.0012591041449625418),\n",
       " ('MSSubClass_190', -0.0012712038765814735),\n",
       " ('ExterCond_Ex', 0.0013178062585416919),\n",
       " ('HeatingQC_Po', -0.0013314715250064666),\n",
       " ('Heating_Floor', 0.0013720713865033388),\n",
       " ('MSSubClass_180', -0.0014806298523133738),\n",
       " ('Condition2_Artery', 0.0015619788465725164),\n",
       " ('Exterior1st_MetalSd', 0.0015772374587469),\n",
       " ('LandSlope_Sev', 0.0016615352616369066),\n",
       " ('Fence_MnPrv', -0.0016746106730607623),\n",
       " ('MSSubClass_60', 0.001740679910863093),\n",
       " ('Exterior2nd_Brk Cmn', -0.0017595740459651417),\n",
       " ('Condition1_RRAn', -0.0018730587313562873),\n",
       " ('Exterior2nd_AsphShn', 0.0018838042871033578),\n",
       " ('Exterior1st_Stone', 0.0018878625785446726),\n",
       " ('Neighborhood_NPkVill', -0.00191578070923007),\n",
       " ('MSSubClass_50', 0.0019238572753999467),\n",
       " ('Heating_Wall', 0.002036630883262022),\n",
       " ('MoSold_12', -0.002105107699081159),\n",
       " ('RoofStyle_Mansard', 0.0021657939589532402),\n",
       " ('Condition2_Feedr', -0.0021723067419334072),\n",
       " ('RoofMatl_WdShake', 0.0021825425633729377),\n",
       " ('BsmtCond_Po', 0.0021988478688718324),\n",
       " ('GarageCond_Ex', 0.0022752787614424815),\n",
       " ('MoSold_4', 0.002282508344805024),\n",
       " ('Exterior1st_AsbShng', -0.0023191224491654256),\n",
       " ('Fence_GdWo', -0.0023561151656535644),\n",
       " ('GarageFinish_Fin', 0.0023610842229928827),\n",
       " ('BsmtFinType2_GLQ', 0.0025036058470173234),\n",
       " ('Foundation_Stone', 0.002786565688692532),\n",
       " ('CentralAir_N', -0.0029768329820929417),\n",
       " ('SaleType_ConLI', -0.0030582913127787255),\n",
       " ('Exterior2nd_ImStucc', -0.003092445662807829),\n",
       " ('MSSubClass_30', 0.003126066402716231),\n",
       " ('Fence_GdPrv', 0.003143061640068225),\n",
       " ('YrSold_2009', -0.0032412292930543945),\n",
       " ('Foundation_Slab', 0.0032601366800987675),\n",
       " ('BsmtFinType2_Unf', 0.003276161354944563),\n",
       " ('RoofStyle_Gambrel', 0.003382018574153246),\n",
       " ('BsmtFinType2_LwQ', 0.0033895735738908627),\n",
       " ('RoofStyle_Shed', 0.0034396877951752085),\n",
       " ('Alley_Pave', 0.0034641457239828113),\n",
       " ('LotConfig_FR3', -0.0034711501259860962),\n",
       " ('FireplaceQu_Po', -0.00353011169970546),\n",
       " ('Neighborhood_Timber', -0.003681669366526695),\n",
       " ('Exterior2nd_Stone', 0.003952626316060832),\n",
       " ('HeatingQC_Fa', -0.003997116158178497),\n",
       " ('Foundation_Wood', -0.0040035253940839365),\n",
       " ('MoSold_9', 0.00401729329301308),\n",
       " ('MSSubClass_70', 0.004097120107012776),\n",
       " ('BsmtFinType1_Rec', -0.004160499126963338),\n",
       " ('Exterior1st_Plywood', -0.004191757652561183),\n",
       " ('Fence_MnWw', -0.004381938372860962),\n",
       " ('MSSubClass_90', -0.004426816728406369),\n",
       " ('BldgType_Duplex', -0.004426816728406369),\n",
       " ('MSZoning_C (all)', -0.004505853070159675),\n",
       " ('MSSubClass_40', 0.004506506630024162),\n",
       " ('Neighborhood_Sawyer', -0.004539409274933105),\n",
       " ('Condition1_PosA', -0.005194177676267616),\n",
       " ('Utilities_NoSeWa', -0.005220731899508703),\n",
       " ('MoSold_6', -0.005273789302766655),\n",
       " ('Heating_GasA', -0.005481346363667101),\n",
       " ('ExterQual_Fa', 0.005482689934612941),\n",
       " ('SaleType_Con', 0.005500045212306585),\n",
       " ('GarageYrBlt', -0.005594071160540948),\n",
       " ('MiscVal', -0.0056823619476161595),\n",
       " ('CentralAir_Y', 0.0057207187498979906),\n",
       " ('LandContour_Lvl', -0.0057338591618364045),\n",
       " ('Exterior1st_VinylSd', -0.005789664862837915),\n",
       " ('YrSold_2006', 0.005948197750240128),\n",
       " ('FireplaceQu_TA', -0.006052955185769177),\n",
       " ('Condition1_RRNn', -0.006135379351302798),\n",
       " ('Functional_Sev', -0.006192578210434893),\n",
       " ('MoSold_3', 0.0062615871413536865),\n",
       " ('Heating_OthW', -0.006287953698715578),\n",
       " ('BsmtExposure_Av', -0.006527044135345356),\n",
       " ('HouseStyle_2.5Unf', -0.00668069396729179),\n",
       " ('Functional_Mod', 0.006725921375279415),\n",
       " ('RoofMatl_CompShg', 0.006946119967212432),\n",
       " ('MSSubClass_45', 0.00697628126079842),\n",
       " ('BsmtExposure_Mn', -0.007450585199840685),\n",
       " ('GarageType_2Types', -0.007467533319597991),\n",
       " ('HeatingQC_TA', 0.007475183122846793),\n",
       " ('Functional_Maj2', -0.00768724520129881),\n",
       " ('BsmtHalfBath', -0.007755343588882145),\n",
       " ('MoSold_11', 0.007764370253342699),\n",
       " ('Neighborhood_BrDale', -0.007868520243464369),\n",
       " ('BsmtUnfSF', 0.007914872294778618),\n",
       " ('GarageType_CarPort', -0.007931042666032761),\n",
       " ('Utilities_AllPub', 0.00796461766731375),\n",
       " ('Neighborhood_SawyerW', -0.007979913082159782),\n",
       " ('Street_Grvl', -0.00802743007363912),\n",
       " ('PavedDrive_P', -0.008049896303451),\n",
       " ('SaleType_CWD', 0.00824876165837287),\n",
       " ('Neighborhood_ClearCr', 0.008272043479075659),\n",
       " ('OpenPorchSF', -0.008308829541574443),\n",
       " ('BsmtQual_Fa', -0.008390100747881908),\n",
       " ('Exterior1st_WdShing', -0.008460723689916516),\n",
       " ('LotShape_Reg', -0.00873353738829118),\n",
       " ('HouseStyle_1.5Unf', 0.008838988750866939),\n",
       " ('LandContour_Low', 0.008852170485622802),\n",
       " ('BsmtFinSF2', 0.00909760890489048),\n",
       " ('YrSold_2007', 0.00910255569606135),\n",
       " ('MSSubClass_85', -0.00929750278645233),\n",
       " ('MSSubClass_75', 0.009347427125521524),\n",
       " ('BsmtFinSF1', 0.009468276265942962),\n",
       " ('Heating_GasW', 0.009936179490782952),\n",
       " ('Neighborhood_SWISU', -0.009995605087655358),\n",
       " ('Condition1_Artery', -0.01002711202377624),\n",
       " ('ExterCond_TA', -0.010201089311206007),\n",
       " ('BsmtCond_Gd', -0.010312017030133925),\n",
       " ('Neighborhood_MeadowV', -0.01033820860395115),\n",
       " ('HouseStyle_SFoyer', -0.010467405453093262),\n",
       " ('Exterior2nd_Wd Shng', -0.010604111469970407),\n",
       " ('Foundation_CBlock', -0.010606759383548867),\n",
       " ('Street_Pave', 0.010771315841444164),\n",
       " ('LotConfig_Inside', -0.010994312081734738),\n",
       " ('Electrical_SBrkr', -0.011125746223551286),\n",
       " ('RoofMatl_Tar&Grv', 0.011155302397777992),\n",
       " ('ExterCond_Fa', 0.011207865331999857),\n",
       " ('MSSubClass_80', -0.011258931509719813),\n",
       " ('GarageCond_Fa', -0.011279088947321261),\n",
       " ('GarageCond_Gd', 0.011514294603299287),\n",
       " ('FireplaceQu_Fa', -0.011560804379776564),\n",
       " ('PavedDrive_N', -0.011567037571208038),\n",
       " ('Functional_Maj1', -0.011886309156513425),\n",
       " ('GarageQual_Fa', -0.012058557394774228),\n",
       " ('Electrical_FuseA', 0.012270332026228403),\n",
       " ('Alley_Grvl', -0.012383439587299342),\n",
       " ('BsmtFinType1_LwQ', -0.012541097677617862),\n",
       " ('Functional_Min2', -0.012568555465372094),\n",
       " ('Neighborhood_IDOTRR', -0.012693037320782072),\n",
       " ('GarageFinish_RFn', -0.012951713511459843),\n",
       " ('SaleCondition_Family', -0.01381831633188786),\n",
       " ('Neighborhood_Veenker', 0.014157443513301024),\n",
       " ('GarageFinish_Unf', -0.01423745397041459),\n",
       " ('Exterior2nd_Plywood', -0.014535926648279011),\n",
       " ('LotShape_IR1', 0.014605673634561167),\n",
       " ('Neighborhood_Somerst', 0.01462111737194476),\n",
       " ('Condition1_RRAe', -0.014731795519976134),\n",
       " ('MoSold_7', 0.014763243239020618),\n",
       " ('MasVnrType_Stone', 0.01519989343327861),\n",
       " ('KitchenQual_Fa', 0.015229879635202066),\n",
       " ('SaleCondition_Normal', -0.015298309419066729),\n",
       " ('RoofStyle_Hip', 0.015420221641735558),\n",
       " ('HouseStyle_SLvl', -0.01546927600075324),\n",
       " ('GarageQual_Ex', 0.015676517344984042),\n",
       " ('MoSold_1', -0.0158059183273177),\n",
       " ('Exterior2nd_CmentBd', 0.015937119997011532),\n",
       " ('BsmtFinType2_BLQ', -0.01601569680145938),\n",
       " ('MiscFeature_Shed', -0.016355413719277834),\n",
       " ('EnclosedPorch', 0.016455259548062345),\n",
       " ('RoofStyle_Flat', 0.016802856630510354),\n",
       " ('RoofMatl_WdShngl', 0.017226123404960044),\n",
       " ('FireplaceQu_Gd', 0.017500582713368303),\n",
       " ('BsmtFinType2_Rec', -0.017983040887087312),\n",
       " ('Exterior1st_HdBoard', -0.01879276349278055),\n",
       " ('MoSold_5', 0.018809275591241254),\n",
       " ('LotShape_IR2', 0.018894820571483603),\n",
       " ('ExterQual_Gd', 0.019219308750274312),\n",
       " ('SaleType_COD', -0.019431331819177146),\n",
       " ('GarageType_BuiltIn', 0.02001521520537834),\n",
       " ('Condition1_PosN', -0.020092330497937495),\n",
       " ('LotConfig_FR2', -0.020477640823908697),\n",
       " ('Neighborhood_Mitchel', -0.020739225514842717),\n",
       " ('Functional_Min1', -0.021065585591115776),\n",
       " ('TotalBsmtSF', 0.02116090775767652),\n",
       " ('Neighborhood_OldTown', -0.021429334865535332),\n",
       " ('MSZoning_FV', 0.021525618299157993),\n",
       " ('Exterior2nd_Stucco', -0.02160545629030141),\n",
       " ('Exterior1st_CemntBd', 0.021687255518240627),\n",
       " ('LotShape_IR3', -0.022023071049948485),\n",
       " ('Exterior1st_Wd Sdng', -0.02216801573721295),\n",
       " ('PavedDrive_Y', 0.02236081964246417),\n",
       " ('YrSold_2010', 0.022403072400623475),\n",
       " ('MasVnrType_BrkCmn', -0.022481525306273984),\n",
       " ('LowQualFinSF', 0.02307447122285368),\n",
       " ('Neighborhood_Blmngtn', -0.02362426903365227),\n",
       " ('HeatingQC_Gd', -0.02364830950863359),\n",
       " ('BsmtFinType2_ALQ', 0.023806124400003507),\n",
       " ('Exterior2nd_Wd Sdng', 0.023809050384884043),\n",
       " ('Exterior2nd_HdBoard', -0.023892608853412524),\n",
       " ('HeatingQC_Ex', 0.024245599836776908),\n",
       " ('GarageQual_Gd', 0.02445813131393702),\n",
       " ('MoSold_2', -0.024940908238996584),\n",
       " ('Exterior1st_Stucco', -0.025768423336192187),\n",
       " ('3SsnPorch', 0.025959619036499387),\n",
       " ('LotConfig_Corner', -0.026391022190389694),\n",
       " ('GarageCond_TA', -0.02717140626409025),\n",
       " ('MSSubClass_120', -0.027561551590814047),\n",
       " ('Condition2_PosN', -0.028142555615802943),\n",
       " ('MoSold_8', 0.028461068842876493),\n",
       " ('SaleCondition_Alloca', 0.02846277793968609),\n",
       " ('GarageType_Detchd', -0.02866672906109901),\n",
       " ('Foundation_BrkTil', -0.029439068475982204),\n",
       " ('BsmtCond_Fa', -0.030180034916352648),\n",
       " ('BedroomAbvGr', -0.03047493925706966),\n",
       " ('YearRemodAdd', 0.030533893194171758),\n",
       " ('Exterior2nd_BrkFace', 0.030937513047743347),\n",
       " ('Condition2_Norm', 0.03131501716780918),\n",
       " ('YrSold_2008', -0.03146871078606541),\n",
       " ('MoSold_10', -0.03148973736968571),\n",
       " ('HalfBath', 0.031705151107114644),\n",
       " ('LandSlope_Gtl', -0.03242599255007965),\n",
       " ('Neighborhood_NWAmes', -0.03334706057431391),\n",
       " ('LandSlope_Mod', 0.033508343056247836),\n",
       " ('Condition1_Feedr', -0.03447157131481313),\n",
       " ('SaleType_WD', -0.03483074836119955),\n",
       " ('GarageArea', 0.03577417324106697),\n",
       " ('Neighborhood_BrkSide', 0.03615743863226054),\n",
       " ('BldgType_Twnhs', -0.036320323132614636),\n",
       " ('RoofMatl_ClyTile', -0.036420614830326395),\n",
       " ('Neighborhood_NAmes', -0.03675428690157905),\n",
       " ('BsmtCond_TA', 0.03726993156492442),\n",
       " ('WoodDeckSF', 0.03739003686775459),\n",
       " ('HouseStyle_2Story', -0.037768443250166824),\n",
       " ('RoofStyle_Gable', -0.03846669283272253),\n",
       " ('FireplaceQu_Ex', 0.03974434616598474),\n",
       " ('Foundation_PConc', 0.040746536652628916),\n",
       " ('Neighborhood_Gilbert', -0.041859716031388064),\n",
       " ('BldgType_TwnhsE', -0.04220934637202368),\n",
       " ('LotFrontage', -0.04262017682544453),\n",
       " ('MSZoning_RL', 0.04341829316995188),\n",
       " ('SaleCondition_Abnorml', -0.044201594821639),\n",
       " ('MasVnrType_BrkFace', -0.044328575347005836),\n",
       " ('YearBuilt', 0.0454580164658751),\n",
       " ('Neighborhood_CollgCr', -0.045540336710912815),\n",
       " ('MasVnrArea', 0.045551251711253626),\n",
       " ('SaleType_New', 0.04588408140831488),\n",
       " ('SaleCondition_Partial', 0.04674504131973953),\n",
       " ('KitchenQual_Gd', -0.04746500977111707),\n",
       " ('Neighborhood_Crawfor', 0.04834343779926312),\n",
       " ('MSSubClass_160', -0.04948748806151087),\n",
       " ('Fireplaces', 0.04977744899504304),\n",
       " ('KitchenAbvGr', -0.05008589744982643),\n",
       " ('GarageQual_TA', -0.05256855964626718),\n",
       " ('LotArea', 0.053387881156115494),\n",
       " ('BsmtFinType1_Unf', -0.05411726925324509),\n",
       " ('PoolArea', -0.05456162812681502),\n",
       " ('Functional_Typ', 0.05541823801726058),\n",
       " ('FullBath', 0.05564711934134541),\n",
       " ('1stFlrSF', 0.05778902605849573),\n",
       " ('MSZoning_RM', -0.05830650509527003),\n",
       " ('BsmtQual_TA', -0.05971217000102707),\n",
       " ('ExterQual_Ex', 0.06114863907381899),\n",
       " ('Neighborhood_StoneBr', 0.0616793694682937),\n",
       " ('OverallCond', 0.061910830205372254),\n",
       " ('HouseStyle_1Story', 0.06330964374733208),\n",
       " ('ScreenPorch', 0.06381788596771798),\n",
       " ('LotConfig_CulDSac', 0.06407801098982432),\n",
       " ('Exterior1st_BrkFace', 0.06447284244531434),\n",
       " ('2ndFlrSF', 0.06600620724182428),\n",
       " ('BsmtFullBath', 0.06650349828804318),\n",
       " ('LandContour_HLS', 0.06730677236220142),\n",
       " ('LandContour_Bnk', -0.06768119791818286),\n",
       " ('Neighborhood_Edwards', -0.07046023808591222),\n",
       " ('BsmtFinType1_GLQ', 0.07117297382902565),\n",
       " ('BsmtExposure_No', -0.07163676829234278),\n",
       " ('BsmtQual_Gd', -0.07317733391527817),\n",
       " ('Neighborhood_NoRidge', 0.07387328372537108),\n",
       " ('MSSubClass_20', 0.0758100714612673),\n",
       " ('ExterQual_TA', -0.08310675199090128),\n",
       " ('BsmtExposure_Gd', 0.08459112511483799),\n",
       " ('KitchenQual_TA', -0.08522304690947416),\n",
       " ('BldgType_1Fam', 0.08643524403212811),\n",
       " ('Condition1_Norm', 0.09469159672660944),\n",
       " ('Neighborhood_NridgHt', 0.09889768888671667),\n",
       " ('GrLivArea', 0.09948243324777241),\n",
       " ('TotRmsAbvGrd', 0.11675690786148621),\n",
       " ('GarageCars', 0.11690955475637248),\n",
       " ('KitchenQual_Ex', 0.12020206281319429),\n",
       " ('BsmtQual_Ex', 0.14025633215149666),\n",
       " ('OverallQual', 0.22470570606807785)]"
      ]
     },
     "execution_count": 44,
     "metadata": {},
     "output_type": "execute_result"
    }
   ],
   "source": [
    "#I want to look at all the coefficients from my regression and want to keep coefficients that have a higher absolute value because they are more predictive of SalePrice\n",
    "linear_regression_model.fit(X_train, y_train)\n",
    "sorted(list(zip(traindf.columns, linear_regression_model.coef_)), key=lambda x: abs(x[1]))"
   ]
  },
  {
   "cell_type": "code",
   "execution_count": 45,
   "metadata": {},
   "outputs": [],
   "source": [
    "#only kept variables with relatively high coefficients\n",
    "newtraindf = traindf[['OverallQual','BsmtCond_Fa', 'Functional_Maj1', 'Neighborhood_SawyerW', 'EnclosedPorch', 'BsmtFinType1_BLQ', 'Condition1_RRAn', 'GarageYrBlt', 'WoodDeckSF', 'ExterCond_Po', 'BldgType_TwnhsE', 'BsmtCond_Po', 'Utilities_AllPub', 'Neighborhood_Mitchel', 'Neighborhood_Sawyer', 'ExterCond_Ex', 'Functional_Min2', 'MSSubClass_160', 'Utilities_NoSeWa', 'BsmtFinType1_LwQ', 'Condition1_Feedr', 'HalfBath', 'LandSlope_Gtl', 'Exterior1st_ImStucc', 'HouseStyle_SFoyer', 'BsmtFinType2_ALQ', 'MSSubClass_50', 'BsmtFullBath', 'GarageCond_Po', 'YearBuilt', 'MasVnrArea', 'Neighborhood_MeadowV', 'FireplaceQu_TA', 'MoSold_1', 'BsmtCond_TA', 'LotShape_IR2', 'BsmtQual_Gd', 'MSSubClass_30', 'BsmtFinType2_LwQ', 'Neighborhood_Blueste', 'Heating_Floor', 'SaleCondition_Normal', 'TotRmsAbvGrd', 'BedroomAbvGr', 'Functional_Min1', 'Condition1_RRAe', 'MasVnrType_BrkFace', 'GarageArea', 'SaleCondition_AdjLand', 'Neighborhood_NAmes', 'RoofMatl_Roll', 'Neighborhood_NridgHt', 'Neighborhood_BrDale', 'HouseStyle_1Story', 'YearRemodAdd', 'RoofStyle_Gable', 'PoolArea']]"
   ]
  },
  {
   "cell_type": "code",
   "execution_count": 46,
   "metadata": {},
   "outputs": [],
   "source": [
    "#another train test split to find optimal hyperparameters\n",
    "X_train, X_test, y_train, y_test = train_test_split(newtraindf, SalePrice, test_size=0.33, random_state=42)"
   ]
  },
  {
   "cell_type": "code",
   "execution_count": 47,
   "metadata": {},
   "outputs": [
    {
     "name": "stdout",
     "output_type": "stream",
     "text": [
      "Train MSE: 0.19259917970645926\n",
      "Test MSE: 0.2829460332655429\n"
     ]
    }
   ],
   "source": [
    "linear_regression_model = SGDRegressor(tol=.0001, eta0=.01)\n",
    "linear_regression_model.fit(X_train, y_train)\n",
    "train_predictions = linear_regression_model.predict(X_train)\n",
    "test_predictions = linear_regression_model.predict(X_test)\n",
    "\n",
    "train_mse = mean_squared_error(y_train, train_predictions)\n",
    "test_mse = mean_squared_error(y_test, test_predictions)\n",
    "\n",
    "print(\"Train MSE: {}\".format(train_mse))\n",
    "print(\"Test MSE: {}\".format(test_mse))"
   ]
  },
  {
   "cell_type": "code",
   "execution_count": 48,
   "metadata": {
    "scrolled": true
   },
   "outputs": [
    {
     "data": {
      "text/plain": [
       "<module 'matplotlib.pyplot' from '/Users/brycebangerter/anaconda3/lib/python3.6/site-packages/matplotlib/pyplot.py'>"
      ]
     },
     "execution_count": 48,
     "metadata": {},
     "output_type": "execute_result"
    },
    {
     "data": {
      "image/png": "[encoded data removed]",
      "text/plain": [
       "<matplotlib.figure.Figure at 0x1a14b3e5f8>"
      ]
     },
     "metadata": {},
     "output_type": "display_data"
    }
   ],
   "source": [
    "## source: http://scikit-learn.org/0.15/auto_examples/plot_learning_curve.html\n",
    "##another plot of MSEs for both train and test\n",
    "def plot_learning_curve(estimator, title, X, y, ylim=None, cv=None,\n",
    "                        n_jobs=1, train_sizes=np.linspace(.1, 1.0, 5)):\n",
    "    plt.figure()\n",
    "    plt.title(title)\n",
    "    if ylim is not None:\n",
    "        plt.ylim(*ylim)\n",
    "    plt.xlabel(\"Training examples\")\n",
    "    plt.ylabel(\"Score\")\n",
    "    train_sizes, train_scores, test_scores = learning_curve(\n",
    "        estimator, X, y, cv=cv, n_jobs=n_jobs, train_sizes=train_sizes, scoring=make_scorer(mean_squared_error))\n",
    "    train_scores_mean = np.mean(train_scores, axis=1)\n",
    "    train_scores_std = np.std(train_scores, axis=1)\n",
    "    test_scores_mean = np.mean(test_scores, axis=1)\n",
    "    test_scores_std = np.std(test_scores, axis=1)\n",
    "    plt.grid()\n",
    "\n",
    "    plt.fill_between(train_sizes, train_scores_mean - train_scores_std,\n",
    "                     train_scores_mean + train_scores_std, alpha=0.1,\n",
    "                     color=\"r\")\n",
    "    plt.fill_between(train_sizes, test_scores_mean - test_scores_std,\n",
    "                     test_scores_mean + test_scores_std, alpha=0.1, color=\"g\")\n",
    "    plt.plot(train_sizes, train_scores_mean, 'o-', color=\"r\",\n",
    "             label=\"Training score\")\n",
    "    plt.plot(train_sizes, test_scores_mean, 'o-', color=\"g\",\n",
    "             label=\"Cross-validation score\")\n",
    "\n",
    "    plt.legend(loc=\"best\")\n",
    "    return plt\n",
    "\n",
    "plot_learning_curve(linear_regression_model, \"Learning Curve\", X_train, y_train, cv=5)"
   ]
  },
  {
   "cell_type": "code",
   "execution_count": 49,
   "metadata": {},
   "outputs": [
    {
     "name": "stdout",
     "output_type": "stream",
     "text": [
      "Train MSE: 0.2389766296144455\n",
      "Test MSE: 0.3196315910455206\n"
     ]
    }
   ],
   "source": [
    "#This is the final model's MSEs for the train and test subsets of the data, which, if you refer to the plot above, are closer together than the last model, so there is less overfitting and better estimates relatively\n",
    "from sklearn.linear_model import ElasticNetCV\n",
    "clf = ElasticNetCV(l1_ratio=[.1, .5, .7, .9, .95, .99, 1], alphas=[.1, 1, 10])\n",
    "clf.fit(X_train, y_train)\n",
    "train_predictions = clf.predict(X_train)\n",
    "test_predictions = clf.predict(X_test)\n",
    "print(\"Train MSE: {}\".format(mean_squared_error(y_train, train_predictions)))\n",
    "print(\"Test MSE: {}\".format(mean_squared_error(y_test, test_predictions)))"
   ]
  }
 ],
 "metadata": {
  "kernelspec": {
   "display_name": "Python 3",
   "language": "python",
   "name": "python3"
  },
  "language_info": {
   "codemirror_mode": {
    "name": "ipython",
    "version": 3
   },
   "file_extension": ".py",
   "mimetype": "text/x-python",
   "name": "python",
   "nbconvert_exporter": "python",
   "pygments_lexer": "ipython3",
   "version": "3.6.4"
  }
 },
 "nbformat": 4,
 "nbformat_minor": 2
}
