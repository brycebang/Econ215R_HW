{
 "cells": [
  {
   "cell_type": "markdown",
   "metadata": {},
   "source": [
    "Import pandas and numpy packages and give them abbreviations for easier callback"
   ]
  },
  {
   "cell_type": "code",
   "execution_count": null,
   "metadata": {},
   "outputs": [],
   "source": [
    "import pandas as pd\n",
    "import numpy as py"
   ]
  },
  {
   "cell_type": "markdown",
   "metadata": {},
   "source": [
    "Read in my data file in .csv format"
   ]
  },
  {
   "cell_type": "code",
   "execution_count": null,
   "metadata": {},
   "outputs": [],
   "source": [
    "data = pd.read_csv(\"/Users/brycebangerter/Documents/NBA_player_of_the_week.csv\")"
   ]
  },
  {
   "cell_type": "markdown",
   "metadata": {},
   "source": [
    "View first 10 rows of data"
   ]
  },
  {
   "cell_type": "code",
   "execution_count": null,
   "metadata": {},
   "outputs": [],
   "source": [
    "data.head(10)"
   ]
  },
  {
   "cell_type": "markdown",
   "metadata": {},
   "source": [
    "Describe the data to see if there are any odd values that cast doubt on cleanliness/formatting of data"
   ]
  },
  {
   "cell_type": "code",
   "execution_count": null,
   "metadata": {},
   "outputs": [],
   "source": [
    "data.describe()"
   ]
  },
  {
   "cell_type": "markdown",
   "metadata": {},
   "source": [
    "Change the column names to have underscores instead of spaces for easier callback"
   ]
  },
  {
   "cell_type": "code",
   "execution_count": null,
   "metadata": {},
   "outputs": [],
   "source": [
    "data.rename(index=str, columns={'Draft Year':'Draft_Year', 'Season short': 'Season_Short', 'Seasons in league': 'Seasons_In_League', 'Height': 'Height_In', 'Weight': 'Weight_lbs'}, inplace=True)"
   ]
  },
  {
   "cell_type": "markdown",
   "metadata": {},
   "source": [
    "strip the label \"kg\" at the end of some of the data inputs for weight"
   ]
  },
  {
   "cell_type": "code",
   "execution_count": null,
   "metadata": {},
   "outputs": [],
   "source": [
    "data['Weight_lbs'] = data['Weight_lbs'].map(lambda x: x.rstrip('kg'))"
   ]
  },
  {
   "cell_type": "markdown",
   "metadata": {},
   "source": [
    "I wanted to drop Conference and real value columns because they don't matter. "
   ]
  },
  {
   "cell_type": "code",
   "execution_count": null,
   "metadata": {},
   "outputs": [],
   "source": [
    "data.drop(data.columns[[1,4,12]], axis=1, inplace=True)"
   ]
  },
  {
   "cell_type": "markdown",
   "metadata": {},
   "source": [
    "View data table to see that all changes have been made correctly"
   ]
  },
  {
   "cell_type": "code",
   "execution_count": null,
   "metadata": {},
   "outputs": [],
   "source": [
    "data"
   ]
  },
  {
   "cell_type": "markdown",
   "metadata": {},
   "source": [
    "Want to see what type (string, integer) each column's data are"
   ]
  },
  {
   "cell_type": "code",
   "execution_count": null,
   "metadata": {},
   "outputs": [],
   "source": [
    "data.info()"
   ]
  },
  {
   "cell_type": "markdown",
   "metadata": {},
   "source": [
    "Convert Weights from string to integer so I can manipulate it"
   ]
  },
  {
   "cell_type": "code",
   "execution_count": null,
   "metadata": {},
   "outputs": [],
   "source": [
    "data['Weight_lbs'] = data['Weight_lbs'].astype(int)"
   ]
  },
  {
   "cell_type": "markdown",
   "metadata": {},
   "source": [
    "Defining a function to convert from kg to pounds on the weights in 2017 and 2018 since they were the only years listed as kg when all the other years were listed in pounds. Then I ran the function and converted the data type to integer because the output turned it into a float."
   ]
  },
  {
   "cell_type": "code",
   "execution_count": null,
   "metadata": {},
   "outputs": [],
   "source": [
    "def kg_to_lbs(row):\n",
    "    if (row[\"Season_Short\"] >= 2017):\n",
    "        return (row[\"Weight_lbs\"] * 2.20462)\n",
    "    else:\n",
    "        return row[\"Weight_lbs\"]"
   ]
  },
  {
   "cell_type": "code",
   "execution_count": null,
   "metadata": {},
   "outputs": [],
   "source": [
    "data['Weight_lbs'] = data.apply(kg_to_lbs, axis=1)"
   ]
  },
  {
   "cell_type": "code",
   "execution_count": null,
   "metadata": {},
   "outputs": [],
   "source": [
    "data['Weight_lbs'] = data['Weight_lbs'].astype(int)"
   ]
  },
  {
   "cell_type": "markdown",
   "metadata": {},
   "source": [
    "Wanted to see the bottom and top rows of the data to see if the function performed correctly"
   ]
  },
  {
   "cell_type": "code",
   "execution_count": null,
   "metadata": {},
   "outputs": [],
   "source": [
    "data.tail()"
   ]
  },
  {
   "cell_type": "code",
   "execution_count": null,
   "metadata": {},
   "outputs": [],
   "source": [
    "data.head()"
   ]
  },
  {
   "cell_type": "markdown",
   "metadata": {},
   "source": [
    "With this function, I change the team names to their abbreviations. I also change outdated franchise names to their current franchise name. For example, the Washington Bullets became the Washington Wizards in 1997, so I renamed the Bullets data to be Wizards data so they would be counted and grouped together, since the franchise is the same. "
   ]
  },
  {
   "cell_type": "code",
   "execution_count": null,
   "metadata": {},
   "outputs": [],
   "source": [
    "def abbreviation(row):\n",
    "    if (row[\"Team\"] == \"Los Angeles Lakers\"):\n",
    "        return \"LAL\"\n",
    "    elif (row[\"Team\"] == \"San Antonio Spurs\"):\n",
    "        return \"SAS\"\n",
    "    elif (row[\"Team\"] == \"Cleveland Cavaliers\"):\n",
    "        return \"CLE\"\n",
    "    elif (row[\"Team\"] == \"Miami Heat\"):\n",
    "        return \"MIA\"\n",
    "    elif (row[\"Team\"] == \"Houston Rockets\"):\n",
    "        return \"HOU\"\n",
    "    elif (row[\"Team\"] == \"Utah Jazz\"):\n",
    "        return \"UTA\"\n",
    "    elif (row[\"Team\"] == \"Phoenix Suns\"):\n",
    "        return \"PHX\"\n",
    "    elif (row[\"Team\"] == \"Golden State Warriors\"):\n",
    "        return \"GSW\"\n",
    "    elif (row[\"Team\"] == \"Chicago Bulls\"):\n",
    "        return \"CHI\"\n",
    "    elif (row[\"Team\"] == \"Orlando Magic\"):\n",
    "        return \"ORL\"\n",
    "    elif (row[\"Team\"] == \"Boston Celtics\"):\n",
    "        return \"BOS\"\n",
    "    elif (row[\"Team\"] == \"Oklahoma City Thunder\"):\n",
    "        return \"OKC\"\n",
    "    elif (row[\"Team\"] == \"Denver Nuggets\"):\n",
    "        return \"DEN\"\n",
    "    elif (row[\"Team\"] == \"Philadelphia Sixers\"):\n",
    "        return \"PHI\"\n",
    "    elif (row[\"Team\"] == \"New York Knicks\"):\n",
    "        return \"NYK\"\n",
    "    elif (row[\"Team\"] == \"Portland Trail Blazers\"):\n",
    "        return \"POR\"\n",
    "    elif (row[\"Team\"] == \"Atlanta Hawks\"):\n",
    "        return \"ATL\"\n",
    "    elif (row[\"Team\"] == \"New Jersey Nets\"):\n",
    "        return \"BKN\"\n",
    "    elif (row[\"Team\"] == \"Toronto Raptors\"):\n",
    "        return \"TOR\"\n",
    "    elif (row[\"Team\"] == \"Dallas Mavericks\"):\n",
    "        return \"DAL\"\n",
    "    elif (row[\"Team\"] == \"Detroit Pistons\"):\n",
    "        return \"DET\"\n",
    "    elif (row[\"Team\"] == \"Los Angeles Clippers\"):\n",
    "        return \"LAC\"\n",
    "    elif (row[\"Team\"] == \"Milwaukee Bucks\"):\n",
    "        return \"MIL\"\n",
    "    elif (row[\"Team\"] == \"Minnesota Timberwolves\"):\n",
    "        return \"MIN\"\n",
    "    elif (row[\"Team\"] == \"Indiana Pacers\"):\n",
    "        return \"IND\"\n",
    "    elif (row[\"Team\"] == \"Washington Wizards\"):\n",
    "        return \"WAS\"\n",
    "    elif (row[\"Team\"] == \"Sacramento Kings\"):\n",
    "        return \"SAC\"\n",
    "    elif (row[\"Team\"] == \"Seattle SuperSonics\"):\n",
    "        return \"OKC\"\n",
    "    elif (row[\"Team\"] == \"Charlotte Hornets\"):\n",
    "        return \"CHA\"\n",
    "    elif (row[\"Team\"] == \"New Orleans Hornets\"):\n",
    "        return \"NOP\"\n",
    "    elif (row[\"Team\"] == \"Charlotte Bobcats\"):\n",
    "        return \"CHA\"\n",
    "    elif (row[\"Team\"] == \"Memphis Grizzlies\"):\n",
    "        return \"MEM\"\n",
    "    elif (row[\"Team\"] == \"Washington Bullets\"):\n",
    "        return \"WAS\"\n",
    "    elif (row[\"Team\"] == \"Brooklyn Nets\"):\n",
    "        return \"BKN\"\n",
    "    elif (row[\"Team\"] == \"New Orleans Pelicans\"):\n",
    "        return \"NOP\"\n",
    "    else:\n",
    "        return row[\"Team\"]"
   ]
  },
  {
   "cell_type": "code",
   "execution_count": null,
   "metadata": {},
   "outputs": [],
   "source": [
    "data['Team'] = data.apply(abbreviation, axis=1)"
   ]
  },
  {
   "cell_type": "markdown",
   "metadata": {},
   "source": [
    "I do various value counts for Teams (shows each team and how often they had a player that was player of the week), Seasons In League (shows how many players of the week were in a particular year of their career when they won the award), Age (shows how many players of the week were a particular age when they won the award), and Position (shows how many players of the week were a particular position)."
   ]
  },
  {
   "cell_type": "code",
   "execution_count": null,
   "metadata": {},
   "outputs": [],
   "source": [
    "data['Team'].value_counts()"
   ]
  },
  {
   "cell_type": "code",
   "execution_count": null,
   "metadata": {},
   "outputs": [],
   "source": [
    "data['Seasons_In_League'].value_counts()"
   ]
  },
  {
   "cell_type": "code",
   "execution_count": null,
   "metadata": {},
   "outputs": [],
   "source": [
    "data['Age'].value_counts()"
   ]
  },
  {
   "cell_type": "code",
   "execution_count": null,
   "metadata": {},
   "outputs": [],
   "source": [
    "data['Position'].value_counts()"
   ]
  },
  {
   "cell_type": "markdown",
   "metadata": {},
   "source": [
    "This shows the top 10 players with the most player of the week awards and the number of times they won it"
   ]
  },
  {
   "cell_type": "code",
   "execution_count": null,
   "metadata": {},
   "outputs": [],
   "source": [
    "data['Player'].value_counts().nlargest(10)"
   ]
  },
  {
   "cell_type": "markdown",
   "metadata": {},
   "source": [
    "This shows the statistics of the data, such as mean, standard deviation, minimum and maximum for each continuous variable in the data"
   ]
  },
  {
   "cell_type": "code",
   "execution_count": null,
   "metadata": {},
   "outputs": [],
   "source": [
    "data.describe()"
   ]
  },
  {
   "cell_type": "markdown",
   "metadata": {},
   "source": [
    "I made box and whisker plots for various variables"
   ]
  },
  {
   "cell_type": "code",
   "execution_count": null,
   "metadata": {},
   "outputs": [],
   "source": [
    "bbox = data['Seasons_In_League'].plot(kind=\"box\")"
   ]
  },
  {
   "cell_type": "code",
   "execution_count": null,
   "metadata": {},
   "outputs": [],
   "source": [
    "bbox = data['Age'].plot(kind=\"box\")"
   ]
  },
  {
   "cell_type": "code",
   "execution_count": null,
   "metadata": {},
   "outputs": [],
   "source": [
    "bbox = data['Weight_lbs'].plot(kind='box')"
   ]
  },
  {
   "cell_type": "code",
   "execution_count": null,
   "metadata": {},
   "outputs": [],
   "source": [
    "bbox = data['Weight_lbs'].plot(kind=\"box\")"
   ]
  },
  {
   "cell_type": "markdown",
   "metadata": {},
   "source": [
    "I import the data visualization packages I need"
   ]
  },
  {
   "cell_type": "code",
   "execution_count": null,
   "metadata": {},
   "outputs": [],
   "source": [
    "import seaborn as sns\n",
    "import matplotlib.pyplot as plt\n",
    "%matplotlib inline"
   ]
  },
  {
   "cell_type": "markdown",
   "metadata": {},
   "source": [
    "Made a bar graph that shows the frequency of player of the week awards by team"
   ]
  },
  {
   "cell_type": "code",
   "execution_count": null,
   "metadata": {},
   "outputs": [],
   "source": [
    "plt.figure(figsize=(15,4))\n",
    "sns.countplot(x=\"Team\", data=data)\n",
    "plt.show()"
   ]
  },
  {
   "cell_type": "markdown",
   "metadata": {},
   "source": [
    "Made a bar graph and histogram to represent the frequency/distribution of age for player of the week award recipients"
   ]
  },
  {
   "cell_type": "code",
   "execution_count": null,
   "metadata": {},
   "outputs": [],
   "source": [
    "plt.figure(figsize=(10,4))\n",
    "sns.countplot(x=\"Age\", data=data)\n",
    "plt.show()"
   ]
  },
  {
   "cell_type": "code",
   "execution_count": null,
   "metadata": {},
   "outputs": [],
   "source": [
    "sns.distplot(data.Age)"
   ]
  },
  {
   "cell_type": "markdown",
   "metadata": {},
   "source": [
    "Made a histogram to represent the distribution of seasons in the league for player of the week award recipients. It appears to be normally distributed such that players who are at the beginning or end of their career are players of the week less often than those in the \"prime\" years of the middle of their career. "
   ]
  },
  {
   "cell_type": "code",
   "execution_count": null,
   "metadata": {},
   "outputs": [],
   "source": [
    "sns.distplot(data.Seasons_In_League)"
   ]
  },
  {
   "cell_type": "markdown",
   "metadata": {},
   "source": [
    "Made a bar graph to show the frequency of positions that win player of the week"
   ]
  },
  {
   "cell_type": "code",
   "execution_count": null,
   "metadata": {},
   "outputs": [],
   "source": [
    "plt.figure(figsize=(15,4))\n",
    "sns.countplot(x=\"Position\", data=data)\n",
    "plt.show()"
   ]
  },
  {
   "cell_type": "markdown",
   "metadata": {},
   "source": [
    "Lastly, I wanted to show the distribution of weight for play of the week award recipients. We can see that it is unclear how normally distributed it is. This may be because certain weights might correlate to \"overweight\" guards or \"underweight\" forwards/centers. If you were over/underweight for your position, it is plausible that you would be less likely to be a player of the week. "
   ]
  },
  {
   "cell_type": "code",
   "execution_count": null,
   "metadata": {},
   "outputs": [],
   "source": [
    "sns.distplot(data.Weight_lbs)"
   ]
  }
 ],
 "metadata": {
  "kernelspec": {
   "display_name": "Python 3",
   "language": "python",
   "name": "python3"
  },
  "language_info": {
   "codemirror_mode": {
    "name": "ipython",
    "version": 3
   },
   "file_extension": ".py",
   "mimetype": "text/x-python",
   "name": "python",
   "nbconvert_exporter": "python",
   "pygments_lexer": "ipython3",
   "version": "3.6.4"
  }
 },
 "nbformat": 4,
 "nbformat_minor": 2
}
