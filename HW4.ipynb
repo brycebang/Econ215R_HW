{
 "cells": [
  {
   "cell_type": "markdown",
   "metadata": {},
   "source": [
    "# Costa Rican Household Poverty Level Prediction"
   ]
  },
  {
   "cell_type": "markdown",
   "metadata": {},
   "source": [
    "In this assignment, I need to use the variables given to me in the data set to predict what poverty level each of these individuals belong to. Because this is a classification problem, I am going to do a Random Forest algorithm to be able to predict, given a data point's characteristics, what poverty level (\"Target\") that person should be classified as.\n",
    "\n",
    "I will go about this in the following steps:\n",
    "1. Data Cleaning\n",
    "2. Feature Selection and Engineering\n",
    "3. Random Forest Modeling  "
   ]
  },
  {
   "cell_type": "markdown",
   "metadata": {},
   "source": [
    "# 1. Data Cleaning"
   ]
  },
  {
   "cell_type": "markdown",
   "metadata": {},
   "source": [
    "When we clean data, we want to make sure we fill NaN values or drop the variable if too many are missing. We also want to fix anything that looks erroneous after reviewing the data. "
   ]
  },
  {
   "cell_type": "code",
   "execution_count": 1,
   "metadata": {},
   "outputs": [],
   "source": [
    "#import packages needed for using dataframe, running logistic regression, and visualization\n",
    "import pandas as pd\n",
    "import numpy as np\n",
    "import matplotlib.pyplot as plt\n",
    "import seaborn as sns\n",
    "import math\n",
    "import pprint\n",
    "from __future__ import division\n",
    "%matplotlib inline"
   ]
  },
  {
   "cell_type": "code",
   "execution_count": 2,
   "metadata": {},
   "outputs": [],
   "source": [
    "#read in data sets\n",
    "train_df = pd.read_csv(\"/Users/brycebangerter/Documents/Costa_Rica/train.csv\")\n",
    "test_df = pd.read_csv(\"/Users/brycebangerter/Documents/Costa_Rica/test.csv\")"
   ]
  },
  {
   "cell_type": "markdown",
   "metadata": {},
   "source": [
    "After looking at the data, I found that the train set has one more column of data than the test set, but this is okay, because the train set has a \"Target\" variable while the test does not, since we are predicting that for the test set. "
   ]
  },
  {
   "cell_type": "code",
   "execution_count": 3,
   "metadata": {},
   "outputs": [
    {
     "data": {
      "text/html": [
       "<div>\n",
       "<style scoped>\n",
       "    .dataframe tbody tr th:only-of-type {\n",
       "        vertical-align: middle;\n",
       "    }\n",
       "\n",
       "    .dataframe tbody tr th {\n",
       "        vertical-align: top;\n",
       "    }\n",
       "\n",
       "    .dataframe thead th {\n",
       "        text-align: right;\n",
       "    }\n",
       "</style>\n",
       "<table border=\"1\" class=\"dataframe\">\n",
       "  <thead>\n",
       "    <tr style=\"text-align: right;\">\n",
       "      <th></th>\n",
       "      <th>Id</th>\n",
       "      <th>v2a1</th>\n",
       "      <th>hacdor</th>\n",
       "      <th>rooms</th>\n",
       "      <th>hacapo</th>\n",
       "      <th>v14a</th>\n",
       "      <th>refrig</th>\n",
       "      <th>v18q</th>\n",
       "      <th>v18q1</th>\n",
       "      <th>r4h1</th>\n",
       "      <th>...</th>\n",
       "      <th>SQBescolari</th>\n",
       "      <th>SQBage</th>\n",
       "      <th>SQBhogar_total</th>\n",
       "      <th>SQBedjefe</th>\n",
       "      <th>SQBhogar_nin</th>\n",
       "      <th>SQBovercrowding</th>\n",
       "      <th>SQBdependency</th>\n",
       "      <th>SQBmeaned</th>\n",
       "      <th>agesq</th>\n",
       "      <th>Target</th>\n",
       "    </tr>\n",
       "  </thead>\n",
       "  <tbody>\n",
       "    <tr>\n",
       "      <th>0</th>\n",
       "      <td>ID_279628684</td>\n",
       "      <td>190000.0</td>\n",
       "      <td>0</td>\n",
       "      <td>3</td>\n",
       "      <td>0</td>\n",
       "      <td>1</td>\n",
       "      <td>1</td>\n",
       "      <td>0</td>\n",
       "      <td>NaN</td>\n",
       "      <td>0</td>\n",
       "      <td>...</td>\n",
       "      <td>100</td>\n",
       "      <td>1849</td>\n",
       "      <td>1</td>\n",
       "      <td>100</td>\n",
       "      <td>0</td>\n",
       "      <td>1.000000</td>\n",
       "      <td>0.0</td>\n",
       "      <td>100.0</td>\n",
       "      <td>1849</td>\n",
       "      <td>4</td>\n",
       "    </tr>\n",
       "    <tr>\n",
       "      <th>1</th>\n",
       "      <td>ID_f29eb3ddd</td>\n",
       "      <td>135000.0</td>\n",
       "      <td>0</td>\n",
       "      <td>4</td>\n",
       "      <td>0</td>\n",
       "      <td>1</td>\n",
       "      <td>1</td>\n",
       "      <td>1</td>\n",
       "      <td>1.0</td>\n",
       "      <td>0</td>\n",
       "      <td>...</td>\n",
       "      <td>144</td>\n",
       "      <td>4489</td>\n",
       "      <td>1</td>\n",
       "      <td>144</td>\n",
       "      <td>0</td>\n",
       "      <td>1.000000</td>\n",
       "      <td>64.0</td>\n",
       "      <td>144.0</td>\n",
       "      <td>4489</td>\n",
       "      <td>4</td>\n",
       "    </tr>\n",
       "    <tr>\n",
       "      <th>2</th>\n",
       "      <td>ID_68de51c94</td>\n",
       "      <td>NaN</td>\n",
       "      <td>0</td>\n",
       "      <td>8</td>\n",
       "      <td>0</td>\n",
       "      <td>1</td>\n",
       "      <td>1</td>\n",
       "      <td>0</td>\n",
       "      <td>NaN</td>\n",
       "      <td>0</td>\n",
       "      <td>...</td>\n",
       "      <td>121</td>\n",
       "      <td>8464</td>\n",
       "      <td>1</td>\n",
       "      <td>0</td>\n",
       "      <td>0</td>\n",
       "      <td>0.250000</td>\n",
       "      <td>64.0</td>\n",
       "      <td>121.0</td>\n",
       "      <td>8464</td>\n",
       "      <td>4</td>\n",
       "    </tr>\n",
       "    <tr>\n",
       "      <th>3</th>\n",
       "      <td>ID_d671db89c</td>\n",
       "      <td>180000.0</td>\n",
       "      <td>0</td>\n",
       "      <td>5</td>\n",
       "      <td>0</td>\n",
       "      <td>1</td>\n",
       "      <td>1</td>\n",
       "      <td>1</td>\n",
       "      <td>1.0</td>\n",
       "      <td>0</td>\n",
       "      <td>...</td>\n",
       "      <td>81</td>\n",
       "      <td>289</td>\n",
       "      <td>16</td>\n",
       "      <td>121</td>\n",
       "      <td>4</td>\n",
       "      <td>1.777778</td>\n",
       "      <td>1.0</td>\n",
       "      <td>121.0</td>\n",
       "      <td>289</td>\n",
       "      <td>4</td>\n",
       "    </tr>\n",
       "    <tr>\n",
       "      <th>4</th>\n",
       "      <td>ID_d56d6f5f5</td>\n",
       "      <td>180000.0</td>\n",
       "      <td>0</td>\n",
       "      <td>5</td>\n",
       "      <td>0</td>\n",
       "      <td>1</td>\n",
       "      <td>1</td>\n",
       "      <td>1</td>\n",
       "      <td>1.0</td>\n",
       "      <td>0</td>\n",
       "      <td>...</td>\n",
       "      <td>121</td>\n",
       "      <td>1369</td>\n",
       "      <td>16</td>\n",
       "      <td>121</td>\n",
       "      <td>4</td>\n",
       "      <td>1.777778</td>\n",
       "      <td>1.0</td>\n",
       "      <td>121.0</td>\n",
       "      <td>1369</td>\n",
       "      <td>4</td>\n",
       "    </tr>\n",
       "  </tbody>\n",
       "</table>\n",
       "<p>5 rows × 143 columns</p>\n",
       "</div>"
      ],
      "text/plain": [
       "             Id      v2a1  hacdor  rooms  hacapo  v14a  refrig  v18q  v18q1  \\\n",
       "0  ID_279628684  190000.0       0      3       0     1       1     0    NaN   \n",
       "1  ID_f29eb3ddd  135000.0       0      4       0     1       1     1    1.0   \n",
       "2  ID_68de51c94       NaN       0      8       0     1       1     0    NaN   \n",
       "3  ID_d671db89c  180000.0       0      5       0     1       1     1    1.0   \n",
       "4  ID_d56d6f5f5  180000.0       0      5       0     1       1     1    1.0   \n",
       "\n",
       "   r4h1   ...    SQBescolari  SQBage  SQBhogar_total  SQBedjefe  SQBhogar_nin  \\\n",
       "0     0   ...            100    1849               1        100             0   \n",
       "1     0   ...            144    4489               1        144             0   \n",
       "2     0   ...            121    8464               1          0             0   \n",
       "3     0   ...             81     289              16        121             4   \n",
       "4     0   ...            121    1369              16        121             4   \n",
       "\n",
       "   SQBovercrowding  SQBdependency  SQBmeaned  agesq  Target  \n",
       "0         1.000000            0.0      100.0   1849       4  \n",
       "1         1.000000           64.0      144.0   4489       4  \n",
       "2         0.250000           64.0      121.0   8464       4  \n",
       "3         1.777778            1.0      121.0    289       4  \n",
       "4         1.777778            1.0      121.0   1369       4  \n",
       "\n",
       "[5 rows x 143 columns]"
      ]
     },
     "execution_count": 3,
     "metadata": {},
     "output_type": "execute_result"
    }
   ],
   "source": [
    "#view training data\n",
    "train_df.head()"
   ]
  },
  {
   "cell_type": "code",
   "execution_count": 4,
   "metadata": {
    "scrolled": true
   },
   "outputs": [
    {
     "data": {
      "text/html": [
       "<div>\n",
       "<style scoped>\n",
       "    .dataframe tbody tr th:only-of-type {\n",
       "        vertical-align: middle;\n",
       "    }\n",
       "\n",
       "    .dataframe tbody tr th {\n",
       "        vertical-align: top;\n",
       "    }\n",
       "\n",
       "    .dataframe thead th {\n",
       "        text-align: right;\n",
       "    }\n",
       "</style>\n",
       "<table border=\"1\" class=\"dataframe\">\n",
       "  <thead>\n",
       "    <tr style=\"text-align: right;\">\n",
       "      <th></th>\n",
       "      <th>Id</th>\n",
       "      <th>v2a1</th>\n",
       "      <th>hacdor</th>\n",
       "      <th>rooms</th>\n",
       "      <th>hacapo</th>\n",
       "      <th>v14a</th>\n",
       "      <th>refrig</th>\n",
       "      <th>v18q</th>\n",
       "      <th>v18q1</th>\n",
       "      <th>r4h1</th>\n",
       "      <th>...</th>\n",
       "      <th>age</th>\n",
       "      <th>SQBescolari</th>\n",
       "      <th>SQBage</th>\n",
       "      <th>SQBhogar_total</th>\n",
       "      <th>SQBedjefe</th>\n",
       "      <th>SQBhogar_nin</th>\n",
       "      <th>SQBovercrowding</th>\n",
       "      <th>SQBdependency</th>\n",
       "      <th>SQBmeaned</th>\n",
       "      <th>agesq</th>\n",
       "    </tr>\n",
       "  </thead>\n",
       "  <tbody>\n",
       "    <tr>\n",
       "      <th>0</th>\n",
       "      <td>ID_2f6873615</td>\n",
       "      <td>NaN</td>\n",
       "      <td>0</td>\n",
       "      <td>5</td>\n",
       "      <td>0</td>\n",
       "      <td>1</td>\n",
       "      <td>1</td>\n",
       "      <td>0</td>\n",
       "      <td>NaN</td>\n",
       "      <td>1</td>\n",
       "      <td>...</td>\n",
       "      <td>4</td>\n",
       "      <td>0</td>\n",
       "      <td>16</td>\n",
       "      <td>9</td>\n",
       "      <td>0</td>\n",
       "      <td>1</td>\n",
       "      <td>2.25</td>\n",
       "      <td>0.25</td>\n",
       "      <td>272.25</td>\n",
       "      <td>16</td>\n",
       "    </tr>\n",
       "    <tr>\n",
       "      <th>1</th>\n",
       "      <td>ID_1c78846d2</td>\n",
       "      <td>NaN</td>\n",
       "      <td>0</td>\n",
       "      <td>5</td>\n",
       "      <td>0</td>\n",
       "      <td>1</td>\n",
       "      <td>1</td>\n",
       "      <td>0</td>\n",
       "      <td>NaN</td>\n",
       "      <td>1</td>\n",
       "      <td>...</td>\n",
       "      <td>41</td>\n",
       "      <td>256</td>\n",
       "      <td>1681</td>\n",
       "      <td>9</td>\n",
       "      <td>0</td>\n",
       "      <td>1</td>\n",
       "      <td>2.25</td>\n",
       "      <td>0.25</td>\n",
       "      <td>272.25</td>\n",
       "      <td>1681</td>\n",
       "    </tr>\n",
       "    <tr>\n",
       "      <th>2</th>\n",
       "      <td>ID_e5442cf6a</td>\n",
       "      <td>NaN</td>\n",
       "      <td>0</td>\n",
       "      <td>5</td>\n",
       "      <td>0</td>\n",
       "      <td>1</td>\n",
       "      <td>1</td>\n",
       "      <td>0</td>\n",
       "      <td>NaN</td>\n",
       "      <td>1</td>\n",
       "      <td>...</td>\n",
       "      <td>41</td>\n",
       "      <td>289</td>\n",
       "      <td>1681</td>\n",
       "      <td>9</td>\n",
       "      <td>0</td>\n",
       "      <td>1</td>\n",
       "      <td>2.25</td>\n",
       "      <td>0.25</td>\n",
       "      <td>272.25</td>\n",
       "      <td>1681</td>\n",
       "    </tr>\n",
       "    <tr>\n",
       "      <th>3</th>\n",
       "      <td>ID_a8db26a79</td>\n",
       "      <td>NaN</td>\n",
       "      <td>0</td>\n",
       "      <td>14</td>\n",
       "      <td>0</td>\n",
       "      <td>1</td>\n",
       "      <td>1</td>\n",
       "      <td>1</td>\n",
       "      <td>1.0</td>\n",
       "      <td>0</td>\n",
       "      <td>...</td>\n",
       "      <td>59</td>\n",
       "      <td>256</td>\n",
       "      <td>3481</td>\n",
       "      <td>1</td>\n",
       "      <td>256</td>\n",
       "      <td>0</td>\n",
       "      <td>1.00</td>\n",
       "      <td>0.00</td>\n",
       "      <td>256.00</td>\n",
       "      <td>3481</td>\n",
       "    </tr>\n",
       "    <tr>\n",
       "      <th>4</th>\n",
       "      <td>ID_a62966799</td>\n",
       "      <td>175000.0</td>\n",
       "      <td>0</td>\n",
       "      <td>4</td>\n",
       "      <td>0</td>\n",
       "      <td>1</td>\n",
       "      <td>1</td>\n",
       "      <td>1</td>\n",
       "      <td>1.0</td>\n",
       "      <td>0</td>\n",
       "      <td>...</td>\n",
       "      <td>18</td>\n",
       "      <td>121</td>\n",
       "      <td>324</td>\n",
       "      <td>1</td>\n",
       "      <td>0</td>\n",
       "      <td>1</td>\n",
       "      <td>0.25</td>\n",
       "      <td>64.00</td>\n",
       "      <td>NaN</td>\n",
       "      <td>324</td>\n",
       "    </tr>\n",
       "  </tbody>\n",
       "</table>\n",
       "<p>5 rows × 142 columns</p>\n",
       "</div>"
      ],
      "text/plain": [
       "             Id      v2a1  hacdor  rooms  hacapo  v14a  refrig  v18q  v18q1  \\\n",
       "0  ID_2f6873615       NaN       0      5       0     1       1     0    NaN   \n",
       "1  ID_1c78846d2       NaN       0      5       0     1       1     0    NaN   \n",
       "2  ID_e5442cf6a       NaN       0      5       0     1       1     0    NaN   \n",
       "3  ID_a8db26a79       NaN       0     14       0     1       1     1    1.0   \n",
       "4  ID_a62966799  175000.0       0      4       0     1       1     1    1.0   \n",
       "\n",
       "   r4h1  ...    age  SQBescolari  SQBage  SQBhogar_total  SQBedjefe  \\\n",
       "0     1  ...      4            0      16               9          0   \n",
       "1     1  ...     41          256    1681               9          0   \n",
       "2     1  ...     41          289    1681               9          0   \n",
       "3     0  ...     59          256    3481               1        256   \n",
       "4     0  ...     18          121     324               1          0   \n",
       "\n",
       "   SQBhogar_nin  SQBovercrowding  SQBdependency  SQBmeaned  agesq  \n",
       "0             1             2.25           0.25     272.25     16  \n",
       "1             1             2.25           0.25     272.25   1681  \n",
       "2             1             2.25           0.25     272.25   1681  \n",
       "3             0             1.00           0.00     256.00   3481  \n",
       "4             1             0.25          64.00        NaN    324  \n",
       "\n",
       "[5 rows x 142 columns]"
      ]
     },
     "execution_count": 4,
     "metadata": {},
     "output_type": "execute_result"
    }
   ],
   "source": [
    "#view test data\n",
    "test_df.head()"
   ]
  },
  {
   "cell_type": "markdown",
   "metadata": {},
   "source": [
    "Below we see that there are inconsistencies between strings and floats within a column of data. After reading the description of the data on the kaggle website, we can 1 should represent \"yes\" and 0 should represent \"no.\" I can replace this misrecorded values with the right number and convert the whole column to be a float."
   ]
  },
  {
   "cell_type": "code",
   "execution_count": 5,
   "metadata": {
    "scrolled": true
   },
   "outputs": [
    {
     "data": {
      "text/html": [
       "<div>\n",
       "<style scoped>\n",
       "    .dataframe tbody tr th:only-of-type {\n",
       "        vertical-align: middle;\n",
       "    }\n",
       "\n",
       "    .dataframe tbody tr th {\n",
       "        vertical-align: top;\n",
       "    }\n",
       "\n",
       "    .dataframe thead th {\n",
       "        text-align: right;\n",
       "    }\n",
       "</style>\n",
       "<table border=\"1\" class=\"dataframe\">\n",
       "  <thead>\n",
       "    <tr style=\"text-align: right;\">\n",
       "      <th></th>\n",
       "      <th>Id</th>\n",
       "      <th>idhogar</th>\n",
       "      <th>dependency</th>\n",
       "      <th>edjefe</th>\n",
       "      <th>edjefa</th>\n",
       "    </tr>\n",
       "  </thead>\n",
       "  <tbody>\n",
       "    <tr>\n",
       "      <th>0</th>\n",
       "      <td>ID_2f6873615</td>\n",
       "      <td>72958b30c</td>\n",
       "      <td>.5</td>\n",
       "      <td>no</td>\n",
       "      <td>17</td>\n",
       "    </tr>\n",
       "    <tr>\n",
       "      <th>1</th>\n",
       "      <td>ID_1c78846d2</td>\n",
       "      <td>72958b30c</td>\n",
       "      <td>.5</td>\n",
       "      <td>no</td>\n",
       "      <td>17</td>\n",
       "    </tr>\n",
       "    <tr>\n",
       "      <th>2</th>\n",
       "      <td>ID_e5442cf6a</td>\n",
       "      <td>72958b30c</td>\n",
       "      <td>.5</td>\n",
       "      <td>no</td>\n",
       "      <td>17</td>\n",
       "    </tr>\n",
       "    <tr>\n",
       "      <th>3</th>\n",
       "      <td>ID_a8db26a79</td>\n",
       "      <td>5b598fbc9</td>\n",
       "      <td>no</td>\n",
       "      <td>16</td>\n",
       "      <td>no</td>\n",
       "    </tr>\n",
       "    <tr>\n",
       "      <th>4</th>\n",
       "      <td>ID_a62966799</td>\n",
       "      <td>1e2fc704e</td>\n",
       "      <td>8</td>\n",
       "      <td>no</td>\n",
       "      <td>11</td>\n",
       "    </tr>\n",
       "    <tr>\n",
       "      <th>5</th>\n",
       "      <td>ID_e77d38d45</td>\n",
       "      <td>8ee7365a8</td>\n",
       "      <td>no</td>\n",
       "      <td>no</td>\n",
       "      <td>11</td>\n",
       "    </tr>\n",
       "    <tr>\n",
       "      <th>6</th>\n",
       "      <td>ID_3c5f4bd51</td>\n",
       "      <td>8ee7365a8</td>\n",
       "      <td>no</td>\n",
       "      <td>no</td>\n",
       "      <td>11</td>\n",
       "    </tr>\n",
       "    <tr>\n",
       "      <th>7</th>\n",
       "      <td>ID_a849c29bd</td>\n",
       "      <td>ff69a6fc8</td>\n",
       "      <td>no</td>\n",
       "      <td>no</td>\n",
       "      <td>14</td>\n",
       "    </tr>\n",
       "    <tr>\n",
       "      <th>8</th>\n",
       "      <td>ID_472fa82da</td>\n",
       "      <td>ff69a6fc8</td>\n",
       "      <td>no</td>\n",
       "      <td>no</td>\n",
       "      <td>14</td>\n",
       "    </tr>\n",
       "    <tr>\n",
       "      <th>9</th>\n",
       "      <td>ID_24864adcc</td>\n",
       "      <td>b61e2bb92</td>\n",
       "      <td>8</td>\n",
       "      <td>no</td>\n",
       "      <td>10</td>\n",
       "    </tr>\n",
       "    <tr>\n",
       "      <th>10</th>\n",
       "      <td>ID_247909995</td>\n",
       "      <td>a499b6c30</td>\n",
       "      <td>.5</td>\n",
       "      <td>no</td>\n",
       "      <td>15</td>\n",
       "    </tr>\n",
       "    <tr>\n",
       "      <th>11</th>\n",
       "      <td>ID_fbe8d0909</td>\n",
       "      <td>a499b6c30</td>\n",
       "      <td>.5</td>\n",
       "      <td>no</td>\n",
       "      <td>15</td>\n",
       "    </tr>\n",
       "    <tr>\n",
       "      <th>12</th>\n",
       "      <td>ID_8ed30c46a</td>\n",
       "      <td>a499b6c30</td>\n",
       "      <td>.5</td>\n",
       "      <td>no</td>\n",
       "      <td>15</td>\n",
       "    </tr>\n",
       "    <tr>\n",
       "      <th>13</th>\n",
       "      <td>ID_c8809fe15</td>\n",
       "      <td>f751b9e44</td>\n",
       "      <td>.5</td>\n",
       "      <td>10</td>\n",
       "      <td>no</td>\n",
       "    </tr>\n",
       "    <tr>\n",
       "      <th>14</th>\n",
       "      <td>ID_b726eb052</td>\n",
       "      <td>f751b9e44</td>\n",
       "      <td>.5</td>\n",
       "      <td>10</td>\n",
       "      <td>no</td>\n",
       "    </tr>\n",
       "    <tr>\n",
       "      <th>15</th>\n",
       "      <td>ID_3533dffe1</td>\n",
       "      <td>f751b9e44</td>\n",
       "      <td>.5</td>\n",
       "      <td>10</td>\n",
       "      <td>no</td>\n",
       "    </tr>\n",
       "    <tr>\n",
       "      <th>16</th>\n",
       "      <td>ID_67a331b9f</td>\n",
       "      <td>f751b9e44</td>\n",
       "      <td>.5</td>\n",
       "      <td>10</td>\n",
       "      <td>no</td>\n",
       "    </tr>\n",
       "    <tr>\n",
       "      <th>17</th>\n",
       "      <td>ID_67c4a6bb6</td>\n",
       "      <td>f751b9e44</td>\n",
       "      <td>.5</td>\n",
       "      <td>10</td>\n",
       "      <td>no</td>\n",
       "    </tr>\n",
       "    <tr>\n",
       "      <th>18</th>\n",
       "      <td>ID_8228c6a2e</td>\n",
       "      <td>f751b9e44</td>\n",
       "      <td>.5</td>\n",
       "      <td>10</td>\n",
       "      <td>no</td>\n",
       "    </tr>\n",
       "    <tr>\n",
       "      <th>19</th>\n",
       "      <td>ID_d54f1a82e</td>\n",
       "      <td>ba1262b51</td>\n",
       "      <td>no</td>\n",
       "      <td>6</td>\n",
       "      <td>no</td>\n",
       "    </tr>\n",
       "    <tr>\n",
       "      <th>20</th>\n",
       "      <td>ID_a39d40b54</td>\n",
       "      <td>ba1262b51</td>\n",
       "      <td>no</td>\n",
       "      <td>6</td>\n",
       "      <td>no</td>\n",
       "    </tr>\n",
       "    <tr>\n",
       "      <th>21</th>\n",
       "      <td>ID_748724edb</td>\n",
       "      <td>ba1262b51</td>\n",
       "      <td>no</td>\n",
       "      <td>6</td>\n",
       "      <td>no</td>\n",
       "    </tr>\n",
       "    <tr>\n",
       "      <th>22</th>\n",
       "      <td>ID_8be4c9bbf</td>\n",
       "      <td>d5a0a19d8</td>\n",
       "      <td>yes</td>\n",
       "      <td>no</td>\n",
       "      <td>9</td>\n",
       "    </tr>\n",
       "    <tr>\n",
       "      <th>23</th>\n",
       "      <td>ID_7bade887b</td>\n",
       "      <td>d5a0a19d8</td>\n",
       "      <td>yes</td>\n",
       "      <td>no</td>\n",
       "      <td>9</td>\n",
       "    </tr>\n",
       "    <tr>\n",
       "      <th>24</th>\n",
       "      <td>ID_13f752d2b</td>\n",
       "      <td>23eb5e435</td>\n",
       "      <td>yes</td>\n",
       "      <td>11</td>\n",
       "      <td>no</td>\n",
       "    </tr>\n",
       "    <tr>\n",
       "      <th>25</th>\n",
       "      <td>ID_a9bff86ae</td>\n",
       "      <td>23eb5e435</td>\n",
       "      <td>yes</td>\n",
       "      <td>11</td>\n",
       "      <td>no</td>\n",
       "    </tr>\n",
       "    <tr>\n",
       "      <th>26</th>\n",
       "      <td>ID_04d3ee180</td>\n",
       "      <td>23eb5e435</td>\n",
       "      <td>yes</td>\n",
       "      <td>11</td>\n",
       "      <td>no</td>\n",
       "    </tr>\n",
       "    <tr>\n",
       "      <th>27</th>\n",
       "      <td>ID_47e48cb8f</td>\n",
       "      <td>23eb5e435</td>\n",
       "      <td>yes</td>\n",
       "      <td>11</td>\n",
       "      <td>no</td>\n",
       "    </tr>\n",
       "    <tr>\n",
       "      <th>28</th>\n",
       "      <td>ID_1615bc9ef</td>\n",
       "      <td>8f4413ade</td>\n",
       "      <td>.5</td>\n",
       "      <td>8</td>\n",
       "      <td>no</td>\n",
       "    </tr>\n",
       "    <tr>\n",
       "      <th>29</th>\n",
       "      <td>ID_3bb0b62f1</td>\n",
       "      <td>8f4413ade</td>\n",
       "      <td>.5</td>\n",
       "      <td>8</td>\n",
       "      <td>no</td>\n",
       "    </tr>\n",
       "    <tr>\n",
       "      <th>...</th>\n",
       "      <td>...</td>\n",
       "      <td>...</td>\n",
       "      <td>...</td>\n",
       "      <td>...</td>\n",
       "      <td>...</td>\n",
       "    </tr>\n",
       "    <tr>\n",
       "      <th>23826</th>\n",
       "      <td>ID_2284afed9</td>\n",
       "      <td>11e553fbb</td>\n",
       "      <td>yes</td>\n",
       "      <td>no</td>\n",
       "      <td>6</td>\n",
       "    </tr>\n",
       "    <tr>\n",
       "      <th>23827</th>\n",
       "      <td>ID_741c22332</td>\n",
       "      <td>d1e13af8e</td>\n",
       "      <td>.5</td>\n",
       "      <td>no</td>\n",
       "      <td>no</td>\n",
       "    </tr>\n",
       "    <tr>\n",
       "      <th>23828</th>\n",
       "      <td>ID_34b7a0917</td>\n",
       "      <td>d1e13af8e</td>\n",
       "      <td>.5</td>\n",
       "      <td>no</td>\n",
       "      <td>no</td>\n",
       "    </tr>\n",
       "    <tr>\n",
       "      <th>23829</th>\n",
       "      <td>ID_bd17c8581</td>\n",
       "      <td>d1e13af8e</td>\n",
       "      <td>.5</td>\n",
       "      <td>no</td>\n",
       "      <td>no</td>\n",
       "    </tr>\n",
       "    <tr>\n",
       "      <th>23830</th>\n",
       "      <td>ID_856299b40</td>\n",
       "      <td>da2086b30</td>\n",
       "      <td>yes</td>\n",
       "      <td>9</td>\n",
       "      <td>no</td>\n",
       "    </tr>\n",
       "    <tr>\n",
       "      <th>23831</th>\n",
       "      <td>ID_a18de5e41</td>\n",
       "      <td>da2086b30</td>\n",
       "      <td>yes</td>\n",
       "      <td>9</td>\n",
       "      <td>no</td>\n",
       "    </tr>\n",
       "    <tr>\n",
       "      <th>23832</th>\n",
       "      <td>ID_a65eaea22</td>\n",
       "      <td>ce2ed0dd7</td>\n",
       "      <td>.5</td>\n",
       "      <td>6</td>\n",
       "      <td>no</td>\n",
       "    </tr>\n",
       "    <tr>\n",
       "      <th>23833</th>\n",
       "      <td>ID_d66908d02</td>\n",
       "      <td>ce2ed0dd7</td>\n",
       "      <td>.5</td>\n",
       "      <td>6</td>\n",
       "      <td>no</td>\n",
       "    </tr>\n",
       "    <tr>\n",
       "      <th>23834</th>\n",
       "      <td>ID_268ee9091</td>\n",
       "      <td>ce2ed0dd7</td>\n",
       "      <td>.5</td>\n",
       "      <td>6</td>\n",
       "      <td>no</td>\n",
       "    </tr>\n",
       "    <tr>\n",
       "      <th>23835</th>\n",
       "      <td>ID_f58a259ed</td>\n",
       "      <td>e44cb9969</td>\n",
       "      <td>8</td>\n",
       "      <td>no</td>\n",
       "      <td>3</td>\n",
       "    </tr>\n",
       "    <tr>\n",
       "      <th>23836</th>\n",
       "      <td>ID_265b917e8</td>\n",
       "      <td>e44cb9969</td>\n",
       "      <td>8</td>\n",
       "      <td>no</td>\n",
       "      <td>3</td>\n",
       "    </tr>\n",
       "    <tr>\n",
       "      <th>23837</th>\n",
       "      <td>ID_8b85078ed</td>\n",
       "      <td>935a65ffa</td>\n",
       "      <td>2</td>\n",
       "      <td>4</td>\n",
       "      <td>no</td>\n",
       "    </tr>\n",
       "    <tr>\n",
       "      <th>23838</th>\n",
       "      <td>ID_2789c94fa</td>\n",
       "      <td>935a65ffa</td>\n",
       "      <td>2</td>\n",
       "      <td>4</td>\n",
       "      <td>no</td>\n",
       "    </tr>\n",
       "    <tr>\n",
       "      <th>23839</th>\n",
       "      <td>ID_da28a4a6b</td>\n",
       "      <td>935a65ffa</td>\n",
       "      <td>2</td>\n",
       "      <td>4</td>\n",
       "      <td>no</td>\n",
       "    </tr>\n",
       "    <tr>\n",
       "      <th>23840</th>\n",
       "      <td>ID_35185fb42</td>\n",
       "      <td>935a65ffa</td>\n",
       "      <td>2</td>\n",
       "      <td>4</td>\n",
       "      <td>no</td>\n",
       "    </tr>\n",
       "    <tr>\n",
       "      <th>23841</th>\n",
       "      <td>ID_19c0b1480</td>\n",
       "      <td>935a65ffa</td>\n",
       "      <td>2</td>\n",
       "      <td>4</td>\n",
       "      <td>no</td>\n",
       "    </tr>\n",
       "    <tr>\n",
       "      <th>23842</th>\n",
       "      <td>ID_898d44ca1</td>\n",
       "      <td>935a65ffa</td>\n",
       "      <td>2</td>\n",
       "      <td>4</td>\n",
       "      <td>no</td>\n",
       "    </tr>\n",
       "    <tr>\n",
       "      <th>23843</th>\n",
       "      <td>ID_aa256c594</td>\n",
       "      <td>2edb6f51e</td>\n",
       "      <td>.5</td>\n",
       "      <td>no</td>\n",
       "      <td>no</td>\n",
       "    </tr>\n",
       "    <tr>\n",
       "      <th>23844</th>\n",
       "      <td>ID_28371903e</td>\n",
       "      <td>2edb6f51e</td>\n",
       "      <td>.5</td>\n",
       "      <td>no</td>\n",
       "      <td>no</td>\n",
       "    </tr>\n",
       "    <tr>\n",
       "      <th>23845</th>\n",
       "      <td>ID_632c8e99e</td>\n",
       "      <td>2edb6f51e</td>\n",
       "      <td>.5</td>\n",
       "      <td>no</td>\n",
       "      <td>no</td>\n",
       "    </tr>\n",
       "    <tr>\n",
       "      <th>23846</th>\n",
       "      <td>ID_f0c9c06f7</td>\n",
       "      <td>3aa78c56b</td>\n",
       "      <td>.5</td>\n",
       "      <td>5</td>\n",
       "      <td>no</td>\n",
       "    </tr>\n",
       "    <tr>\n",
       "      <th>23847</th>\n",
       "      <td>ID_4b7feead3</td>\n",
       "      <td>3aa78c56b</td>\n",
       "      <td>.5</td>\n",
       "      <td>5</td>\n",
       "      <td>no</td>\n",
       "    </tr>\n",
       "    <tr>\n",
       "      <th>23848</th>\n",
       "      <td>ID_c2650e696</td>\n",
       "      <td>3aa78c56b</td>\n",
       "      <td>.5</td>\n",
       "      <td>5</td>\n",
       "      <td>no</td>\n",
       "    </tr>\n",
       "    <tr>\n",
       "      <th>23849</th>\n",
       "      <td>ID_64958963c</td>\n",
       "      <td>3aa78c56b</td>\n",
       "      <td>.5</td>\n",
       "      <td>5</td>\n",
       "      <td>no</td>\n",
       "    </tr>\n",
       "    <tr>\n",
       "      <th>23850</th>\n",
       "      <td>ID_ecdf63132</td>\n",
       "      <td>3aa78c56b</td>\n",
       "      <td>.5</td>\n",
       "      <td>5</td>\n",
       "      <td>no</td>\n",
       "    </tr>\n",
       "    <tr>\n",
       "      <th>23851</th>\n",
       "      <td>ID_a065a7cad</td>\n",
       "      <td>3aa78c56b</td>\n",
       "      <td>.5</td>\n",
       "      <td>5</td>\n",
       "      <td>no</td>\n",
       "    </tr>\n",
       "    <tr>\n",
       "      <th>23852</th>\n",
       "      <td>ID_1a7c6953b</td>\n",
       "      <td>d237404b6</td>\n",
       "      <td>yes</td>\n",
       "      <td>6</td>\n",
       "      <td>no</td>\n",
       "    </tr>\n",
       "    <tr>\n",
       "      <th>23853</th>\n",
       "      <td>ID_07dbb4be2</td>\n",
       "      <td>d237404b6</td>\n",
       "      <td>yes</td>\n",
       "      <td>6</td>\n",
       "      <td>no</td>\n",
       "    </tr>\n",
       "    <tr>\n",
       "      <th>23854</th>\n",
       "      <td>ID_34d2ed046</td>\n",
       "      <td>d237404b6</td>\n",
       "      <td>yes</td>\n",
       "      <td>6</td>\n",
       "      <td>no</td>\n",
       "    </tr>\n",
       "    <tr>\n",
       "      <th>23855</th>\n",
       "      <td>ID_34754556f</td>\n",
       "      <td>d237404b6</td>\n",
       "      <td>yes</td>\n",
       "      <td>6</td>\n",
       "      <td>no</td>\n",
       "    </tr>\n",
       "  </tbody>\n",
       "</table>\n",
       "<p>23856 rows × 5 columns</p>\n",
       "</div>"
      ],
      "text/plain": [
       "                 Id    idhogar dependency edjefe edjefa\n",
       "0      ID_2f6873615  72958b30c         .5     no     17\n",
       "1      ID_1c78846d2  72958b30c         .5     no     17\n",
       "2      ID_e5442cf6a  72958b30c         .5     no     17\n",
       "3      ID_a8db26a79  5b598fbc9         no     16     no\n",
       "4      ID_a62966799  1e2fc704e          8     no     11\n",
       "5      ID_e77d38d45  8ee7365a8         no     no     11\n",
       "6      ID_3c5f4bd51  8ee7365a8         no     no     11\n",
       "7      ID_a849c29bd  ff69a6fc8         no     no     14\n",
       "8      ID_472fa82da  ff69a6fc8         no     no     14\n",
       "9      ID_24864adcc  b61e2bb92          8     no     10\n",
       "10     ID_247909995  a499b6c30         .5     no     15\n",
       "11     ID_fbe8d0909  a499b6c30         .5     no     15\n",
       "12     ID_8ed30c46a  a499b6c30         .5     no     15\n",
       "13     ID_c8809fe15  f751b9e44         .5     10     no\n",
       "14     ID_b726eb052  f751b9e44         .5     10     no\n",
       "15     ID_3533dffe1  f751b9e44         .5     10     no\n",
       "16     ID_67a331b9f  f751b9e44         .5     10     no\n",
       "17     ID_67c4a6bb6  f751b9e44         .5     10     no\n",
       "18     ID_8228c6a2e  f751b9e44         .5     10     no\n",
       "19     ID_d54f1a82e  ba1262b51         no      6     no\n",
       "20     ID_a39d40b54  ba1262b51         no      6     no\n",
       "21     ID_748724edb  ba1262b51         no      6     no\n",
       "22     ID_8be4c9bbf  d5a0a19d8        yes     no      9\n",
       "23     ID_7bade887b  d5a0a19d8        yes     no      9\n",
       "24     ID_13f752d2b  23eb5e435        yes     11     no\n",
       "25     ID_a9bff86ae  23eb5e435        yes     11     no\n",
       "26     ID_04d3ee180  23eb5e435        yes     11     no\n",
       "27     ID_47e48cb8f  23eb5e435        yes     11     no\n",
       "28     ID_1615bc9ef  8f4413ade         .5      8     no\n",
       "29     ID_3bb0b62f1  8f4413ade         .5      8     no\n",
       "...             ...        ...        ...    ...    ...\n",
       "23826  ID_2284afed9  11e553fbb        yes     no      6\n",
       "23827  ID_741c22332  d1e13af8e         .5     no     no\n",
       "23828  ID_34b7a0917  d1e13af8e         .5     no     no\n",
       "23829  ID_bd17c8581  d1e13af8e         .5     no     no\n",
       "23830  ID_856299b40  da2086b30        yes      9     no\n",
       "23831  ID_a18de5e41  da2086b30        yes      9     no\n",
       "23832  ID_a65eaea22  ce2ed0dd7         .5      6     no\n",
       "23833  ID_d66908d02  ce2ed0dd7         .5      6     no\n",
       "23834  ID_268ee9091  ce2ed0dd7         .5      6     no\n",
       "23835  ID_f58a259ed  e44cb9969          8     no      3\n",
       "23836  ID_265b917e8  e44cb9969          8     no      3\n",
       "23837  ID_8b85078ed  935a65ffa          2      4     no\n",
       "23838  ID_2789c94fa  935a65ffa          2      4     no\n",
       "23839  ID_da28a4a6b  935a65ffa          2      4     no\n",
       "23840  ID_35185fb42  935a65ffa          2      4     no\n",
       "23841  ID_19c0b1480  935a65ffa          2      4     no\n",
       "23842  ID_898d44ca1  935a65ffa          2      4     no\n",
       "23843  ID_aa256c594  2edb6f51e         .5     no     no\n",
       "23844  ID_28371903e  2edb6f51e         .5     no     no\n",
       "23845  ID_632c8e99e  2edb6f51e         .5     no     no\n",
       "23846  ID_f0c9c06f7  3aa78c56b         .5      5     no\n",
       "23847  ID_4b7feead3  3aa78c56b         .5      5     no\n",
       "23848  ID_c2650e696  3aa78c56b         .5      5     no\n",
       "23849  ID_64958963c  3aa78c56b         .5      5     no\n",
       "23850  ID_ecdf63132  3aa78c56b         .5      5     no\n",
       "23851  ID_a065a7cad  3aa78c56b         .5      5     no\n",
       "23852  ID_1a7c6953b  d237404b6        yes      6     no\n",
       "23853  ID_07dbb4be2  d237404b6        yes      6     no\n",
       "23854  ID_34d2ed046  d237404b6        yes      6     no\n",
       "23855  ID_34754556f  d237404b6        yes      6     no\n",
       "\n",
       "[23856 rows x 5 columns]"
      ]
     },
     "execution_count": 5,
     "metadata": {},
     "output_type": "execute_result"
    }
   ],
   "source": [
    "test_df.select_dtypes(include=object)"
   ]
  },
  {
   "cell_type": "code",
   "execution_count": 6,
   "metadata": {
    "scrolled": true
   },
   "outputs": [
    {
     "data": {
      "text/html": [
       "<div>\n",
       "<style scoped>\n",
       "    .dataframe tbody tr th:only-of-type {\n",
       "        vertical-align: middle;\n",
       "    }\n",
       "\n",
       "    .dataframe tbody tr th {\n",
       "        vertical-align: top;\n",
       "    }\n",
       "\n",
       "    .dataframe thead th {\n",
       "        text-align: right;\n",
       "    }\n",
       "</style>\n",
       "<table border=\"1\" class=\"dataframe\">\n",
       "  <thead>\n",
       "    <tr style=\"text-align: right;\">\n",
       "      <th></th>\n",
       "      <th>Id</th>\n",
       "      <th>idhogar</th>\n",
       "      <th>dependency</th>\n",
       "      <th>edjefe</th>\n",
       "      <th>edjefa</th>\n",
       "    </tr>\n",
       "  </thead>\n",
       "  <tbody>\n",
       "    <tr>\n",
       "      <th>0</th>\n",
       "      <td>ID_279628684</td>\n",
       "      <td>21eb7fcc1</td>\n",
       "      <td>no</td>\n",
       "      <td>10</td>\n",
       "      <td>no</td>\n",
       "    </tr>\n",
       "    <tr>\n",
       "      <th>1</th>\n",
       "      <td>ID_f29eb3ddd</td>\n",
       "      <td>0e5d7a658</td>\n",
       "      <td>8</td>\n",
       "      <td>12</td>\n",
       "      <td>no</td>\n",
       "    </tr>\n",
       "    <tr>\n",
       "      <th>2</th>\n",
       "      <td>ID_68de51c94</td>\n",
       "      <td>2c7317ea8</td>\n",
       "      <td>8</td>\n",
       "      <td>no</td>\n",
       "      <td>11</td>\n",
       "    </tr>\n",
       "    <tr>\n",
       "      <th>3</th>\n",
       "      <td>ID_d671db89c</td>\n",
       "      <td>2b58d945f</td>\n",
       "      <td>yes</td>\n",
       "      <td>11</td>\n",
       "      <td>no</td>\n",
       "    </tr>\n",
       "    <tr>\n",
       "      <th>4</th>\n",
       "      <td>ID_d56d6f5f5</td>\n",
       "      <td>2b58d945f</td>\n",
       "      <td>yes</td>\n",
       "      <td>11</td>\n",
       "      <td>no</td>\n",
       "    </tr>\n",
       "    <tr>\n",
       "      <th>5</th>\n",
       "      <td>ID_ec05b1a7b</td>\n",
       "      <td>2b58d945f</td>\n",
       "      <td>yes</td>\n",
       "      <td>11</td>\n",
       "      <td>no</td>\n",
       "    </tr>\n",
       "    <tr>\n",
       "      <th>6</th>\n",
       "      <td>ID_e9e0c1100</td>\n",
       "      <td>2b58d945f</td>\n",
       "      <td>yes</td>\n",
       "      <td>11</td>\n",
       "      <td>no</td>\n",
       "    </tr>\n",
       "    <tr>\n",
       "      <th>7</th>\n",
       "      <td>ID_3e04e571e</td>\n",
       "      <td>d6dae86b7</td>\n",
       "      <td>yes</td>\n",
       "      <td>9</td>\n",
       "      <td>no</td>\n",
       "    </tr>\n",
       "    <tr>\n",
       "      <th>8</th>\n",
       "      <td>ID_1284f8aad</td>\n",
       "      <td>d6dae86b7</td>\n",
       "      <td>yes</td>\n",
       "      <td>9</td>\n",
       "      <td>no</td>\n",
       "    </tr>\n",
       "    <tr>\n",
       "      <th>9</th>\n",
       "      <td>ID_51f52fdd2</td>\n",
       "      <td>d6dae86b7</td>\n",
       "      <td>yes</td>\n",
       "      <td>9</td>\n",
       "      <td>no</td>\n",
       "    </tr>\n",
       "    <tr>\n",
       "      <th>10</th>\n",
       "      <td>ID_db44f5c59</td>\n",
       "      <td>d6dae86b7</td>\n",
       "      <td>yes</td>\n",
       "      <td>9</td>\n",
       "      <td>no</td>\n",
       "    </tr>\n",
       "    <tr>\n",
       "      <th>11</th>\n",
       "      <td>ID_de822510c</td>\n",
       "      <td>bb2094100</td>\n",
       "      <td>yes</td>\n",
       "      <td>no</td>\n",
       "      <td>11</td>\n",
       "    </tr>\n",
       "    <tr>\n",
       "      <th>12</th>\n",
       "      <td>ID_d94071d7c</td>\n",
       "      <td>bb2094100</td>\n",
       "      <td>yes</td>\n",
       "      <td>no</td>\n",
       "      <td>11</td>\n",
       "    </tr>\n",
       "    <tr>\n",
       "      <th>13</th>\n",
       "      <td>ID_064b57869</td>\n",
       "      <td>c51f9c774</td>\n",
       "      <td>yes</td>\n",
       "      <td>no</td>\n",
       "      <td>4</td>\n",
       "    </tr>\n",
       "    <tr>\n",
       "      <th>14</th>\n",
       "      <td>ID_5c837d8a4</td>\n",
       "      <td>c51f9c774</td>\n",
       "      <td>yes</td>\n",
       "      <td>no</td>\n",
       "      <td>4</td>\n",
       "    </tr>\n",
       "    <tr>\n",
       "      <th>15</th>\n",
       "      <td>ID_0a39e419e</td>\n",
       "      <td>6893e65ca</td>\n",
       "      <td>3</td>\n",
       "      <td>no</td>\n",
       "      <td>10</td>\n",
       "    </tr>\n",
       "    <tr>\n",
       "      <th>16</th>\n",
       "      <td>ID_4ff51f90c</td>\n",
       "      <td>6893e65ca</td>\n",
       "      <td>3</td>\n",
       "      <td>no</td>\n",
       "      <td>10</td>\n",
       "    </tr>\n",
       "    <tr>\n",
       "      <th>17</th>\n",
       "      <td>ID_336c51386</td>\n",
       "      <td>6893e65ca</td>\n",
       "      <td>3</td>\n",
       "      <td>no</td>\n",
       "      <td>10</td>\n",
       "    </tr>\n",
       "    <tr>\n",
       "      <th>18</th>\n",
       "      <td>ID_c51938edf</td>\n",
       "      <td>6893e65ca</td>\n",
       "      <td>3</td>\n",
       "      <td>no</td>\n",
       "      <td>10</td>\n",
       "    </tr>\n",
       "    <tr>\n",
       "      <th>19</th>\n",
       "      <td>ID_35b66f7c6</td>\n",
       "      <td>d29058053</td>\n",
       "      <td>no</td>\n",
       "      <td>15</td>\n",
       "      <td>no</td>\n",
       "    </tr>\n",
       "    <tr>\n",
       "      <th>20</th>\n",
       "      <td>ID_74a2bc523</td>\n",
       "      <td>d29058053</td>\n",
       "      <td>no</td>\n",
       "      <td>15</td>\n",
       "      <td>no</td>\n",
       "    </tr>\n",
       "    <tr>\n",
       "      <th>21</th>\n",
       "      <td>ID_15d393ce7</td>\n",
       "      <td>ec0e8edce</td>\n",
       "      <td>8</td>\n",
       "      <td>4</td>\n",
       "      <td>no</td>\n",
       "    </tr>\n",
       "    <tr>\n",
       "      <th>22</th>\n",
       "      <td>ID_a0bff0ba7</td>\n",
       "      <td>ec0e8edce</td>\n",
       "      <td>8</td>\n",
       "      <td>4</td>\n",
       "      <td>no</td>\n",
       "    </tr>\n",
       "    <tr>\n",
       "      <th>23</th>\n",
       "      <td>ID_848b0fdf1</td>\n",
       "      <td>3e16fab89</td>\n",
       "      <td>no</td>\n",
       "      <td>6</td>\n",
       "      <td>no</td>\n",
       "    </tr>\n",
       "    <tr>\n",
       "      <th>24</th>\n",
       "      <td>ID_298d857e5</td>\n",
       "      <td>3e16fab89</td>\n",
       "      <td>no</td>\n",
       "      <td>6</td>\n",
       "      <td>no</td>\n",
       "    </tr>\n",
       "    <tr>\n",
       "      <th>25</th>\n",
       "      <td>ID_1d5bf8ddf</td>\n",
       "      <td>3e16fab89</td>\n",
       "      <td>no</td>\n",
       "      <td>6</td>\n",
       "      <td>no</td>\n",
       "    </tr>\n",
       "    <tr>\n",
       "      <th>26</th>\n",
       "      <td>ID_e5cdba865</td>\n",
       "      <td>1e84a2ac8</td>\n",
       "      <td>no</td>\n",
       "      <td>15</td>\n",
       "      <td>no</td>\n",
       "    </tr>\n",
       "    <tr>\n",
       "      <th>27</th>\n",
       "      <td>ID_e18530139</td>\n",
       "      <td>759df0194</td>\n",
       "      <td>.5</td>\n",
       "      <td>6</td>\n",
       "      <td>no</td>\n",
       "    </tr>\n",
       "    <tr>\n",
       "      <th>28</th>\n",
       "      <td>ID_cba035c44</td>\n",
       "      <td>759df0194</td>\n",
       "      <td>.5</td>\n",
       "      <td>6</td>\n",
       "      <td>no</td>\n",
       "    </tr>\n",
       "    <tr>\n",
       "      <th>29</th>\n",
       "      <td>ID_b6c1c7e65</td>\n",
       "      <td>759df0194</td>\n",
       "      <td>.5</td>\n",
       "      <td>6</td>\n",
       "      <td>no</td>\n",
       "    </tr>\n",
       "    <tr>\n",
       "      <th>...</th>\n",
       "      <td>...</td>\n",
       "      <td>...</td>\n",
       "      <td>...</td>\n",
       "      <td>...</td>\n",
       "      <td>...</td>\n",
       "    </tr>\n",
       "    <tr>\n",
       "      <th>9527</th>\n",
       "      <td>ID_92b30d94b</td>\n",
       "      <td>fef7fd222</td>\n",
       "      <td>yes</td>\n",
       "      <td>8</td>\n",
       "      <td>no</td>\n",
       "    </tr>\n",
       "    <tr>\n",
       "      <th>9528</th>\n",
       "      <td>ID_6309f1595</td>\n",
       "      <td>bb631bc5d</td>\n",
       "      <td>no</td>\n",
       "      <td>no</td>\n",
       "      <td>16</td>\n",
       "    </tr>\n",
       "    <tr>\n",
       "      <th>9529</th>\n",
       "      <td>ID_f8b8c7703</td>\n",
       "      <td>2fa33aed8</td>\n",
       "      <td>no</td>\n",
       "      <td>6</td>\n",
       "      <td>no</td>\n",
       "    </tr>\n",
       "    <tr>\n",
       "      <th>9530</th>\n",
       "      <td>ID_7226bda20</td>\n",
       "      <td>2fa33aed8</td>\n",
       "      <td>no</td>\n",
       "      <td>6</td>\n",
       "      <td>no</td>\n",
       "    </tr>\n",
       "    <tr>\n",
       "      <th>9531</th>\n",
       "      <td>ID_10da2c3cb</td>\n",
       "      <td>08908240a</td>\n",
       "      <td>.5</td>\n",
       "      <td>5</td>\n",
       "      <td>no</td>\n",
       "    </tr>\n",
       "    <tr>\n",
       "      <th>9532</th>\n",
       "      <td>ID_503cfc817</td>\n",
       "      <td>08908240a</td>\n",
       "      <td>.5</td>\n",
       "      <td>5</td>\n",
       "      <td>no</td>\n",
       "    </tr>\n",
       "    <tr>\n",
       "      <th>9533</th>\n",
       "      <td>ID_5384717d3</td>\n",
       "      <td>08908240a</td>\n",
       "      <td>.5</td>\n",
       "      <td>5</td>\n",
       "      <td>no</td>\n",
       "    </tr>\n",
       "    <tr>\n",
       "      <th>9534</th>\n",
       "      <td>ID_8d3963fff</td>\n",
       "      <td>b58de0516</td>\n",
       "      <td>8</td>\n",
       "      <td>4</td>\n",
       "      <td>no</td>\n",
       "    </tr>\n",
       "    <tr>\n",
       "      <th>9535</th>\n",
       "      <td>ID_18b0a845b</td>\n",
       "      <td>9bbf7c6ca</td>\n",
       "      <td>1.5</td>\n",
       "      <td>no</td>\n",
       "      <td>5</td>\n",
       "    </tr>\n",
       "    <tr>\n",
       "      <th>9536</th>\n",
       "      <td>ID_d20bd7576</td>\n",
       "      <td>9bbf7c6ca</td>\n",
       "      <td>1.5</td>\n",
       "      <td>no</td>\n",
       "      <td>5</td>\n",
       "    </tr>\n",
       "    <tr>\n",
       "      <th>9537</th>\n",
       "      <td>ID_cca751e53</td>\n",
       "      <td>9bbf7c6ca</td>\n",
       "      <td>1.5</td>\n",
       "      <td>no</td>\n",
       "      <td>5</td>\n",
       "    </tr>\n",
       "    <tr>\n",
       "      <th>9538</th>\n",
       "      <td>ID_bfbb06d62</td>\n",
       "      <td>9bbf7c6ca</td>\n",
       "      <td>1.5</td>\n",
       "      <td>no</td>\n",
       "      <td>5</td>\n",
       "    </tr>\n",
       "    <tr>\n",
       "      <th>9539</th>\n",
       "      <td>ID_e20c78904</td>\n",
       "      <td>9bbf7c6ca</td>\n",
       "      <td>1.5</td>\n",
       "      <td>no</td>\n",
       "      <td>5</td>\n",
       "    </tr>\n",
       "    <tr>\n",
       "      <th>9540</th>\n",
       "      <td>ID_e01b00c7e</td>\n",
       "      <td>e87e70c06</td>\n",
       "      <td>1.5</td>\n",
       "      <td>2</td>\n",
       "      <td>no</td>\n",
       "    </tr>\n",
       "    <tr>\n",
       "      <th>9541</th>\n",
       "      <td>ID_a31274054</td>\n",
       "      <td>e87e70c06</td>\n",
       "      <td>1.5</td>\n",
       "      <td>2</td>\n",
       "      <td>no</td>\n",
       "    </tr>\n",
       "    <tr>\n",
       "      <th>9542</th>\n",
       "      <td>ID_fc386a944</td>\n",
       "      <td>e87e70c06</td>\n",
       "      <td>1.5</td>\n",
       "      <td>2</td>\n",
       "      <td>no</td>\n",
       "    </tr>\n",
       "    <tr>\n",
       "      <th>9543</th>\n",
       "      <td>ID_2f8268634</td>\n",
       "      <td>e87e70c06</td>\n",
       "      <td>1.5</td>\n",
       "      <td>2</td>\n",
       "      <td>no</td>\n",
       "    </tr>\n",
       "    <tr>\n",
       "      <th>9544</th>\n",
       "      <td>ID_4c180d79f</td>\n",
       "      <td>e87e70c06</td>\n",
       "      <td>1.5</td>\n",
       "      <td>2</td>\n",
       "      <td>no</td>\n",
       "    </tr>\n",
       "    <tr>\n",
       "      <th>9545</th>\n",
       "      <td>ID_32a00a8bf</td>\n",
       "      <td>a8eeafc29</td>\n",
       "      <td>.66666669</td>\n",
       "      <td>2</td>\n",
       "      <td>no</td>\n",
       "    </tr>\n",
       "    <tr>\n",
       "      <th>9546</th>\n",
       "      <td>ID_1dfb12fcf</td>\n",
       "      <td>a8eeafc29</td>\n",
       "      <td>.66666669</td>\n",
       "      <td>2</td>\n",
       "      <td>no</td>\n",
       "    </tr>\n",
       "    <tr>\n",
       "      <th>9547</th>\n",
       "      <td>ID_198be48d1</td>\n",
       "      <td>a8eeafc29</td>\n",
       "      <td>.66666669</td>\n",
       "      <td>2</td>\n",
       "      <td>no</td>\n",
       "    </tr>\n",
       "    <tr>\n",
       "      <th>9548</th>\n",
       "      <td>ID_9df63c33e</td>\n",
       "      <td>a8eeafc29</td>\n",
       "      <td>.66666669</td>\n",
       "      <td>2</td>\n",
       "      <td>no</td>\n",
       "    </tr>\n",
       "    <tr>\n",
       "      <th>9549</th>\n",
       "      <td>ID_aacac04a2</td>\n",
       "      <td>a8eeafc29</td>\n",
       "      <td>.66666669</td>\n",
       "      <td>2</td>\n",
       "      <td>no</td>\n",
       "    </tr>\n",
       "    <tr>\n",
       "      <th>9550</th>\n",
       "      <td>ID_90a399a51</td>\n",
       "      <td>212db6f6c</td>\n",
       "      <td>yes</td>\n",
       "      <td>no</td>\n",
       "      <td>no</td>\n",
       "    </tr>\n",
       "    <tr>\n",
       "      <th>9551</th>\n",
       "      <td>ID_79d39dddc</td>\n",
       "      <td>212db6f6c</td>\n",
       "      <td>yes</td>\n",
       "      <td>no</td>\n",
       "      <td>no</td>\n",
       "    </tr>\n",
       "    <tr>\n",
       "      <th>9552</th>\n",
       "      <td>ID_d45ae367d</td>\n",
       "      <td>d6c086aa3</td>\n",
       "      <td>.25</td>\n",
       "      <td>9</td>\n",
       "      <td>no</td>\n",
       "    </tr>\n",
       "    <tr>\n",
       "      <th>9553</th>\n",
       "      <td>ID_c94744e07</td>\n",
       "      <td>d6c086aa3</td>\n",
       "      <td>.25</td>\n",
       "      <td>9</td>\n",
       "      <td>no</td>\n",
       "    </tr>\n",
       "    <tr>\n",
       "      <th>9554</th>\n",
       "      <td>ID_85fc658f8</td>\n",
       "      <td>d6c086aa3</td>\n",
       "      <td>.25</td>\n",
       "      <td>9</td>\n",
       "      <td>no</td>\n",
       "    </tr>\n",
       "    <tr>\n",
       "      <th>9555</th>\n",
       "      <td>ID_ced540c61</td>\n",
       "      <td>d6c086aa3</td>\n",
       "      <td>.25</td>\n",
       "      <td>9</td>\n",
       "      <td>no</td>\n",
       "    </tr>\n",
       "    <tr>\n",
       "      <th>9556</th>\n",
       "      <td>ID_a38c64491</td>\n",
       "      <td>d6c086aa3</td>\n",
       "      <td>.25</td>\n",
       "      <td>9</td>\n",
       "      <td>no</td>\n",
       "    </tr>\n",
       "  </tbody>\n",
       "</table>\n",
       "<p>9557 rows × 5 columns</p>\n",
       "</div>"
      ],
      "text/plain": [
       "                Id    idhogar dependency edjefe edjefa\n",
       "0     ID_279628684  21eb7fcc1         no     10     no\n",
       "1     ID_f29eb3ddd  0e5d7a658          8     12     no\n",
       "2     ID_68de51c94  2c7317ea8          8     no     11\n",
       "3     ID_d671db89c  2b58d945f        yes     11     no\n",
       "4     ID_d56d6f5f5  2b58d945f        yes     11     no\n",
       "5     ID_ec05b1a7b  2b58d945f        yes     11     no\n",
       "6     ID_e9e0c1100  2b58d945f        yes     11     no\n",
       "7     ID_3e04e571e  d6dae86b7        yes      9     no\n",
       "8     ID_1284f8aad  d6dae86b7        yes      9     no\n",
       "9     ID_51f52fdd2  d6dae86b7        yes      9     no\n",
       "10    ID_db44f5c59  d6dae86b7        yes      9     no\n",
       "11    ID_de822510c  bb2094100        yes     no     11\n",
       "12    ID_d94071d7c  bb2094100        yes     no     11\n",
       "13    ID_064b57869  c51f9c774        yes     no      4\n",
       "14    ID_5c837d8a4  c51f9c774        yes     no      4\n",
       "15    ID_0a39e419e  6893e65ca          3     no     10\n",
       "16    ID_4ff51f90c  6893e65ca          3     no     10\n",
       "17    ID_336c51386  6893e65ca          3     no     10\n",
       "18    ID_c51938edf  6893e65ca          3     no     10\n",
       "19    ID_35b66f7c6  d29058053         no     15     no\n",
       "20    ID_74a2bc523  d29058053         no     15     no\n",
       "21    ID_15d393ce7  ec0e8edce          8      4     no\n",
       "22    ID_a0bff0ba7  ec0e8edce          8      4     no\n",
       "23    ID_848b0fdf1  3e16fab89         no      6     no\n",
       "24    ID_298d857e5  3e16fab89         no      6     no\n",
       "25    ID_1d5bf8ddf  3e16fab89         no      6     no\n",
       "26    ID_e5cdba865  1e84a2ac8         no     15     no\n",
       "27    ID_e18530139  759df0194         .5      6     no\n",
       "28    ID_cba035c44  759df0194         .5      6     no\n",
       "29    ID_b6c1c7e65  759df0194         .5      6     no\n",
       "...            ...        ...        ...    ...    ...\n",
       "9527  ID_92b30d94b  fef7fd222        yes      8     no\n",
       "9528  ID_6309f1595  bb631bc5d         no     no     16\n",
       "9529  ID_f8b8c7703  2fa33aed8         no      6     no\n",
       "9530  ID_7226bda20  2fa33aed8         no      6     no\n",
       "9531  ID_10da2c3cb  08908240a         .5      5     no\n",
       "9532  ID_503cfc817  08908240a         .5      5     no\n",
       "9533  ID_5384717d3  08908240a         .5      5     no\n",
       "9534  ID_8d3963fff  b58de0516          8      4     no\n",
       "9535  ID_18b0a845b  9bbf7c6ca        1.5     no      5\n",
       "9536  ID_d20bd7576  9bbf7c6ca        1.5     no      5\n",
       "9537  ID_cca751e53  9bbf7c6ca        1.5     no      5\n",
       "9538  ID_bfbb06d62  9bbf7c6ca        1.5     no      5\n",
       "9539  ID_e20c78904  9bbf7c6ca        1.5     no      5\n",
       "9540  ID_e01b00c7e  e87e70c06        1.5      2     no\n",
       "9541  ID_a31274054  e87e70c06        1.5      2     no\n",
       "9542  ID_fc386a944  e87e70c06        1.5      2     no\n",
       "9543  ID_2f8268634  e87e70c06        1.5      2     no\n",
       "9544  ID_4c180d79f  e87e70c06        1.5      2     no\n",
       "9545  ID_32a00a8bf  a8eeafc29  .66666669      2     no\n",
       "9546  ID_1dfb12fcf  a8eeafc29  .66666669      2     no\n",
       "9547  ID_198be48d1  a8eeafc29  .66666669      2     no\n",
       "9548  ID_9df63c33e  a8eeafc29  .66666669      2     no\n",
       "9549  ID_aacac04a2  a8eeafc29  .66666669      2     no\n",
       "9550  ID_90a399a51  212db6f6c        yes     no     no\n",
       "9551  ID_79d39dddc  212db6f6c        yes     no     no\n",
       "9552  ID_d45ae367d  d6c086aa3        .25      9     no\n",
       "9553  ID_c94744e07  d6c086aa3        .25      9     no\n",
       "9554  ID_85fc658f8  d6c086aa3        .25      9     no\n",
       "9555  ID_ced540c61  d6c086aa3        .25      9     no\n",
       "9556  ID_a38c64491  d6c086aa3        .25      9     no\n",
       "\n",
       "[9557 rows x 5 columns]"
      ]
     },
     "execution_count": 6,
     "metadata": {},
     "output_type": "execute_result"
    }
   ],
   "source": [
    "train_df.select_dtypes(include=object)"
   ]
  },
  {
   "cell_type": "code",
   "execution_count": 7,
   "metadata": {},
   "outputs": [],
   "source": [
    "#pulled this code from https://www.kaggle.com/willkoehrsen/a-complete-introduction-and-walkthrough/notebook\n",
    "#this will fix the inconsistent values (strings and numbers) and replace the \"yes\" with 1 and \"no\" with 0\n",
    "mapping = {\"yes\": 1, \"no\": 0}\n",
    "\n",
    "# Apply same operation to both train and test\n",
    "for df in [train_df, test_df]:\n",
    "    # Fill in the values with the correct mapping and convert to float dtype\n",
    "    df['dependency'] = df['dependency'].replace(mapping).astype(float)\n",
    "    df['edjefa'] = df['edjefa'].replace(mapping).astype(float)\n",
    "    df['edjefe'] = df['edjefe'].replace(mapping).astype(float)"
   ]
  },
  {
   "cell_type": "markdown",
   "metadata": {},
   "source": [
    "Before I do more editing to the data, I want to get a feel for the data and what it represents and what it implies. I will view how households are distributed across the different poverty levels"
   ]
  },
  {
   "cell_type": "code",
   "execution_count": 8,
   "metadata": {},
   "outputs": [
    {
     "data": {
      "text/plain": [
       "4    5996\n",
       "2    1597\n",
       "3    1209\n",
       "1     755\n",
       "Name: Target, dtype: int64"
      ]
     },
     "execution_count": 8,
     "metadata": {},
     "output_type": "execute_result"
    }
   ],
   "source": [
    "#view how the poverty classifications are distributed amongst the training data\n",
    "train_df.Target.value_counts()"
   ]
  },
  {
   "cell_type": "markdown",
   "metadata": {},
   "source": [
    "I want to check for not just misrecorded data, but missing data. I define a function to find the number of missing values for each column that has missing data."
   ]
  },
  {
   "cell_type": "code",
   "execution_count": 9,
   "metadata": {
    "scrolled": true
   },
   "outputs": [
    {
     "data": {
      "text/plain": [
       "v2a1         6860\n",
       "v18q1        7342\n",
       "rez_esc      7928\n",
       "meaneduc        5\n",
       "SQBmeaned       5\n",
       "dtype: int64"
      ]
     },
     "execution_count": 9,
     "metadata": {},
     "output_type": "execute_result"
    }
   ],
   "source": [
    "#defined and ran function to show what variables have missing values and the quanitity of missing values\n",
    "def show_missing():\n",
    "    missing = train_df.columns[train_df.isnull().any()].tolist()\n",
    "    return missing\n",
    "train_df[show_missing()].isnull().sum()"
   ]
  },
  {
   "cell_type": "markdown",
   "metadata": {},
   "source": [
    "Great, I know how much missing data I have, but it means nothing to me unless I know how many total individuals are in this data set. I want to see the number of individuals to see if the quantity of missing values is significant."
   ]
  },
  {
   "cell_type": "code",
   "execution_count": 10,
   "metadata": {},
   "outputs": [
    {
     "data": {
      "text/plain": [
       "(9557, 143)"
      ]
     },
     "execution_count": 10,
     "metadata": {},
     "output_type": "execute_result"
    }
   ],
   "source": [
    "#shows dimensions to tell me how many individuals and variables there are\n",
    "train_df.shape"
   ]
  },
  {
   "cell_type": "markdown",
   "metadata": {},
   "source": [
    "We can see that v2a1, v18q1, and rez_esc have large amounts of data missing relative to the total number of individuals. I will go ahead and drop rez_esc and v2a1 because it wouldn't be informative to have a variable with a bunch of imputed values."
   ]
  },
  {
   "cell_type": "code",
   "execution_count": 11,
   "metadata": {},
   "outputs": [],
   "source": [
    "#drop variable for too many missing values\n",
    "train_df.drop('rez_esc', axis=1, inplace=True)\n",
    "#drop variable for too many missing values\n",
    "train_df.drop('v2a1', axis=1, inplace=True)"
   ]
  },
  {
   "cell_type": "markdown",
   "metadata": {},
   "source": [
    "Because v18q1 represents the number of tablets owned by the household, it would make sense that a missing value represents a household not having a tablet. In this case, I should fill the NaN values with 0."
   ]
  },
  {
   "cell_type": "code",
   "execution_count": 12,
   "metadata": {},
   "outputs": [],
   "source": [
    "#define and perform function to replace missing values with \"0\"\n",
    "train_df['v18q1_copy'] = train_df['v18q1']\n",
    "train_df.v18q1_copy = train_df.v18q1.isna()\n",
    "def v18q1fix(row):\n",
    "    if (row[\"v18q1_copy\"]) == True:\n",
    "        return \"0\"\n",
    "    else:\n",
    "        return (row['v18q1'])\n",
    "train_df['v18q1_copy'] = train_df.apply(v18q1fix, axis=1)\n",
    "train_df.drop('v18q1', axis=1, inplace=True)\n",
    "train_df.rename(columns={'v18q1_copy': 'v18q1'}, inplace=True)\n",
    "train_df['v18q1'] = train_df['v18q1'].astype(float)"
   ]
  },
  {
   "cell_type": "markdown",
   "metadata": {},
   "source": [
    "Since there are so few missing values, and meaneduc could be skewed because of an outlier, I use the median of the meaneduc values to fill NaN values with."
   ]
  },
  {
   "cell_type": "code",
   "execution_count": 13,
   "metadata": {},
   "outputs": [],
   "source": [
    "#define and perform function to replace missing values with the median of the existing values\n",
    "train_df['meaneduc_copy'] = train_df['meaneduc']\n",
    "train_df.meaneduc_copy = train_df.meaneduc.isna()\n",
    "meaneduc_median = train_df['meaneduc'].median()\n",
    "def meaneducfix(row):\n",
    "    if (row[\"meaneduc_copy\"]) == True:\n",
    "        return meaneduc_median\n",
    "    else:\n",
    "        return (row['meaneduc'])\n",
    "train_df['meaneduc_copy'] = train_df.apply(meaneducfix, axis=1)\n",
    "train_df.drop('meaneduc', axis=1, inplace=True)\n",
    "train_df.rename(columns={'meaneduc_copy': 'meaneduc'}, inplace=True)"
   ]
  },
  {
   "cell_type": "markdown",
   "metadata": {},
   "source": [
    "I will repeat the above steps with the test data set."
   ]
  },
  {
   "cell_type": "code",
   "execution_count": 14,
   "metadata": {},
   "outputs": [
    {
     "data": {
      "text/plain": [
       "v2a1         17403\n",
       "v18q1        18126\n",
       "rez_esc      19653\n",
       "meaneduc        31\n",
       "SQBmeaned       31\n",
       "dtype: int64"
      ]
     },
     "execution_count": 14,
     "metadata": {},
     "output_type": "execute_result"
    }
   ],
   "source": [
    "#define and perform function to show what variables have missing values and the quanitity of missing values\n",
    "def show_missing2():\n",
    "    missing2 = test_df.columns[test_df.isnull().any()].tolist()\n",
    "    return missing2\n",
    "test_df[show_missing2()].isnull().sum()"
   ]
  },
  {
   "cell_type": "code",
   "execution_count": 15,
   "metadata": {},
   "outputs": [
    {
     "data": {
      "text/plain": [
       "(23856, 142)"
      ]
     },
     "execution_count": 15,
     "metadata": {},
     "output_type": "execute_result"
    }
   ],
   "source": [
    "test_df.shape"
   ]
  },
  {
   "cell_type": "code",
   "execution_count": 16,
   "metadata": {},
   "outputs": [],
   "source": [
    "#drop variable for too many missing values\n",
    "test_df.drop('rez_esc', axis=1, inplace=True)\n",
    "#drop variable for too many missing values\n",
    "test_df.drop('v2a1', axis=1, inplace=True)"
   ]
  },
  {
   "cell_type": "code",
   "execution_count": 17,
   "metadata": {},
   "outputs": [],
   "source": [
    "#define and perform function to replace missing values with \"0\"\n",
    "test_df['v18q1_copy'] = test_df['v18q1']\n",
    "test_df.v18q1_copy = test_df.v18q1.isna()\n",
    "def v18q1fix2(row):\n",
    "    if (row[\"v18q1_copy\"]) == True:\n",
    "        return \"0\"\n",
    "    else:\n",
    "        return (row['v18q1'])\n",
    "test_df['v18q1_copy'] = test_df.apply(v18q1fix2, axis=1)\n",
    "test_df.drop('v18q1', axis=1, inplace=True)\n",
    "test_df.rename(columns={'v18q1_copy': 'v18q1'}, inplace=True)"
   ]
  },
  {
   "cell_type": "code",
   "execution_count": 18,
   "metadata": {},
   "outputs": [],
   "source": [
    "#define and perform function to replace missing values with the median of the existing values\n",
    "test_df['meaneduc_copy'] = test_df['meaneduc']\n",
    "test_df.meaneduc_copy = test_df.meaneduc.isna()\n",
    "meaneduc_median2 = test_df['meaneduc'].median()\n",
    "def meaneducfix2(row):\n",
    "    if (row[\"meaneduc_copy\"]) == True:\n",
    "        return meaneduc_median2\n",
    "    else:\n",
    "        return (row['meaneduc'])\n",
    "test_df['meaneduc_copy'] = test_df.apply(meaneducfix2, axis=1)\n",
    "test_df.drop('meaneduc', axis=1, inplace=True)\n",
    "test_df.rename(columns={'meaneduc_copy': 'meaneduc'}, inplace=True)"
   ]
  },
  {
   "cell_type": "markdown",
   "metadata": {},
   "source": [
    "You will notice that I did not do anything for the SQBmeaned variable. This is because it is just the square of the meaneduc variable, and there are other variables in this data set that are squares of other variables. This is is something I will address in the feature selection and engineering section.\n",
    "\n",
    "Another thing that we might concerned with is that if people within the same household have different poverty levels since the poverty level is specific to the whole household. I group the households that have the same poverty level for all individuals in the household and also the the households that do not have homogeneous poverty levels across individuals. I then locate these individuals who don't have homogeneous poverty levels with their household members and replace their poverty level with that of the household head, since it represents the household."
   ]
  },
  {
   "cell_type": "code",
   "execution_count": 19,
   "metadata": {},
   "outputs": [
    {
     "name": "stdout",
     "output_type": "stream",
     "text": [
      "There are 85 households where the family members do not all have the same target.\n"
     ]
    }
   ],
   "source": [
    "# Groupby the household and figure out the number of unique values\n",
    "all_equal = train_df.groupby('idhogar')['Target'].apply(lambda x: x.nunique() == 1)\n",
    "\n",
    "# Households where targets are not all equal\n",
    "not_equal = all_equal[all_equal != True]\n",
    "print('There are {} households where the family members do not all have the same target.'.format(len(not_equal)))"
   ]
  },
  {
   "cell_type": "code",
   "execution_count": 20,
   "metadata": {},
   "outputs": [
    {
     "name": "stdout",
     "output_type": "stream",
     "text": [
      "There are 0 households where the family members do not all have the same target.\n"
     ]
    }
   ],
   "source": [
    "# Iterate through each household\n",
    "for household in not_equal.index:\n",
    "    # Find the correct label (for the head of household)\n",
    "    true_target = int(train_df[(train_df['idhogar'] == household) & (train_df['parentesco1'] == 1.0)]['Target'])\n",
    "    \n",
    "    # Set the correct label for all members in the household\n",
    "    train_df.loc[train_df['idhogar'] == household, 'Target'] = true_target\n",
    "    \n",
    "    \n",
    "# Groupby the household and figure out the number of unique values\n",
    "all_equal = train_df.groupby('idhogar')['Target'].apply(lambda x: x.nunique() == 1)\n",
    "\n",
    "# Households where targets are not all equal\n",
    "not_equal = all_equal[all_equal != True]\n",
    "print('There are {} households where the family members do not all have the same target.'.format(len(not_equal)))\n"
   ]
  },
  {
   "cell_type": "markdown",
   "metadata": {},
   "source": [
    "# 2. Feature Selection and Engineering\n",
    "\n",
    "This section is where I look at the type of variables in the data set and determine if some are redundant or nonexplanatory and either engineer them to be more useful or drop them completely. Most of what I do here is from looking at the variable names and what they measure and making my decisions off of that. I am not advanced enough to do a bunch of complex visualization and analysis to determine exactly how variables are related and such, although I will attempt some correlation heatmaps to determine the value of some of these variables. "
   ]
  },
  {
   "cell_type": "markdown",
   "metadata": {},
   "source": [
    "There are variables in this data set that are squares of other existing variables. This kind of feature engineering is something I don't need right now, and I can always add this later if necessary to improve my model's F1 score. Therefore, I will drop variables that are squares of other variables."
   ]
  },
  {
   "cell_type": "code",
   "execution_count": 21,
   "metadata": {},
   "outputs": [],
   "source": [
    "#Removed squared variables because unnecessary\n",
    "train_df = train_df[train_df.columns.drop(list(train_df.filter(regex='SQ')))]\n",
    "test_df = test_df[test_df.columns.drop(list(test_df.filter(regex='SQ')))]"
   ]
  },
  {
   "cell_type": "markdown",
   "metadata": {},
   "source": [
    "I don't need to include \"v18q\" which is basically a boolean or dummy variable with 0 = \"no tablet\" and 1 = \"tablet\" because I already have the \"v18q1\" variable which measures the number of tablets a household owns, with a value of 0 if they don't own one and a value >0 if they have 1 or more tablets."
   ]
  },
  {
   "cell_type": "code",
   "execution_count": 22,
   "metadata": {},
   "outputs": [
    {
     "name": "stderr",
     "output_type": "stream",
     "text": [
      "/Users/brycebangerter/anaconda3/lib/python3.6/site-packages/ipykernel_launcher.py:3: SettingWithCopyWarning: \n",
      "A value is trying to be set on a copy of a slice from a DataFrame\n",
      "\n",
      "See the caveats in the documentation: http://pandas.pydata.org/pandas-docs/stable/indexing.html#indexing-view-versus-copy\n",
      "  This is separate from the ipykernel package so we can avoid doing imports until\n"
     ]
    }
   ],
   "source": [
    "#Drop this variable\n",
    "train_df.drop('v18q', axis=1, inplace=True)\n",
    "test_df.drop('v18q', axis=1, inplace=True)"
   ]
  },
  {
   "cell_type": "markdown",
   "metadata": {},
   "source": [
    "Another group of variables that are problematic for the dataset are \"tamhog\", \"r4t3\", \"hogar_total\", \"hhsize\" and \"tamviv\" since they all measure relatively the same thing (number of people in household/living in household). Looking at the heatmap we can see that we only need one of these to represent the household size. But which one? After looking to see if there is a significant impact on poverty level by having people who are not a part of the household living in the house, we can see that there is no impact, we are left to choose whatever is most correlated to the \"Target\" which is \"tamviv\" by a hair. "
   ]
  },
  {
   "cell_type": "code",
   "execution_count": 23,
   "metadata": {},
   "outputs": [
    {
     "data": {
      "image/png": "[encoded data removed]",
      "text/plain": [
       "<matplotlib.figure.Figure at 0x108d81588>"
      ]
     },
     "metadata": {},
     "output_type": "display_data"
    }
   ],
   "source": [
    "#Had help from this website to code the heatmap: https://www.linkedin.com/pulse/generating-correlation-heatmaps-seaborn-python-andrew-holt/\n",
    "corrhh = train_df[['tamhog', 'r4t3', 'hogar_total', 'hhsize', 'tamviv', 'Target']].corr()\n",
    "fig, ax = plt.subplots(figsize=(10, 10))\n",
    "colormap = sns.diverging_palette(220, 10, as_cmap=True)\n",
    "sns.heatmap(corrhh, cmap=colormap, annot=True, fmt=\".2f\")\n",
    "plt.xticks(range(len(corrhh.columns)), corrhh.columns);\n",
    "plt.yticks(range(len(corrhh.columns)), corrhh.columns)\n",
    "plt.show()"
   ]
  },
  {
   "cell_type": "code",
   "execution_count": 24,
   "metadata": {},
   "outputs": [
    {
     "data": {
      "text/plain": [
       "-0.05810642453552708"
      ]
     },
     "execution_count": 24,
     "metadata": {},
     "output_type": "execute_result"
    }
   ],
   "source": [
    "#Create variable that shows the surplus people in the household that are not members of the household\n",
    "train_df['household_diff'] = train_df['tamviv'] - train_df['tamhog']\n",
    "#Find correlation between poverty level and surplus people in household\n",
    "train_df['household_diff'].corr(train_df['Target'])"
   ]
  },
  {
   "cell_type": "code",
   "execution_count": 25,
   "metadata": {
    "scrolled": true
   },
   "outputs": [
    {
     "name": "stderr",
     "output_type": "stream",
     "text": [
      "/Users/brycebangerter/anaconda3/lib/python3.6/site-packages/ipykernel_launcher.py:3: SettingWithCopyWarning: \n",
      "A value is trying to be set on a copy of a slice from a DataFrame\n",
      "\n",
      "See the caveats in the documentation: http://pandas.pydata.org/pandas-docs/stable/indexing.html#indexing-view-versus-copy\n",
      "  This is separate from the ipykernel package so we can avoid doing imports until\n"
     ]
    }
   ],
   "source": [
    "#Drop these features plus the new variable I just made\n",
    "train_df.drop(['tamhog', 'r4t3', 'hogar_total', 'hhsize', 'household_diff'], axis=1, inplace=True)\n",
    "test_df.drop(['tamhog', 'r4t3', 'hogar_total', 'hhsize'], axis=1, inplace=True)"
   ]
  },
  {
   "cell_type": "markdown",
   "metadata": {},
   "source": [
    "Another variable that I wish to explore is if having a bathroom is predictive of poverty levels. What I find is that it isn't correlated with poverty level and that there are roughly the same number of households in each category without a bathroom."
   ]
  },
  {
   "cell_type": "code",
   "execution_count": 26,
   "metadata": {},
   "outputs": [
    {
     "data": {
      "text/plain": [
       "0.06332090556598856"
      ]
     },
     "execution_count": 26,
     "metadata": {},
     "output_type": "execute_result"
    }
   ],
   "source": [
    "#Shows how correlated having a bathroom is with poverty level\n",
    "train_df['v14a'].corr(train_df['Target'])"
   ]
  },
  {
   "cell_type": "code",
   "execution_count": 27,
   "metadata": {},
   "outputs": [
    {
     "data": {
      "text/plain": [
       "Target  v14a\n",
       "1       1        765\n",
       "        0          9\n",
       "2       1       1537\n",
       "        0         21\n",
       "3       1       1211\n",
       "        0         10\n",
       "4       1       5994\n",
       "        0         10\n",
       "Name: v14a, dtype: int64"
      ]
     },
     "execution_count": 27,
     "metadata": {},
     "output_type": "execute_result"
    }
   ],
   "source": [
    "#Shows us how many households have or don't have a bathroom within each poverty level group\n",
    "train_df.groupby(['Target'])['v14a'].value_counts()"
   ]
  },
  {
   "cell_type": "code",
   "execution_count": 28,
   "metadata": {
    "scrolled": true
   },
   "outputs": [
    {
     "name": "stderr",
     "output_type": "stream",
     "text": [
      "/Users/brycebangerter/anaconda3/lib/python3.6/site-packages/ipykernel_launcher.py:3: SettingWithCopyWarning: \n",
      "A value is trying to be set on a copy of a slice from a DataFrame\n",
      "\n",
      "See the caveats in the documentation: http://pandas.pydata.org/pandas-docs/stable/indexing.html#indexing-view-versus-copy\n",
      "  This is separate from the ipykernel package so we can avoid doing imports until\n"
     ]
    }
   ],
   "source": [
    "#Drop this variable\n",
    "train_df.drop('v14a', axis=1, inplace=True)\n",
    "test_df.drop('v14a', axis=1, inplace=True)"
   ]
  },
  {
   "cell_type": "markdown",
   "metadata": {},
   "source": [
    "There are a lot of data about males and females under and over the age of 12 in the household that can probably be dropped. In fact, after looking at the correlation heatmap, we can say that the number of males and females under 12 is highly correlated with total number under 12 and similarly, the number of males and females over 12 is highly correlated with total number over 12. Total number under 12 has a somewhat strong negative correlation on poverty levels. Therefore, all variables except total number under 12 can be dropped."
   ]
  },
  {
   "cell_type": "code",
   "execution_count": 29,
   "metadata": {},
   "outputs": [
    {
     "data": {
      "image/png": "[encoded data removed]",
      "text/plain": [
       "<matplotlib.figure.Figure at 0x108d81898>"
      ]
     },
     "metadata": {},
     "output_type": "display_data"
    }
   ],
   "source": [
    "#Had help from this website to code the heatmap: https://www.linkedin.com/pulse/generating-correlation-heatmaps-seaborn-python-andrew-holt/\n",
    "corr = train_df[['r4h1', 'r4h2', 'r4h3', 'r4m1', 'r4m2', 'r4m3', 'r4t1', 'r4t2', 'Target']].corr()\n",
    "fig, ax = plt.subplots(figsize=(10, 10))\n",
    "colormap = sns.diverging_palette(220, 10, as_cmap=True)\n",
    "sns.heatmap(corr, cmap=colormap, annot=True, fmt=\".2f\")\n",
    "plt.xticks(range(len(corr.columns)), corr.columns);\n",
    "plt.yticks(range(len(corr.columns)), corr.columns)\n",
    "plt.show()"
   ]
  },
  {
   "cell_type": "code",
   "execution_count": 30,
   "metadata": {},
   "outputs": [],
   "source": [
    "#Drop the irrelevant features\n",
    "train_df.drop(['r4h1', 'r4h2', 'r4h3', 'r4m1', 'r4m2', 'r4m3', 'r4t2'], axis=1, inplace=True)"
   ]
  },
  {
   "cell_type": "code",
   "execution_count": 31,
   "metadata": {
    "scrolled": false
   },
   "outputs": [
    {
     "name": "stderr",
     "output_type": "stream",
     "text": [
      "/Users/brycebangerter/anaconda3/lib/python3.6/site-packages/ipykernel_launcher.py:2: SettingWithCopyWarning: \n",
      "A value is trying to be set on a copy of a slice from a DataFrame\n",
      "\n",
      "See the caveats in the documentation: http://pandas.pydata.org/pandas-docs/stable/indexing.html#indexing-view-versus-copy\n",
      "  \n"
     ]
    }
   ],
   "source": [
    "#Drop the irrelevant features\n",
    "test_df.drop(['r4h1', 'r4h2', 'r4h3', 'r4m1', 'r4m2', 'r4m3', 'r4t2'], axis=1, inplace=True)"
   ]
  },
  {
   "cell_type": "markdown",
   "metadata": {},
   "source": [
    "Now I will look at the electricity provider variables and determine if any of them are predictive. I took the four variables and combined them into one ordinal variable, which I got help doing from https://www.kaggle.com/willkoehrsen/a-complete-introduction-and-walkthrough/notebook.\n",
    "We can see that there is no correlation between the electricity provider and poverty levels, so these can be dropped."
   ]
  },
  {
   "cell_type": "code",
   "execution_count": 32,
   "metadata": {},
   "outputs": [],
   "source": [
    "#Make empty list to append to in function\n",
    "elec = []\n",
    "#Iterate through each row and append a corresponding ordinal value depending on what dummy turns on for that individual\n",
    "for i, row in train_df.iterrows():\n",
    "    if row['noelec'] == 1:\n",
    "        elec.append(0)\n",
    "    elif row['coopele'] == 1:\n",
    "        elec.append(1)\n",
    "    elif row['public'] == 1:\n",
    "        elec.append(2)\n",
    "    elif row['planpri'] == 1:\n",
    "        elec.append(3)\n",
    "    else:\n",
    "        elec.append(np.nan)\n",
    "#Add to dataframe\n",
    "train_df['elec'] = elec"
   ]
  },
  {
   "cell_type": "code",
   "execution_count": 33,
   "metadata": {},
   "outputs": [
    {
     "data": {
      "text/plain": [
       "0.009226496202819292"
      ]
     },
     "execution_count": 33,
     "metadata": {},
     "output_type": "execute_result"
    }
   ],
   "source": [
    "#Correlation coefficient between our new variable and \"Target\"\n",
    "train_df['elec'].corr(train_df['Target'])"
   ]
  },
  {
   "cell_type": "code",
   "execution_count": 34,
   "metadata": {
    "scrolled": true
   },
   "outputs": [
    {
     "name": "stderr",
     "output_type": "stream",
     "text": [
      "/Users/brycebangerter/anaconda3/lib/python3.6/site-packages/ipykernel_launcher.py:3: SettingWithCopyWarning: \n",
      "A value is trying to be set on a copy of a slice from a DataFrame\n",
      "\n",
      "See the caveats in the documentation: http://pandas.pydata.org/pandas-docs/stable/indexing.html#indexing-view-versus-copy\n",
      "  This is separate from the ipykernel package so we can avoid doing imports until\n"
     ]
    }
   ],
   "source": [
    "#Drop these variables since they are not predictive of poverty level\n",
    "train_df.drop(['elec', 'public', 'planpri', 'coopele', 'noelec'], axis=1, inplace=True)\n",
    "test_df.drop(['public', 'planpri', 'coopele', 'noelec'], axis=1, inplace=True)"
   ]
  },
  {
   "cell_type": "markdown",
   "metadata": {},
   "source": [
    "Another group of variables that can be made ordinal is the type of toilet/sewage system in the house. I made a correlation heat map again to determine the order of my ordinal variable values, then I made the new ordinal variable which has a decent correlation to the \"Target,\" so I kept it and dropped the original variables."
   ]
  },
  {
   "cell_type": "code",
   "execution_count": 35,
   "metadata": {},
   "outputs": [
    {
     "data": {
      "image/png": "[encoded data removed]",
      "text/plain": [
       "<matplotlib.figure.Figure at 0x109e3a978>"
      ]
     },
     "metadata": {},
     "output_type": "display_data"
    }
   ],
   "source": [
    "#Had help from this website to code the heatmap: https://www.linkedin.com/pulse/generating-correlation-heatmaps-seaborn-python-andrew-holt/\n",
    "corrtoi = train_df[['sanitario1', 'sanitario2', 'sanitario3', 'sanitario5', 'sanitario6', 'Target']].corr()\n",
    "fig, ax = plt.subplots(figsize=(5, 5))\n",
    "colormap = sns.diverging_palette(220, 10, as_cmap=True)\n",
    "sns.heatmap(corrtoi, cmap=colormap, annot=True, fmt=\".2f\")\n",
    "plt.xticks(range(len(corrtoi.columns)), corrtoi.columns);\n",
    "plt.yticks(range(len(corrtoi.columns)), corrtoi.columns)\n",
    "plt.show()"
   ]
  },
  {
   "cell_type": "code",
   "execution_count": 36,
   "metadata": {},
   "outputs": [
    {
     "name": "stderr",
     "output_type": "stream",
     "text": [
      "/Users/brycebangerter/anaconda3/lib/python3.6/site-packages/ipykernel_launcher.py:36: SettingWithCopyWarning: \n",
      "A value is trying to be set on a copy of a slice from a DataFrame.\n",
      "Try using .loc[row_indexer,col_indexer] = value instead\n",
      "\n",
      "See the caveats in the documentation: http://pandas.pydata.org/pandas-docs/stable/indexing.html#indexing-view-versus-copy\n",
      "/Users/brycebangerter/anaconda3/lib/python3.6/site-packages/ipykernel_launcher.py:40: SettingWithCopyWarning: \n",
      "A value is trying to be set on a copy of a slice from a DataFrame\n",
      "\n",
      "See the caveats in the documentation: http://pandas.pydata.org/pandas-docs/stable/indexing.html#indexing-view-versus-copy\n"
     ]
    }
   ],
   "source": [
    "#Make empty list to append to in function\n",
    "toi = []\n",
    "#Iterate through each row and append a corresponding ordinal value depending on what dummy turns on for that individual\n",
    "#I chose my ordinal values based on the heatmap with the highest value for the most positively correlated to \"Target\"\n",
    "for i, row in train_df.iterrows():\n",
    "    if row['sanitario1'] == 1:\n",
    "        toi.append(0)\n",
    "    elif row['sanitario2'] == 1:\n",
    "        toi.append(4)\n",
    "    elif row['sanitario3'] == 1:\n",
    "        toi.append(2)\n",
    "    elif row['sanitario5'] == 1:\n",
    "        toi.append(1)\n",
    "    elif row['sanitario6'] == 1:\n",
    "        toi.append(3)\n",
    "    else:\n",
    "        toi.append(np.nan)\n",
    "#Add to dataframe\n",
    "train_df['toi'] = toi\n",
    "\n",
    "testtoi = []\n",
    "for i, row in test_df.iterrows():\n",
    "    if row['sanitario1'] == 1:\n",
    "        testtoi.append(0)\n",
    "    elif row['sanitario2'] == 1:\n",
    "        testtoi.append(4)\n",
    "    elif row['sanitario3'] == 1:\n",
    "        testtoi.append(2)\n",
    "    elif row['sanitario5'] == 1:\n",
    "        testtoi.append(1)\n",
    "    elif row['sanitario6'] == 1:\n",
    "        testtoi.append(3)\n",
    "    else:\n",
    "        testtoi.append(np.nan)\n",
    "#Add to dataframe\n",
    "test_df['toi'] = testtoi\n",
    "\n",
    "#Delete old columns\n",
    "train_df.drop(['sanitario1', 'sanitario2', 'sanitario3', 'sanitario5', 'sanitario6'], axis=1, inplace=True)\n",
    "test_df.drop(['sanitario1', 'sanitario2', 'sanitario3', 'sanitario5', 'sanitario6'], axis=1, inplace=True)"
   ]
  },
  {
   "cell_type": "code",
   "execution_count": 37,
   "metadata": {},
   "outputs": [
    {
     "data": {
      "text/plain": [
       "0.1055076561858318"
      ]
     },
     "execution_count": 37,
     "metadata": {},
     "output_type": "execute_result"
    }
   ],
   "source": [
    "#Correlation coefficient to see how good of a predictor this is\n",
    "train_df['toi'].corr(train_df['Target'])"
   ]
  },
  {
   "cell_type": "markdown",
   "metadata": {},
   "source": [
    "There are a lot of family role identifiers in this data set that don't really matter when predicting poverty level. I assume this data was collected to just keep track of what the role of each person is in the household (son/daughter, father/mother, etc.) when collecting the data. I only kept parentescol1 because it identifies the individual who is the household head. "
   ]
  },
  {
   "cell_type": "code",
   "execution_count": 38,
   "metadata": {},
   "outputs": [
    {
     "data": {
      "image/png": "[encoded data removed]",
      "text/plain": [
       "<matplotlib.figure.Figure at 0x108fec668>"
      ]
     },
     "metadata": {},
     "output_type": "display_data"
    }
   ],
   "source": [
    "#Had help from this website to code the heatmap: https://www.linkedin.com/pulse/generating-correlation-heatmaps-seaborn-python-andrew-holt/\n",
    "#Create heatmap to see if correlated to \"Target\"\n",
    "corrparent = train_df[['parentesco1', 'parentesco2', 'parentesco3', 'parentesco4', 'parentesco5', 'parentesco6', 'parentesco7', 'parentesco8', 'parentesco9', 'parentesco10', 'parentesco11', 'parentesco12', 'Target']].corr()\n",
    "fig, ax = plt.subplots(figsize=(10, 10))\n",
    "colormap = sns.diverging_palette(220, 10, as_cmap=True)\n",
    "sns.heatmap(corrparent, cmap=colormap, annot=True, fmt=\".2f\")\n",
    "plt.xticks(range(len(corrparent.columns)), corrparent.columns);\n",
    "plt.yticks(range(len(corrparent.columns)), corrparent.columns)\n",
    "plt.show()"
   ]
  },
  {
   "cell_type": "code",
   "execution_count": 39,
   "metadata": {},
   "outputs": [],
   "source": [
    "train_df.drop(['parentesco2', 'parentesco3', 'parentesco4', 'parentesco5', 'parentesco6', 'parentesco7', 'parentesco8', 'parentesco9', 'parentesco10', 'parentesco11', 'parentesco12'], axis=1, inplace=True)"
   ]
  },
  {
   "cell_type": "code",
   "execution_count": 40,
   "metadata": {},
   "outputs": [
    {
     "name": "stderr",
     "output_type": "stream",
     "text": [
      "/Users/brycebangerter/anaconda3/lib/python3.6/site-packages/ipykernel_launcher.py:1: SettingWithCopyWarning: \n",
      "A value is trying to be set on a copy of a slice from a DataFrame\n",
      "\n",
      "See the caveats in the documentation: http://pandas.pydata.org/pandas-docs/stable/indexing.html#indexing-view-versus-copy\n",
      "  \"\"\"Entry point for launching an IPython kernel.\n"
     ]
    }
   ],
   "source": [
    "test_df.drop(['parentesco2', 'parentesco3', 'parentesco4', 'parentesco5', 'parentesco6', 'parentesco7', 'parentesco8', 'parentesco9', 'parentesco10', 'parentesco11', 'parentesco12'], axis=1, inplace=True)"
   ]
  },
  {
   "cell_type": "markdown",
   "metadata": {},
   "source": [
    "There are two variables \"area1\" and \"area2\" which represent if the household is in an urban or rural location, respecively. After looking at the value counts, the two variables are mutually exclusive and collectively exhaustive, meaning we don't need one of them."
   ]
  },
  {
   "cell_type": "code",
   "execution_count": 41,
   "metadata": {},
   "outputs": [
    {
     "data": {
      "text/plain": [
       "1    6829\n",
       "0    2728\n",
       "Name: area1, dtype: int64"
      ]
     },
     "execution_count": 41,
     "metadata": {},
     "output_type": "execute_result"
    }
   ],
   "source": [
    "train_df['area1'].value_counts()"
   ]
  },
  {
   "cell_type": "code",
   "execution_count": 42,
   "metadata": {},
   "outputs": [
    {
     "data": {
      "text/plain": [
       "0    6829\n",
       "1    2728\n",
       "Name: area2, dtype: int64"
      ]
     },
     "execution_count": 42,
     "metadata": {},
     "output_type": "execute_result"
    }
   ],
   "source": [
    "train_df['area2'].value_counts()"
   ]
  },
  {
   "cell_type": "code",
   "execution_count": 43,
   "metadata": {
    "scrolled": true
   },
   "outputs": [
    {
     "name": "stderr",
     "output_type": "stream",
     "text": [
      "/Users/brycebangerter/anaconda3/lib/python3.6/site-packages/ipykernel_launcher.py:2: SettingWithCopyWarning: \n",
      "A value is trying to be set on a copy of a slice from a DataFrame\n",
      "\n",
      "See the caveats in the documentation: http://pandas.pydata.org/pandas-docs/stable/indexing.html#indexing-view-versus-copy\n",
      "  \n"
     ]
    }
   ],
   "source": [
    "train_df.drop('area2', axis=1, inplace=True)\n",
    "test_df.drop('area2', axis=1, inplace=True)"
   ]
  },
  {
   "cell_type": "markdown",
   "metadata": {},
   "source": [
    "There is a variable for region the household is located. Because lugar1 is postively correlated to poverty levels and everything else is negatively correlated, I decided to just drop the other variables because if lugar1 = 1, it probably means less poverty, and if lugar1 = 0, it probably means more poverty. I don't need the extra variables to cause the curse of dimensiality."
   ]
  },
  {
   "cell_type": "code",
   "execution_count": 44,
   "metadata": {},
   "outputs": [
    {
     "data": {
      "image/png": "[encoded data removed]",
      "text/plain": [
       "<matplotlib.figure.Figure at 0x10672ad30>"
      ]
     },
     "metadata": {},
     "output_type": "display_data"
    }
   ],
   "source": [
    "corrregion = train_df[['lugar1', 'lugar2', 'lugar3', 'lugar4', 'lugar5', 'lugar6', 'Target']].corr()\n",
    "fig, ax = plt.subplots(figsize=(10, 10))\n",
    "colormap = sns.diverging_palette(220, 10, as_cmap=True)\n",
    "sns.heatmap(corrregion, cmap=colormap, annot=True, fmt=\".2f\")\n",
    "plt.xticks(range(len(corrregion.columns)), corrregion.columns);\n",
    "plt.yticks(range(len(corrregion.columns)), corrregion.columns)\n",
    "plt.show()"
   ]
  },
  {
   "cell_type": "code",
   "execution_count": 45,
   "metadata": {},
   "outputs": [
    {
     "name": "stderr",
     "output_type": "stream",
     "text": [
      "/Users/brycebangerter/anaconda3/lib/python3.6/site-packages/ipykernel_launcher.py:2: SettingWithCopyWarning: \n",
      "A value is trying to be set on a copy of a slice from a DataFrame\n",
      "\n",
      "See the caveats in the documentation: http://pandas.pydata.org/pandas-docs/stable/indexing.html#indexing-view-versus-copy\n",
      "  \n"
     ]
    }
   ],
   "source": [
    "train_df.drop(['lugar2', 'lugar3', 'lugar4', 'lugar5', 'lugar6'], axis=1, inplace=True)\n",
    "test_df.drop(['lugar2', 'lugar3', 'lugar4', 'lugar5', 'lugar6'], axis=1, inplace=True)"
   ]
  },
  {
   "cell_type": "markdown",
   "metadata": {},
   "source": [
    "The number of phones doesn't mean anything to me. Having one phone might be great if there is only one person in the household, but bad if there are 8 people in the household. Because of this, I care more about the phones per person in the household, so I engineer this feature."
   ]
  },
  {
   "cell_type": "code",
   "execution_count": 46,
   "metadata": {},
   "outputs": [],
   "source": [
    "train_df['phoneperperson'] = train_df['qmobilephone']/train_df['tamviv']"
   ]
  },
  {
   "cell_type": "code",
   "execution_count": 47,
   "metadata": {},
   "outputs": [
    {
     "name": "stderr",
     "output_type": "stream",
     "text": [
      "/Users/brycebangerter/anaconda3/lib/python3.6/site-packages/ipykernel_launcher.py:1: SettingWithCopyWarning: \n",
      "A value is trying to be set on a copy of a slice from a DataFrame.\n",
      "Try using .loc[row_indexer,col_indexer] = value instead\n",
      "\n",
      "See the caveats in the documentation: http://pandas.pydata.org/pandas-docs/stable/indexing.html#indexing-view-versus-copy\n",
      "  \"\"\"Entry point for launching an IPython kernel.\n",
      "/Users/brycebangerter/anaconda3/lib/python3.6/site-packages/ipykernel_launcher.py:3: SettingWithCopyWarning: \n",
      "A value is trying to be set on a copy of a slice from a DataFrame\n",
      "\n",
      "See the caveats in the documentation: http://pandas.pydata.org/pandas-docs/stable/indexing.html#indexing-view-versus-copy\n",
      "  This is separate from the ipykernel package so we can avoid doing imports until\n"
     ]
    }
   ],
   "source": [
    "test_df['phoneperperson'] = test_df['qmobilephone']/test_df['tamviv']\n",
    "train_df.drop(['mobilephone', 'qmobilephone'], axis=1, inplace=True)\n",
    "test_df.drop(['mobilephone', 'qmobilephone'], axis=1, inplace=True)"
   ]
  },
  {
   "cell_type": "code",
   "execution_count": 48,
   "metadata": {
    "scrolled": true
   },
   "outputs": [
    {
     "data": {
      "text/plain": [
       "0.3618281682764482"
      ]
     },
     "execution_count": 48,
     "metadata": {},
     "output_type": "execute_result"
    }
   ],
   "source": [
    "train_df['phoneperperson'].corr(train_df['Target'])"
   ]
  },
  {
   "cell_type": "markdown",
   "metadata": {},
   "source": [
    "These variables below represent whether a household owns, pays a mortgage, pays a rent, and other. Since two of these variables aren't correlated to the poverty level, I drop them and leave the rest."
   ]
  },
  {
   "cell_type": "code",
   "execution_count": 49,
   "metadata": {},
   "outputs": [
    {
     "data": {
      "image/png": "[encoded data removed]",
      "text/plain": [
       "<matplotlib.figure.Figure at 0x109084898>"
      ]
     },
     "metadata": {},
     "output_type": "display_data"
    }
   ],
   "source": [
    "corrtipovivi = train_df[['tipovivi1', 'tipovivi2', 'tipovivi3', 'tipovivi4', 'tipovivi5', 'Target']].corr()\n",
    "fig, ax = plt.subplots(figsize=(5, 5))\n",
    "colormap = sns.diverging_palette(220, 10, as_cmap=True)\n",
    "sns.heatmap(corrtipovivi, cmap=colormap, annot=True, fmt=\".2f\")\n",
    "plt.xticks(range(len(corrtipovivi.columns)), corrtipovivi.columns);\n",
    "plt.yticks(range(len(corrtipovivi.columns)), corrtipovivi.columns)\n",
    "plt.show()"
   ]
  },
  {
   "cell_type": "code",
   "execution_count": 50,
   "metadata": {
    "scrolled": true
   },
   "outputs": [
    {
     "name": "stderr",
     "output_type": "stream",
     "text": [
      "/Users/brycebangerter/anaconda3/lib/python3.6/site-packages/ipykernel_launcher.py:2: SettingWithCopyWarning: \n",
      "A value is trying to be set on a copy of a slice from a DataFrame\n",
      "\n",
      "See the caveats in the documentation: http://pandas.pydata.org/pandas-docs/stable/indexing.html#indexing-view-versus-copy\n",
      "  \n"
     ]
    }
   ],
   "source": [
    "train_df.drop(['tipovivi1', 'tipovivi3'], axis=1, inplace=True)\n",
    "test_df.drop(['tipovivi1', 'tipovivi3'], axis=1, inplace=True)"
   ]
  },
  {
   "cell_type": "markdown",
   "metadata": {},
   "source": [
    "These variables for education level are perfect for an ordinal variable to represent all of them. Each variable is moving up the academic ladder, so I can order the variables from 0-8 with 8 being the highest level of educational attainment. It's fairly positively correlated with poverty levels, so I drop the original variables and keep the engineered ordinal variable."
   ]
  },
  {
   "cell_type": "code",
   "execution_count": 51,
   "metadata": {},
   "outputs": [],
   "source": [
    "educ = []\n",
    "for i, row in train_df.iterrows():\n",
    "    if row['instlevel1'] == 1:\n",
    "        educ.append(0)\n",
    "    elif row['instlevel2'] == 1:\n",
    "        educ.append(1)\n",
    "    elif row['instlevel3'] == 1:\n",
    "        educ.append(2)\n",
    "    elif row['instlevel4'] == 1:\n",
    "        educ.append(3)\n",
    "    elif row['instlevel5'] == 1:\n",
    "        educ.append(4)\n",
    "    elif row['instlevel6'] == 1:\n",
    "        educ.append(5)\n",
    "    elif row['instlevel7'] == 1:\n",
    "        educ.append(6)\n",
    "    elif row['instlevel8'] == 1:\n",
    "        educ.append(7)\n",
    "    elif row['instlevel9'] == 1:\n",
    "        educ.append(8)\n",
    "    else:\n",
    "        educ.append(np.nan)\n",
    "#Add to dataframe\n",
    "train_df['educ'] = educ"
   ]
  },
  {
   "cell_type": "code",
   "execution_count": 52,
   "metadata": {},
   "outputs": [
    {
     "data": {
      "text/plain": [
       "0.3034951822203205"
      ]
     },
     "execution_count": 52,
     "metadata": {},
     "output_type": "execute_result"
    }
   ],
   "source": [
    "train_df['educ'].corr(train_df['Target'])"
   ]
  },
  {
   "cell_type": "code",
   "execution_count": 53,
   "metadata": {},
   "outputs": [
    {
     "name": "stderr",
     "output_type": "stream",
     "text": [
      "/Users/brycebangerter/anaconda3/lib/python3.6/site-packages/ipykernel_launcher.py:24: SettingWithCopyWarning: \n",
      "A value is trying to be set on a copy of a slice from a DataFrame.\n",
      "Try using .loc[row_indexer,col_indexer] = value instead\n",
      "\n",
      "See the caveats in the documentation: http://pandas.pydata.org/pandas-docs/stable/indexing.html#indexing-view-versus-copy\n",
      "/Users/brycebangerter/anaconda3/lib/python3.6/site-packages/ipykernel_launcher.py:26: SettingWithCopyWarning: \n",
      "A value is trying to be set on a copy of a slice from a DataFrame\n",
      "\n",
      "See the caveats in the documentation: http://pandas.pydata.org/pandas-docs/stable/indexing.html#indexing-view-versus-copy\n"
     ]
    }
   ],
   "source": [
    "eductest = []\n",
    "for i, row in test_df.iterrows():\n",
    "    if row['instlevel1'] == 1:\n",
    "        eductest.append(0)\n",
    "    elif row['instlevel2'] == 1:\n",
    "        eductest.append(1)\n",
    "    elif row['instlevel3'] == 1:\n",
    "        eductest.append(2)\n",
    "    elif row['instlevel4'] == 1:\n",
    "        eductest.append(3)\n",
    "    elif row['instlevel5'] == 1:\n",
    "        eductest.append(4)\n",
    "    elif row['instlevel6'] == 1:\n",
    "        eductest.append(5)\n",
    "    elif row['instlevel7'] == 1:\n",
    "        eductest.append(6)\n",
    "    elif row['instlevel8'] == 1:\n",
    "        eductest.append(7)\n",
    "    elif row['instlevel9'] == 1:\n",
    "        eductest.append(8)\n",
    "    else:\n",
    "        eductest.append(np.nan)\n",
    "#Add to dataframe\n",
    "test_df['educ'] = eductest\n",
    "train_df.drop(['instlevel1', 'instlevel2', 'instlevel3', 'instlevel4', 'instlevel5', 'instlevel6', 'instlevel7', 'instlevel8', 'instlevel9'], axis=1, inplace=True)\n",
    "test_df.drop(['instlevel1', 'instlevel2', 'instlevel3', 'instlevel4', 'instlevel5', 'instlevel6', 'instlevel7', 'instlevel8', 'instlevel9'], axis=1, inplace=True)"
   ]
  },
  {
   "cell_type": "markdown",
   "metadata": {},
   "source": [
    "This is a variable for education years for the head of household if that head of household is male. This isn't predictive of poverty levels, so I drop it."
   ]
  },
  {
   "cell_type": "code",
   "execution_count": 54,
   "metadata": {},
   "outputs": [
    {
     "data": {
      "text/plain": [
       "0.03254459080794048"
      ]
     },
     "execution_count": 54,
     "metadata": {},
     "output_type": "execute_result"
    }
   ],
   "source": [
    "train_df['edjefa'].corr(train_df['Target'])"
   ]
  },
  {
   "cell_type": "code",
   "execution_count": 55,
   "metadata": {},
   "outputs": [
    {
     "name": "stderr",
     "output_type": "stream",
     "text": [
      "/Users/brycebangerter/anaconda3/lib/python3.6/site-packages/ipykernel_launcher.py:2: SettingWithCopyWarning: \n",
      "A value is trying to be set on a copy of a slice from a DataFrame\n",
      "\n",
      "See the caveats in the documentation: http://pandas.pydata.org/pandas-docs/stable/indexing.html#indexing-view-versus-copy\n",
      "  \n"
     ]
    }
   ],
   "source": [
    "train_df.drop('edjefa', axis=1, inplace=True)\n",
    "test_df.drop('edjefa', axis=1, inplace=True)"
   ]
  },
  {
   "cell_type": "markdown",
   "metadata": {},
   "source": [
    "The dependency variable is a function of other variables in the data set, so I wanted to see how correlated they were and whether or not to keep the other variables in addition to the dependency variable. After examining the correlation heatmap, hogar_mayor has no correlation to poverty levels and hogar_adul is somewhat correlated to the target variable, but is also correlated to the dependency variable, so I decided to drop both of these variables."
   ]
  },
  {
   "cell_type": "code",
   "execution_count": 56,
   "metadata": {},
   "outputs": [
    {
     "data": {
      "image/png": "[encoded data removed]",
      "text/plain": [
       "<matplotlib.figure.Figure at 0x108d93940>"
      ]
     },
     "metadata": {},
     "output_type": "display_data"
    }
   ],
   "source": [
    "corrhogar = train_df[['hogar_nin', 'hogar_adul', 'hogar_mayor', 'dependency', 'Target']].corr()\n",
    "fig, ax = plt.subplots(figsize=(5, 5))\n",
    "colormap = sns.diverging_palette(220, 10, as_cmap=True)\n",
    "sns.heatmap(corrhogar, cmap=colormap, annot=True, fmt=\".2f\")\n",
    "plt.xticks(range(len(corrhogar.columns)), corrhogar.columns);\n",
    "plt.yticks(range(len(corrhogar.columns)), corrhogar.columns)\n",
    "plt.show()"
   ]
  },
  {
   "cell_type": "code",
   "execution_count": 57,
   "metadata": {},
   "outputs": [
    {
     "name": "stderr",
     "output_type": "stream",
     "text": [
      "/Users/brycebangerter/anaconda3/lib/python3.6/site-packages/ipykernel_launcher.py:2: SettingWithCopyWarning: \n",
      "A value is trying to be set on a copy of a slice from a DataFrame\n",
      "\n",
      "See the caveats in the documentation: http://pandas.pydata.org/pandas-docs/stable/indexing.html#indexing-view-versus-copy\n",
      "  \n"
     ]
    }
   ],
   "source": [
    "train_df.drop(['hogar_mayor', 'hogar_adul'], axis=1, inplace=True)\n",
    "test_df.drop(['hogar_mayor', 'hogar_adul'], axis=1, inplace=True)"
   ]
  },
  {
   "cell_type": "markdown",
   "metadata": {},
   "source": [
    "There is various demographic data about gender and disabilities and none of them are correlated to poverty levels, so I dropped these as well. The data about marital status and family role are mostly uncorrelated to the target variable so I dropped the ones that had low correlations."
   ]
  },
  {
   "cell_type": "code",
   "execution_count": 58,
   "metadata": {},
   "outputs": [
    {
     "data": {
      "text/plain": [
       "-0.03830665737747855"
      ]
     },
     "execution_count": 58,
     "metadata": {},
     "output_type": "execute_result"
    }
   ],
   "source": [
    "train_df['female'].corr(train_df['Target'])"
   ]
  },
  {
   "cell_type": "code",
   "execution_count": 59,
   "metadata": {},
   "outputs": [
    {
     "data": {
      "text/plain": [
       "0.03830665737747855"
      ]
     },
     "execution_count": 59,
     "metadata": {},
     "output_type": "execute_result"
    }
   ],
   "source": [
    "train_df['male'].corr(train_df['Target'])"
   ]
  },
  {
   "cell_type": "code",
   "execution_count": 60,
   "metadata": {},
   "outputs": [
    {
     "data": {
      "text/plain": [
       "-0.05586536982870389"
      ]
     },
     "execution_count": 60,
     "metadata": {},
     "output_type": "execute_result"
    }
   ],
   "source": [
    "train_df['dis'].corr(train_df['Target'])"
   ]
  },
  {
   "cell_type": "code",
   "execution_count": 61,
   "metadata": {},
   "outputs": [
    {
     "name": "stderr",
     "output_type": "stream",
     "text": [
      "/Users/brycebangerter/anaconda3/lib/python3.6/site-packages/ipykernel_launcher.py:2: SettingWithCopyWarning: \n",
      "A value is trying to be set on a copy of a slice from a DataFrame\n",
      "\n",
      "See the caveats in the documentation: http://pandas.pydata.org/pandas-docs/stable/indexing.html#indexing-view-versus-copy\n",
      "  \n"
     ]
    }
   ],
   "source": [
    "train_df.drop(['dis', 'male', 'female'], axis=1, inplace=True)\n",
    "test_df.drop(['dis', 'male', 'female'], axis=1, inplace=True)"
   ]
  },
  {
   "cell_type": "code",
   "execution_count": 62,
   "metadata": {},
   "outputs": [
    {
     "data": {
      "image/png": "[encoded data removed]",
      "text/plain": [
       "<matplotlib.figure.Figure at 0x10900f978>"
      ]
     },
     "metadata": {},
     "output_type": "display_data"
    }
   ],
   "source": [
    "corrdemo = train_df[['estadocivil1', 'estadocivil2', 'estadocivil3', 'estadocivil4', 'estadocivil5', 'estadocivil6', 'estadocivil7', 'Target']].corr()\n",
    "fig, ax = plt.subplots(figsize=(5, 5))\n",
    "colormap = sns.diverging_palette(220, 10, as_cmap=True)\n",
    "sns.heatmap(corrdemo, cmap=colormap, annot=True, fmt=\".2f\")\n",
    "plt.xticks(range(len(corrdemo.columns)), corrdemo.columns);\n",
    "plt.yticks(range(len(corrdemo.columns)), corrdemo.columns)\n",
    "plt.show()"
   ]
  },
  {
   "cell_type": "code",
   "execution_count": 63,
   "metadata": {
    "scrolled": true
   },
   "outputs": [
    {
     "name": "stderr",
     "output_type": "stream",
     "text": [
      "/Users/brycebangerter/anaconda3/lib/python3.6/site-packages/ipykernel_launcher.py:2: SettingWithCopyWarning: \n",
      "A value is trying to be set on a copy of a slice from a DataFrame\n",
      "\n",
      "See the caveats in the documentation: http://pandas.pydata.org/pandas-docs/stable/indexing.html#indexing-view-versus-copy\n",
      "  \n"
     ]
    }
   ],
   "source": [
    "train_df.drop(['estadocivil2', 'estadocivil4', 'estadocivil5', 'estadocivil6', 'estadocivil7'], axis=1, inplace=True)\n",
    "test_df.drop(['estadocivil2', 'estadocivil4', 'estadocivil5', 'estadocivil6', 'estadocivil7'], axis=1, inplace=True)"
   ]
  },
  {
   "cell_type": "markdown",
   "metadata": {},
   "source": [
    "There are other features about the quality of house features that can be turned into ordinal variables."
   ]
  },
  {
   "cell_type": "code",
   "execution_count": 64,
   "metadata": {},
   "outputs": [
    {
     "data": {
      "text/plain": [
       "0.3053411200239098"
      ]
     },
     "execution_count": 64,
     "metadata": {},
     "output_type": "execute_result"
    }
   ],
   "source": [
    "floors = []\n",
    "for i, row in train_df.iterrows():\n",
    "    if row['eviv1'] == 1:\n",
    "        floors.append(0)\n",
    "    elif row['eviv2'] == 1:\n",
    "        floors.append(1)\n",
    "    elif row['eviv3'] == 1:\n",
    "        floors.append(2)\n",
    "    else:\n",
    "        floors.append(np.nan)\n",
    "#Add to dataframe\n",
    "train_df['floors'] = floors\n",
    "train_df['floors'].corr(train_df['Target'])"
   ]
  },
  {
   "cell_type": "code",
   "execution_count": 65,
   "metadata": {},
   "outputs": [
    {
     "name": "stderr",
     "output_type": "stream",
     "text": [
      "/Users/brycebangerter/anaconda3/lib/python3.6/site-packages/ipykernel_launcher.py:12: SettingWithCopyWarning: \n",
      "A value is trying to be set on a copy of a slice from a DataFrame.\n",
      "Try using .loc[row_indexer,col_indexer] = value instead\n",
      "\n",
      "See the caveats in the documentation: http://pandas.pydata.org/pandas-docs/stable/indexing.html#indexing-view-versus-copy\n",
      "  if sys.path[0] == '':\n",
      "/Users/brycebangerter/anaconda3/lib/python3.6/site-packages/ipykernel_launcher.py:14: SettingWithCopyWarning: \n",
      "A value is trying to be set on a copy of a slice from a DataFrame\n",
      "\n",
      "See the caveats in the documentation: http://pandas.pydata.org/pandas-docs/stable/indexing.html#indexing-view-versus-copy\n",
      "  \n"
     ]
    }
   ],
   "source": [
    "floorstest = []\n",
    "for i, row in test_df.iterrows():\n",
    "    if row['eviv1'] == 1:\n",
    "        floorstest.append(0)\n",
    "    elif row['eviv2'] == 1:\n",
    "        floorstest.append(1)\n",
    "    elif row['eviv3'] == 1:\n",
    "        floorstest.append(2)\n",
    "    else:\n",
    "        floorstest.append(np.nan)\n",
    "#Add to dataframe\n",
    "test_df['floors'] = floorstest\n",
    "train_df.drop(['eviv1', 'eviv2', 'eviv3'], axis=1, inplace=True)\n",
    "test_df.drop(['eviv1', 'eviv2', 'eviv3'], axis=1, inplace=True)"
   ]
  },
  {
   "cell_type": "code",
   "execution_count": 66,
   "metadata": {},
   "outputs": [
    {
     "data": {
      "text/plain": [
       "0.27108590727308157"
      ]
     },
     "execution_count": 66,
     "metadata": {},
     "output_type": "execute_result"
    }
   ],
   "source": [
    "roof = []\n",
    "for i, row in train_df.iterrows():\n",
    "    if row['etecho1'] == 1:\n",
    "        roof.append(0)\n",
    "    elif row['etecho2'] == 1:\n",
    "        roof.append(1)\n",
    "    elif row['etecho3'] == 1:\n",
    "        roof.append(2)\n",
    "    else:\n",
    "        roof.append(np.nan)\n",
    "#Add to dataframe\n",
    "train_df['roof'] = roof\n",
    "train_df['roof'].corr(train_df['Target'])"
   ]
  },
  {
   "cell_type": "code",
   "execution_count": 67,
   "metadata": {},
   "outputs": [
    {
     "name": "stderr",
     "output_type": "stream",
     "text": [
      "/Users/brycebangerter/anaconda3/lib/python3.6/site-packages/ipykernel_launcher.py:12: SettingWithCopyWarning: \n",
      "A value is trying to be set on a copy of a slice from a DataFrame.\n",
      "Try using .loc[row_indexer,col_indexer] = value instead\n",
      "\n",
      "See the caveats in the documentation: http://pandas.pydata.org/pandas-docs/stable/indexing.html#indexing-view-versus-copy\n",
      "  if sys.path[0] == '':\n",
      "/Users/brycebangerter/anaconda3/lib/python3.6/site-packages/ipykernel_launcher.py:14: SettingWithCopyWarning: \n",
      "A value is trying to be set on a copy of a slice from a DataFrame\n",
      "\n",
      "See the caveats in the documentation: http://pandas.pydata.org/pandas-docs/stable/indexing.html#indexing-view-versus-copy\n",
      "  \n"
     ]
    }
   ],
   "source": [
    "rooftest = []\n",
    "for i, row in test_df.iterrows():\n",
    "    if row['etecho1'] == 1:\n",
    "        rooftest.append(0)\n",
    "    elif row['etecho2'] == 1:\n",
    "        rooftest.append(1)\n",
    "    elif row['etecho3'] == 1:\n",
    "        rooftest.append(2)\n",
    "    else:\n",
    "        rooftest.append(np.nan)\n",
    "#Add to dataframe\n",
    "test_df['roof'] = rooftest\n",
    "train_df.drop(['etecho1', 'etecho2', 'etecho3'], axis=1, inplace=True)\n",
    "test_df.drop(['etecho1', 'etecho2', 'etecho3'], axis=1, inplace=True)"
   ]
  },
  {
   "cell_type": "code",
   "execution_count": 68,
   "metadata": {},
   "outputs": [
    {
     "data": {
      "text/plain": [
       "0.3062546765808888"
      ]
     },
     "execution_count": 68,
     "metadata": {},
     "output_type": "execute_result"
    }
   ],
   "source": [
    "wall = []\n",
    "for i, row in train_df.iterrows():\n",
    "    if row['epared1'] == 1:\n",
    "        wall.append(0)\n",
    "    elif row['epared2'] == 1:\n",
    "        wall.append(1)\n",
    "    elif row['epared3'] == 1:\n",
    "        wall.append(2)\n",
    "    else:\n",
    "        wall.append(np.nan)\n",
    "#Add to dataframe\n",
    "train_df['wall'] = wall\n",
    "train_df['wall'].corr(train_df['Target'])"
   ]
  },
  {
   "cell_type": "code",
   "execution_count": 69,
   "metadata": {},
   "outputs": [
    {
     "name": "stderr",
     "output_type": "stream",
     "text": [
      "/Users/brycebangerter/anaconda3/lib/python3.6/site-packages/ipykernel_launcher.py:12: SettingWithCopyWarning: \n",
      "A value is trying to be set on a copy of a slice from a DataFrame.\n",
      "Try using .loc[row_indexer,col_indexer] = value instead\n",
      "\n",
      "See the caveats in the documentation: http://pandas.pydata.org/pandas-docs/stable/indexing.html#indexing-view-versus-copy\n",
      "  if sys.path[0] == '':\n",
      "/Users/brycebangerter/anaconda3/lib/python3.6/site-packages/ipykernel_launcher.py:14: SettingWithCopyWarning: \n",
      "A value is trying to be set on a copy of a slice from a DataFrame\n",
      "\n",
      "See the caveats in the documentation: http://pandas.pydata.org/pandas-docs/stable/indexing.html#indexing-view-versus-copy\n",
      "  \n"
     ]
    }
   ],
   "source": [
    "walltest = []\n",
    "for i, row in test_df.iterrows():\n",
    "    if row['epared1'] == 1:\n",
    "        walltest.append(0)\n",
    "    elif row['epared2'] == 1:\n",
    "        walltest.append(1)\n",
    "    elif row['epared3'] == 1:\n",
    "        walltest.append(2)\n",
    "    else:\n",
    "        walltest.append(np.nan)\n",
    "#Add to dataframe\n",
    "test_df['wall'] = walltest\n",
    "train_df.drop(['epared1', 'epared2', 'epared3'], axis=1, inplace=True)\n",
    "test_df.drop(['epared1', 'epared2', 'epared3'], axis=1, inplace=True)"
   ]
  },
  {
   "cell_type": "markdown",
   "metadata": {},
   "source": [
    "These variables below represent different types of garbage disposals. There are no households where elimbasu5 = 1, so it is dropped. I then look at the correlation heatmap to determine how to value my ordinal variable for the garbage disposals. The new ordinal variable has a decent correlation with the target variable, so I use that and drop the original variables."
   ]
  },
  {
   "cell_type": "code",
   "execution_count": 70,
   "metadata": {},
   "outputs": [
    {
     "data": {
      "text/plain": [
       "0    9557\n",
       "Name: elimbasu5, dtype: int64"
      ]
     },
     "execution_count": 70,
     "metadata": {},
     "output_type": "execute_result"
    }
   ],
   "source": [
    "train_df['elimbasu5'].value_counts()"
   ]
  },
  {
   "cell_type": "code",
   "execution_count": 71,
   "metadata": {},
   "outputs": [
    {
     "name": "stderr",
     "output_type": "stream",
     "text": [
      "/Users/brycebangerter/anaconda3/lib/python3.6/site-packages/ipykernel_launcher.py:2: SettingWithCopyWarning: \n",
      "A value is trying to be set on a copy of a slice from a DataFrame\n",
      "\n",
      "See the caveats in the documentation: http://pandas.pydata.org/pandas-docs/stable/indexing.html#indexing-view-versus-copy\n",
      "  \n"
     ]
    }
   ],
   "source": [
    "train_df.drop('elimbasu5', axis=1, inplace=True)\n",
    "test_df.drop('elimbasu5', axis=1, inplace=True)"
   ]
  },
  {
   "cell_type": "code",
   "execution_count": 72,
   "metadata": {},
   "outputs": [
    {
     "data": {
      "image/png": "[encoded data removed]",
      "text/plain": [
       "<matplotlib.figure.Figure at 0x10691c9e8>"
      ]
     },
     "metadata": {},
     "output_type": "display_data"
    }
   ],
   "source": [
    "#correlation heatmap\n",
    "corrdisp = train_df[['elimbasu1', 'elimbasu2', 'elimbasu3', 'elimbasu4', 'elimbasu6', 'Target']].corr()\n",
    "fig, ax = plt.subplots(figsize=(5, 5))\n",
    "colormap = sns.diverging_palette(220, 10, as_cmap=True)\n",
    "sns.heatmap(corrdisp, cmap=colormap, annot=True, fmt=\".2f\")\n",
    "plt.xticks(range(len(corrdisp.columns)), corrdisp.columns);\n",
    "plt.yticks(range(len(corrdisp.columns)), corrdisp.columns)\n",
    "plt.show()"
   ]
  },
  {
   "cell_type": "code",
   "execution_count": 73,
   "metadata": {},
   "outputs": [
    {
     "data": {
      "text/plain": [
       "0.16276527307337482"
      ]
     },
     "execution_count": 73,
     "metadata": {},
     "output_type": "execute_result"
    }
   ],
   "source": [
    "disp = []\n",
    "for i, row in train_df.iterrows():\n",
    "    if row['elimbasu1'] == 1:\n",
    "        disp.append(4)\n",
    "    elif row['elimbasu2'] == 1:\n",
    "        disp.append(1)\n",
    "    elif row['elimbasu3'] == 1:\n",
    "        disp.append(0)\n",
    "    elif row['elimbasu4'] == 1:\n",
    "        disp.append(2)\n",
    "    elif row['elimbasu6'] == 1:\n",
    "        disp.append(3)\n",
    "    else:\n",
    "        disp.append(np.nan)\n",
    "#Add to dataframe\n",
    "train_df['disp'] = disp\n",
    "train_df['disp'].corr(train_df['Target'])"
   ]
  },
  {
   "cell_type": "code",
   "execution_count": 74,
   "metadata": {},
   "outputs": [
    {
     "name": "stderr",
     "output_type": "stream",
     "text": [
      "/Users/brycebangerter/anaconda3/lib/python3.6/site-packages/ipykernel_launcher.py:16: SettingWithCopyWarning: \n",
      "A value is trying to be set on a copy of a slice from a DataFrame.\n",
      "Try using .loc[row_indexer,col_indexer] = value instead\n",
      "\n",
      "See the caveats in the documentation: http://pandas.pydata.org/pandas-docs/stable/indexing.html#indexing-view-versus-copy\n",
      "  app.launch_new_instance()\n",
      "/Users/brycebangerter/anaconda3/lib/python3.6/site-packages/ipykernel_launcher.py:18: SettingWithCopyWarning: \n",
      "A value is trying to be set on a copy of a slice from a DataFrame\n",
      "\n",
      "See the caveats in the documentation: http://pandas.pydata.org/pandas-docs/stable/indexing.html#indexing-view-versus-copy\n"
     ]
    }
   ],
   "source": [
    "disptest = []\n",
    "for i, row in test_df.iterrows():\n",
    "    if row['elimbasu1'] == 1:\n",
    "        disptest.append(4)\n",
    "    elif row['elimbasu2'] == 1:\n",
    "        disptest.append(1)\n",
    "    elif row['elimbasu3'] == 1:\n",
    "        disptest.append(0)\n",
    "    elif row['elimbasu4'] == 1:\n",
    "        disptest.append(2)\n",
    "    elif row['elimbasu6'] == 1:\n",
    "        disptest.append(3)\n",
    "    else:\n",
    "        disptest.append(np.nan)\n",
    "#Add to dataframe\n",
    "test_df['disp'] = disptest\n",
    "train_df.drop(['elimbasu1', 'elimbasu2', 'elimbasu3', 'elimbasu4', 'elimbasu6'], axis=1, inplace=True)\n",
    "test_df.drop(['elimbasu1', 'elimbasu2', 'elimbasu3', 'elimbasu4', 'elimbasu6'], axis=1, inplace=True)"
   ]
  },
  {
   "cell_type": "markdown",
   "metadata": {},
   "source": [
    "I do a similar process for the main source of energy for cooking variables as I did just above. I make my ordinal variable with just the energcocinar2 and energcocinar4 variables because they have the highest correlation absolute values and energconcinar2 accounts for most of the household's energy source type, so it isn't necessary to include energconcinar1 and energconcinar3 when there are so few households with that type and they don't explain much for our target variable."
   ]
  },
  {
   "cell_type": "code",
   "execution_count": 75,
   "metadata": {},
   "outputs": [
    {
     "data": {
      "image/png": "[encoded data removed]",
      "text/plain": [
       "<matplotlib.figure.Figure at 0x108e18438>"
      ]
     },
     "metadata": {},
     "output_type": "display_data"
    }
   ],
   "source": [
    "correner = train_df[['energcocinar1', 'energcocinar2', 'energcocinar3', 'energcocinar4', 'Target']].corr()\n",
    "fig, ax = plt.subplots(figsize=(5, 5))\n",
    "colormap = sns.diverging_palette(220, 10, as_cmap=True)\n",
    "sns.heatmap(correner, cmap=colormap, annot=True, fmt=\".2f\")\n",
    "plt.xticks(range(len(correner.columns)), correner.columns);\n",
    "plt.yticks(range(len(correner.columns)), correner.columns)\n",
    "plt.show()"
   ]
  },
  {
   "cell_type": "code",
   "execution_count": 76,
   "metadata": {},
   "outputs": [
    {
     "data": {
      "text/plain": [
       "0.2625224209524523"
      ]
     },
     "execution_count": 76,
     "metadata": {},
     "output_type": "execute_result"
    }
   ],
   "source": [
    "ener = []\n",
    "for i, row in train_df.iterrows():\n",
    "    if row['energcocinar2'] == 1:\n",
    "        ener.append(1)\n",
    "    elif row['energcocinar4'] == 1:\n",
    "        ener.append(0)\n",
    "    else:\n",
    "        ener.append(np.nan)\n",
    "#Add to dataframe\n",
    "train_df['ener'] = ener\n",
    "train_df['ener'].corr(train_df['Target'])"
   ]
  },
  {
   "cell_type": "code",
   "execution_count": 77,
   "metadata": {
    "scrolled": true
   },
   "outputs": [
    {
     "name": "stderr",
     "output_type": "stream",
     "text": [
      "/Users/brycebangerter/anaconda3/lib/python3.6/site-packages/ipykernel_launcher.py:10: SettingWithCopyWarning: \n",
      "A value is trying to be set on a copy of a slice from a DataFrame.\n",
      "Try using .loc[row_indexer,col_indexer] = value instead\n",
      "\n",
      "See the caveats in the documentation: http://pandas.pydata.org/pandas-docs/stable/indexing.html#indexing-view-versus-copy\n",
      "  # Remove the CWD from sys.path while we load stuff.\n",
      "/Users/brycebangerter/anaconda3/lib/python3.6/site-packages/ipykernel_launcher.py:12: SettingWithCopyWarning: \n",
      "A value is trying to be set on a copy of a slice from a DataFrame\n",
      "\n",
      "See the caveats in the documentation: http://pandas.pydata.org/pandas-docs/stable/indexing.html#indexing-view-versus-copy\n",
      "  if sys.path[0] == '':\n"
     ]
    }
   ],
   "source": [
    "enertest = []\n",
    "for i, row in test_df.iterrows():\n",
    "    if row['energcocinar2'] == 1:\n",
    "        enertest.append(1)\n",
    "    elif row['energcocinar4'] == 1:\n",
    "        enertest.append(0)\n",
    "    else:\n",
    "        enertest.append(np.nan)\n",
    "#Add to dataframe\n",
    "test_df['ener'] = enertest\n",
    "train_df.drop(['energcocinar1', 'energcocinar2', 'energcocinar3', 'energcocinar4'], axis=1, inplace=True)\n",
    "test_df.drop(['energcocinar1', 'energcocinar2', 'energcocinar3', 'energcocinar4'], axis=1, inplace=True)"
   ]
  },
  {
   "cell_type": "markdown",
   "metadata": {},
   "source": [
    "Once again, I use the same process as above for the water source being located inside or outside (or no water source). However, I find that the ordinal variable I created doesn't have a strong correlation with the target variable, so I drop it and all the original water source variables. "
   ]
  },
  {
   "cell_type": "code",
   "execution_count": 78,
   "metadata": {},
   "outputs": [
    {
     "data": {
      "image/png": "[encoded data removed]",
      "text/plain": [
       "<matplotlib.figure.Figure at 0x108f4ff98>"
      ]
     },
     "metadata": {},
     "output_type": "display_data"
    }
   ],
   "source": [
    "corrwater = train_df[['abastaguadentro', 'abastaguafuera', 'abastaguano', 'Target']].corr()\n",
    "fig, ax = plt.subplots(figsize=(5, 5))\n",
    "colormap = sns.diverging_palette(220, 10, as_cmap=True)\n",
    "sns.heatmap(corrwater, cmap=colormap, annot=True, fmt=\".2f\")\n",
    "plt.xticks(range(len(corrwater.columns)), corrwater.columns);\n",
    "plt.yticks(range(len(corrwater.columns)), corrwater.columns)\n",
    "plt.show()"
   ]
  },
  {
   "cell_type": "code",
   "execution_count": 79,
   "metadata": {},
   "outputs": [
    {
     "data": {
      "text/plain": [
       "0.08170935144490948"
      ]
     },
     "execution_count": 79,
     "metadata": {},
     "output_type": "execute_result"
    }
   ],
   "source": [
    "water = []\n",
    "for i, row in train_df.iterrows():\n",
    "    if row['abastaguano'] == 1:\n",
    "        water.append(0)\n",
    "    elif row['abastaguafuera'] == 1:\n",
    "        water.append(1)\n",
    "    elif row['abastaguadentro'] == 1:\n",
    "        water.append(2)\n",
    "    else:\n",
    "        water.append(np.nan)\n",
    "#Add to dataframe\n",
    "train_df['water'] = water\n",
    "train_df['water'].corr(train_df['Target'])"
   ]
  },
  {
   "cell_type": "code",
   "execution_count": 80,
   "metadata": {},
   "outputs": [
    {
     "name": "stderr",
     "output_type": "stream",
     "text": [
      "/Users/brycebangerter/anaconda3/lib/python3.6/site-packages/ipykernel_launcher.py:2: SettingWithCopyWarning: \n",
      "A value is trying to be set on a copy of a slice from a DataFrame\n",
      "\n",
      "See the caveats in the documentation: http://pandas.pydata.org/pandas-docs/stable/indexing.html#indexing-view-versus-copy\n",
      "  \n"
     ]
    }
   ],
   "source": [
    "train_df.drop(['abastaguano', 'abastaguafuera', 'abastaguadentro', 'water'], axis=1, inplace=True)\n",
    "test_df.drop(['abastaguano', 'abastaguafuera', 'abastaguadentro'], axis=1, inplace=True)"
   ]
  },
  {
   "cell_type": "markdown",
   "metadata": {},
   "source": [
    "For the roof material variables, I use a correlation heatmap and find that none of them correlate with the target variable so I drop them all."
   ]
  },
  {
   "cell_type": "code",
   "execution_count": 81,
   "metadata": {},
   "outputs": [
    {
     "data": {
      "image/png": "[encoded data removed]",
      "text/plain": [
       "<matplotlib.figure.Figure at 0x1090001d0>"
      ]
     },
     "metadata": {},
     "output_type": "display_data"
    }
   ],
   "source": [
    "corrroofmat = train_df[['techootro', 'techocane', 'techoentrepiso', 'techozinc', 'Target']].corr()\n",
    "fig, ax = plt.subplots(figsize=(5, 5))\n",
    "colormap = sns.diverging_palette(220, 10, as_cmap=True)\n",
    "sns.heatmap(corrroofmat, cmap=colormap, annot=True, fmt=\".2f\")\n",
    "plt.xticks(range(len(corrroofmat.columns)), corrroofmat.columns);\n",
    "plt.yticks(range(len(corrroofmat.columns)), corrroofmat.columns)\n",
    "plt.show()"
   ]
  },
  {
   "cell_type": "code",
   "execution_count": 82,
   "metadata": {
    "scrolled": true
   },
   "outputs": [
    {
     "name": "stderr",
     "output_type": "stream",
     "text": [
      "/Users/brycebangerter/anaconda3/lib/python3.6/site-packages/ipykernel_launcher.py:2: SettingWithCopyWarning: \n",
      "A value is trying to be set on a copy of a slice from a DataFrame\n",
      "\n",
      "See the caveats in the documentation: http://pandas.pydata.org/pandas-docs/stable/indexing.html#indexing-view-versus-copy\n",
      "  \n"
     ]
    }
   ],
   "source": [
    "train_df.drop(['techootro', 'techocane', 'techoentrepiso', 'techozinc'], axis=1, inplace=True)\n",
    "test_df.drop(['techootro', 'techocane', 'techoentrepiso', 'techozinc'], axis=1, inplace=True)"
   ]
  },
  {
   "cell_type": "markdown",
   "metadata": {},
   "source": [
    "For the floor material variables, I make a correlation heatmap and make an ordinal variable based on the correlation coefficient values. "
   ]
  },
  {
   "cell_type": "code",
   "execution_count": 83,
   "metadata": {},
   "outputs": [
    {
     "data": {
      "image/png": "[encoded data removed]",
      "text/plain": [
       "<matplotlib.figure.Figure at 0x108de0940>"
      ]
     },
     "metadata": {},
     "output_type": "display_data"
    }
   ],
   "source": [
    "corrfloormat = train_df[['pisomadera', 'pisonotiene', 'pisonatur', 'pisoother', 'pisocemento', 'pisomoscer', 'Target']].corr()\n",
    "fig, ax = plt.subplots(figsize=(5, 5))\n",
    "colormap = sns.diverging_palette(220, 10, as_cmap=True)\n",
    "sns.heatmap(corrfloormat, cmap=colormap, annot=True, fmt=\".2f\")\n",
    "plt.xticks(range(len(corrfloormat.columns)), corrfloormat.columns);\n",
    "plt.yticks(range(len(corrfloormat.columns)), corrfloormat.columns)\n",
    "plt.show()"
   ]
  },
  {
   "cell_type": "code",
   "execution_count": 84,
   "metadata": {},
   "outputs": [
    {
     "data": {
      "text/plain": [
       "0.27257660197352346"
      ]
     },
     "execution_count": 84,
     "metadata": {},
     "output_type": "execute_result"
    }
   ],
   "source": [
    "floormat = []\n",
    "for i, row in train_df.iterrows():\n",
    "    if row['pisomadera'] == 1:\n",
    "        floormat.append(1)\n",
    "    elif row['pisonotiene'] == 1:\n",
    "        floormat.append(2)\n",
    "    elif row['pisonatur'] == 1:\n",
    "        floormat.append(3)\n",
    "    elif row['pisocemento'] == 1:\n",
    "        floormat.append(0)\n",
    "    elif row['pisomoscer'] == 1:\n",
    "        floormat.append(5)\n",
    "    elif row['pisoother'] == 1:\n",
    "        floormat.append(4)\n",
    "    else:\n",
    "        floormat.append(np.nan)\n",
    "#Add to dataframe\n",
    "train_df['floormat'] = floormat\n",
    "train_df['floormat'].corr(train_df['Target'])"
   ]
  },
  {
   "cell_type": "code",
   "execution_count": 85,
   "metadata": {
    "scrolled": true
   },
   "outputs": [
    {
     "name": "stderr",
     "output_type": "stream",
     "text": [
      "/Users/brycebangerter/anaconda3/lib/python3.6/site-packages/ipykernel_launcher.py:18: SettingWithCopyWarning: \n",
      "A value is trying to be set on a copy of a slice from a DataFrame.\n",
      "Try using .loc[row_indexer,col_indexer] = value instead\n",
      "\n",
      "See the caveats in the documentation: http://pandas.pydata.org/pandas-docs/stable/indexing.html#indexing-view-versus-copy\n",
      "/Users/brycebangerter/anaconda3/lib/python3.6/site-packages/ipykernel_launcher.py:20: SettingWithCopyWarning: \n",
      "A value is trying to be set on a copy of a slice from a DataFrame\n",
      "\n",
      "See the caveats in the documentation: http://pandas.pydata.org/pandas-docs/stable/indexing.html#indexing-view-versus-copy\n"
     ]
    }
   ],
   "source": [
    "floormattest = []\n",
    "for i, row in test_df.iterrows():\n",
    "    if row['pisomadera'] == 1:\n",
    "        floormattest.append(1)\n",
    "    elif row['pisonotiene'] == 1:\n",
    "        floormattest.append(2)\n",
    "    elif row['pisonatur'] == 1:\n",
    "        floormattest.append(3)\n",
    "    elif row['pisocemento'] == 1:\n",
    "        floormattest.append(0)\n",
    "    elif row['pisomoscer'] == 1:\n",
    "        floormattest.append(5)\n",
    "    elif row['pisoother'] == 1:\n",
    "        floormattest.append(4)\n",
    "    else:\n",
    "        floormattest.append(np.nan)\n",
    "#Add to dataframe\n",
    "test_df['floormat'] = floormattest\n",
    "train_df.drop(['pisomadera', 'pisonotiene', 'pisonatur', 'pisoother', 'pisocemento', 'pisomoscer'], axis=1, inplace=True)\n",
    "test_df.drop(['pisomadera', 'pisonotiene', 'pisonatur', 'pisoother', 'pisocemento', 'pisomoscer'], axis=1, inplace=True)"
   ]
  },
  {
   "cell_type": "markdown",
   "metadata": {},
   "source": [
    "Due to our feature engineering, it's possible that there were some individuals who didn't have a value for any of the original variables that turned into the ordinal variable. In other words, rather than receiving some number (ordinal value), they were filled with a NaN. Let's check to see if this happened in our data sets."
   ]
  },
  {
   "cell_type": "code",
   "execution_count": 86,
   "metadata": {},
   "outputs": [
    {
     "data": {
      "text/plain": [
       "educ       3\n",
       "ener    4399\n",
       "dtype: int64"
      ]
     },
     "execution_count": 86,
     "metadata": {},
     "output_type": "execute_result"
    }
   ],
   "source": [
    "train_df[show_missing()].isnull().sum()"
   ]
  },
  {
   "cell_type": "code",
   "execution_count": 87,
   "metadata": {
    "scrolled": false
   },
   "outputs": [
    {
     "data": {
      "text/plain": [
       "educ        5\n",
       "disp        4\n",
       "ener    11430\n",
       "dtype: int64"
      ]
     },
     "execution_count": 87,
     "metadata": {},
     "output_type": "execute_result"
    }
   ],
   "source": [
    "test_df[show_missing2()].isnull().sum()"
   ]
  },
  {
   "cell_type": "markdown",
   "metadata": {},
   "source": [
    "It looks like it did, so I am going to have to fill these NaN values with the appropriate values. For educ, I will fill in the NaN with the mode of the data. For ener, I will fill in the NaN with 0. And with disp, I will fill in the Nan with 2."
   ]
  },
  {
   "cell_type": "code",
   "execution_count": 88,
   "metadata": {},
   "outputs": [],
   "source": [
    "train_df['educ_copy'] = train_df['educ']\n",
    "train_df.educ_copy = train_df.educ.isna()\n",
    "educ_mode = train_df['educ'].mode()\n",
    "def educfix(row):\n",
    "    if (row[\"educ_copy\"]) == True:\n",
    "        return educ_mode\n",
    "    else:\n",
    "        return (row['educ'])\n",
    "train_df['educ_copy'] = train_df.apply(educfix, axis=1)\n",
    "train_df.drop('educ', axis=1, inplace=True)\n",
    "train_df.rename(columns={'educ_copy': 'educ'}, inplace=True)"
   ]
  },
  {
   "cell_type": "code",
   "execution_count": 89,
   "metadata": {
    "scrolled": true
   },
   "outputs": [
    {
     "name": "stderr",
     "output_type": "stream",
     "text": [
      "/Users/brycebangerter/anaconda3/lib/python3.6/site-packages/ipykernel_launcher.py:1: SettingWithCopyWarning: \n",
      "A value is trying to be set on a copy of a slice from a DataFrame.\n",
      "Try using .loc[row_indexer,col_indexer] = value instead\n",
      "\n",
      "See the caveats in the documentation: http://pandas.pydata.org/pandas-docs/stable/indexing.html#indexing-view-versus-copy\n",
      "  \"\"\"Entry point for launching an IPython kernel.\n",
      "/Users/brycebangerter/anaconda3/lib/python3.6/site-packages/pandas/core/generic.py:3643: SettingWithCopyWarning: \n",
      "A value is trying to be set on a copy of a slice from a DataFrame.\n",
      "Try using .loc[row_indexer,col_indexer] = value instead\n",
      "\n",
      "See the caveats in the documentation: http://pandas.pydata.org/pandas-docs/stable/indexing.html#indexing-view-versus-copy\n",
      "  self[name] = value\n",
      "/Users/brycebangerter/anaconda3/lib/python3.6/site-packages/ipykernel_launcher.py:9: SettingWithCopyWarning: \n",
      "A value is trying to be set on a copy of a slice from a DataFrame.\n",
      "Try using .loc[row_indexer,col_indexer] = value instead\n",
      "\n",
      "See the caveats in the documentation: http://pandas.pydata.org/pandas-docs/stable/indexing.html#indexing-view-versus-copy\n",
      "  if __name__ == '__main__':\n",
      "/Users/brycebangerter/anaconda3/lib/python3.6/site-packages/ipykernel_launcher.py:10: SettingWithCopyWarning: \n",
      "A value is trying to be set on a copy of a slice from a DataFrame\n",
      "\n",
      "See the caveats in the documentation: http://pandas.pydata.org/pandas-docs/stable/indexing.html#indexing-view-versus-copy\n",
      "  # Remove the CWD from sys.path while we load stuff.\n",
      "/Users/brycebangerter/anaconda3/lib/python3.6/site-packages/pandas/core/frame.py:3027: SettingWithCopyWarning: \n",
      "A value is trying to be set on a copy of a slice from a DataFrame\n",
      "\n",
      "See the caveats in the documentation: http://pandas.pydata.org/pandas-docs/stable/indexing.html#indexing-view-versus-copy\n",
      "  return super(DataFrame, self).rename(**kwargs)\n"
     ]
    }
   ],
   "source": [
    "test_df['educ_copy'] = test_df['educ']\n",
    "test_df.educ_copy = test_df.educ.isna()\n",
    "educ_mode2 = test_df['educ'].mode()\n",
    "def educfix2(row):\n",
    "    if (row[\"educ_copy\"]) == True:\n",
    "        return educ_mode2\n",
    "    else:\n",
    "        return (row['educ'])\n",
    "test_df['educ_copy'] = test_df.apply(educfix2, axis=1)\n",
    "test_df.drop('educ', axis=1, inplace=True)\n",
    "test_df.rename(columns={'educ_copy': 'educ'}, inplace=True)"
   ]
  },
  {
   "cell_type": "code",
   "execution_count": 90,
   "metadata": {},
   "outputs": [],
   "source": [
    "train_df['ener_copy'] = train_df['ener']\n",
    "train_df.ener_copy = train_df.ener.isna()\n",
    "def enerfix(row):\n",
    "    if (row[\"ener_copy\"]) == True:\n",
    "        return 0\n",
    "    else:\n",
    "        return (row['ener'])\n",
    "train_df['ener_copy'] = train_df.apply(enerfix, axis=1)\n",
    "train_df.drop('ener', axis=1, inplace=True)\n",
    "train_df.rename(columns={'ener_copy': 'ener'}, inplace=True)"
   ]
  },
  {
   "cell_type": "code",
   "execution_count": 91,
   "metadata": {
    "scrolled": true
   },
   "outputs": [
    {
     "name": "stderr",
     "output_type": "stream",
     "text": [
      "/Users/brycebangerter/anaconda3/lib/python3.6/site-packages/ipykernel_launcher.py:1: SettingWithCopyWarning: \n",
      "A value is trying to be set on a copy of a slice from a DataFrame.\n",
      "Try using .loc[row_indexer,col_indexer] = value instead\n",
      "\n",
      "See the caveats in the documentation: http://pandas.pydata.org/pandas-docs/stable/indexing.html#indexing-view-versus-copy\n",
      "  \"\"\"Entry point for launching an IPython kernel.\n",
      "/Users/brycebangerter/anaconda3/lib/python3.6/site-packages/pandas/core/generic.py:3643: SettingWithCopyWarning: \n",
      "A value is trying to be set on a copy of a slice from a DataFrame.\n",
      "Try using .loc[row_indexer,col_indexer] = value instead\n",
      "\n",
      "See the caveats in the documentation: http://pandas.pydata.org/pandas-docs/stable/indexing.html#indexing-view-versus-copy\n",
      "  self[name] = value\n",
      "/Users/brycebangerter/anaconda3/lib/python3.6/site-packages/ipykernel_launcher.py:8: SettingWithCopyWarning: \n",
      "A value is trying to be set on a copy of a slice from a DataFrame.\n",
      "Try using .loc[row_indexer,col_indexer] = value instead\n",
      "\n",
      "See the caveats in the documentation: http://pandas.pydata.org/pandas-docs/stable/indexing.html#indexing-view-versus-copy\n",
      "  \n",
      "/Users/brycebangerter/anaconda3/lib/python3.6/site-packages/ipykernel_launcher.py:9: SettingWithCopyWarning: \n",
      "A value is trying to be set on a copy of a slice from a DataFrame\n",
      "\n",
      "See the caveats in the documentation: http://pandas.pydata.org/pandas-docs/stable/indexing.html#indexing-view-versus-copy\n",
      "  if __name__ == '__main__':\n",
      "/Users/brycebangerter/anaconda3/lib/python3.6/site-packages/pandas/core/frame.py:3027: SettingWithCopyWarning: \n",
      "A value is trying to be set on a copy of a slice from a DataFrame\n",
      "\n",
      "See the caveats in the documentation: http://pandas.pydata.org/pandas-docs/stable/indexing.html#indexing-view-versus-copy\n",
      "  return super(DataFrame, self).rename(**kwargs)\n"
     ]
    }
   ],
   "source": [
    "test_df['ener_copy'] = test_df['ener']\n",
    "test_df.ener_copy = test_df.ener.isna()\n",
    "def enerfix2(row):\n",
    "    if (row[\"ener_copy\"]) == True:\n",
    "        return 0\n",
    "    else:\n",
    "        return (row['ener'])\n",
    "test_df['ener_copy'] = test_df.apply(enerfix2, axis=1)\n",
    "test_df.drop('ener', axis=1, inplace=True)\n",
    "test_df.rename(columns={'ener_copy': 'ener'}, inplace=True)"
   ]
  },
  {
   "cell_type": "code",
   "execution_count": 92,
   "metadata": {},
   "outputs": [
    {
     "name": "stderr",
     "output_type": "stream",
     "text": [
      "/Users/brycebangerter/anaconda3/lib/python3.6/site-packages/ipykernel_launcher.py:1: SettingWithCopyWarning: \n",
      "A value is trying to be set on a copy of a slice from a DataFrame.\n",
      "Try using .loc[row_indexer,col_indexer] = value instead\n",
      "\n",
      "See the caveats in the documentation: http://pandas.pydata.org/pandas-docs/stable/indexing.html#indexing-view-versus-copy\n",
      "  \"\"\"Entry point for launching an IPython kernel.\n",
      "/Users/brycebangerter/anaconda3/lib/python3.6/site-packages/pandas/core/generic.py:3643: SettingWithCopyWarning: \n",
      "A value is trying to be set on a copy of a slice from a DataFrame.\n",
      "Try using .loc[row_indexer,col_indexer] = value instead\n",
      "\n",
      "See the caveats in the documentation: http://pandas.pydata.org/pandas-docs/stable/indexing.html#indexing-view-versus-copy\n",
      "  self[name] = value\n",
      "/Users/brycebangerter/anaconda3/lib/python3.6/site-packages/ipykernel_launcher.py:8: SettingWithCopyWarning: \n",
      "A value is trying to be set on a copy of a slice from a DataFrame.\n",
      "Try using .loc[row_indexer,col_indexer] = value instead\n",
      "\n",
      "See the caveats in the documentation: http://pandas.pydata.org/pandas-docs/stable/indexing.html#indexing-view-versus-copy\n",
      "  \n",
      "/Users/brycebangerter/anaconda3/lib/python3.6/site-packages/ipykernel_launcher.py:9: SettingWithCopyWarning: \n",
      "A value is trying to be set on a copy of a slice from a DataFrame\n",
      "\n",
      "See the caveats in the documentation: http://pandas.pydata.org/pandas-docs/stable/indexing.html#indexing-view-versus-copy\n",
      "  if __name__ == '__main__':\n",
      "/Users/brycebangerter/anaconda3/lib/python3.6/site-packages/pandas/core/frame.py:3027: SettingWithCopyWarning: \n",
      "A value is trying to be set on a copy of a slice from a DataFrame\n",
      "\n",
      "See the caveats in the documentation: http://pandas.pydata.org/pandas-docs/stable/indexing.html#indexing-view-versus-copy\n",
      "  return super(DataFrame, self).rename(**kwargs)\n"
     ]
    }
   ],
   "source": [
    "test_df['disp_copy'] = test_df['disp']\n",
    "test_df.disp_copy = test_df.disp.isna()\n",
    "def dispfix2(row):\n",
    "    if (row[\"disp_copy\"]) == True:\n",
    "        return 2\n",
    "    else:\n",
    "        return (row['disp'])\n",
    "test_df['disp_copy'] = test_df.apply(dispfix2, axis=1)\n",
    "test_df.drop('disp', axis=1, inplace=True)\n",
    "test_df.rename(columns={'disp_copy': 'disp'}, inplace=True)"
   ]
  },
  {
   "cell_type": "markdown",
   "metadata": {},
   "source": [
    "# 3. Random Forest Modeling"
   ]
  },
  {
   "cell_type": "markdown",
   "metadata": {},
   "source": [
    "Now that I have cleaned the data, selected features, and engineered new ones, I am ready to put the data into a random forest classification model. I will need to import the packages I need from scikitlearn, break up the training data set into train and test subsets to train my model on. In order to run the model on this data, I need to make a new dataframe that doesn't have categorical variables or else the function won't work. "
   ]
  },
  {
   "cell_type": "code",
   "execution_count": 93,
   "metadata": {},
   "outputs": [],
   "source": [
    "#import all the scikit learn packages for random forest classification\n",
    "from sklearn.ensemble import RandomForestClassifier\n",
    "from sklearn.model_selection import train_test_split, GridSearchCV\n",
    "from sklearn.metrics import f1_score, classification_report\n",
    "from collections import Counter"
   ]
  },
  {
   "cell_type": "code",
   "execution_count": 94,
   "metadata": {},
   "outputs": [],
   "source": [
    "#Make a df that doesn't have the categorical identification variables so that the random forest can work\n",
    "df_no_cat = train_df.drop(['Target', 'Id', 'idhogar'], axis=1)"
   ]
  },
  {
   "cell_type": "code",
   "execution_count": 95,
   "metadata": {},
   "outputs": [],
   "source": [
    "X_train, X_test, y_train, y_test = train_test_split(df_no_cat, train_df.Target, test_size=0.20, random_state=42)"
   ]
  },
  {
   "cell_type": "markdown",
   "metadata": {},
   "source": [
    "Here I am testing multiple hyperparameters to find the best model. n_estimators is the number of trees I will make in my random forest, max_depth is the deepness of each tree, and class_weights to value the strength of the split. \n",
    "\n",
    "I loop through all the hyperparameters and find the hyperparameters that give me the best f1 score, the score that weights how well the model did in precision and recall. The score is not great but let's look at what happens when I predict on the test subset of the training data."
   ]
  },
  {
   "cell_type": "code",
   "execution_count": 97,
   "metadata": {},
   "outputs": [
    {
     "name": "stdout",
     "output_type": "stream",
     "text": [
      "1000 1 balanced\n",
      "1000 1 None\n",
      "1000 3 balanced\n",
      "1000 3 None\n",
      "1000 5 balanced\n",
      "1000 5 None\n",
      "1000 10 balanced\n",
      "1000 10 None\n",
      "2500 1 balanced\n",
      "2500 1 None\n",
      "2500 3 balanced\n",
      "2500 3 None\n",
      "2500 5 balanced\n",
      "2500 5 None\n",
      "2500 10 balanced\n",
      "2500 10 None\n",
      "5000 1 balanced\n",
      "5000 1 None\n",
      "5000 3 balanced\n",
      "5000 3 None\n",
      "5000 5 balanced\n",
      "5000 5 None\n",
      "5000 10 balanced\n",
      "5000 10 None\n"
     ]
    }
   ],
   "source": [
    "#hyperparameter options to iterate through\n",
    "n_estimators = [1000, 2500, 5000]\n",
    "max_depth = [1, 3, 5, 10]\n",
    "class_weights = ['balanced', None]\n",
    "#this is the value that will be adjusted as the loop is executed to get the best f1 score\n",
    "best_f1 = 0\n",
    "#loop through all hyperparameter options for random forest classification and then the best parameters can be chosen\n",
    "for est in n_estimators:\n",
    "    for depth in max_depth:\n",
    "        for wgt in class_weights:\n",
    "            print(est, depth, wgt)\n",
    "            clf = RandomForestClassifier(n_estimators=est, max_depth=depth, oob_score=True, class_weight=wgt)\n",
    "            clf.fit(X_train, y_train)\n",
    "            #chose to use average='micro' because it defaults to binary but our target variable isn't binary, and the other options took to long to run on my old computer\n",
    "            f1 = f1_score(y_train, np.argmax(clf.oob_decision_function_ , 1), average='micro')\n",
    "            if f1 > best_f1:\n",
    "                best_f1 = f1\n",
    "                best_params = (est, depth, wgt)"
   ]
  },
  {
   "cell_type": "code",
   "execution_count": 98,
   "metadata": {},
   "outputs": [
    {
     "name": "stdout",
     "output_type": "stream",
     "text": [
      "Best OOB F1: 0.13760627861347285\n",
      "Best params: (5000, 3, None)\n"
     ]
    }
   ],
   "source": [
    "print(\"Best OOB F1: {}\".format(best_f1))\n",
    "print(\"Best params: {}\".format(best_params))"
   ]
  },
  {
   "cell_type": "markdown",
   "metadata": {},
   "source": [
    "Below we can see how well the model did with precision, recall, and f1 score for each poverty level classification. We can see that the precision and recall for poverty levels 1 and 3 are 0. This means our model is not predicting people to be in a poverty class of 1 or 3. It's having a hard time making accurate predictions. We can also see that the recall for poverty class 4 is really good, but the precision isn't. Perhaps the model overclassifies households to this poverty class such that we predicted true positives equal the amount of true positives in the data set, but it tries too hard which is why we get a lot of false positives, bringing our precision down. For the sake of time, I do not have the opportunity to explore this further and change my features, hyperparameters, or average strategy in the f1 score calculation. I'm going to use this model to predict my test_df poverty levels."
   ]
  },
  {
   "cell_type": "code",
   "execution_count": 113,
   "metadata": {
    "scrolled": true
   },
   "outputs": [
    {
     "name": "stdout",
     "output_type": "stream",
     "text": [
      "Test Classification Report:\n",
      "             precision    recall  f1-score   support\n",
      "\n",
      "          1       0.00      0.00      0.00       169\n",
      "          2       0.46      0.11      0.18       302\n",
      "          3       0.00      0.00      0.00       257\n",
      "          4       0.64      0.99      0.78      1184\n",
      "\n",
      "avg / total       0.47      0.63      0.51      1912\n",
      "\n"
     ]
    },
    {
     "name": "stderr",
     "output_type": "stream",
     "text": [
      "/Users/brycebangerter/anaconda3/lib/python3.6/site-packages/sklearn/metrics/classification.py:1135: UndefinedMetricWarning: Precision and F-score are ill-defined and being set to 0.0 in labels with no predicted samples.\n",
      "  'precision', 'predicted', average, warn_for)\n"
     ]
    }
   ],
   "source": [
    "clf = RandomForestClassifier(n_estimators=best_params[0], max_depth=best_params[1], class_weight=best_params[2])\n",
    "clf.fit(X_train, y_train)\n",
    "test_predictions = clf.predict(X_test)\n",
    "print(\"Test Classification Report:\")\n",
    "print(classification_report(y_test, test_predictions))"
   ]
  },
  {
   "cell_type": "markdown",
   "metadata": {},
   "source": [
    "Here I make a dataframe of the test data without the categorical variables, use my model to predict the poverty classifcation of the test data, and display the predictions. We can see that it looks similar to what happened with the training data, where only poverty classes 2 and 4 were predicted. This model is not very good. However, I did learn a lot about how to do feature selection and engineering and get some experiencing using a random forest classification model, which will come in handy for my project in this class, as we are dealing with a classification problem. "
   ]
  },
  {
   "cell_type": "code",
   "execution_count": 114,
   "metadata": {},
   "outputs": [],
   "source": [
    "#make dataframe with no categorical variables\n",
    "test_no_cat = test_df.drop(['Id', 'idhogar'], axis=1)\n",
    "#make prediction on test data\n",
    "test_predictions2 = clf.predict(test_no_cat)"
   ]
  },
  {
   "cell_type": "code",
   "execution_count": 115,
   "metadata": {},
   "outputs": [],
   "source": [
    "df_test_target = pd.DataFrame(test_predictions2)"
   ]
  },
  {
   "cell_type": "code",
   "execution_count": 116,
   "metadata": {},
   "outputs": [
    {
     "data": {
      "text/plain": [
       "4    22444\n",
       "2     1412\n",
       "Name: 0, dtype: int64"
      ]
     },
     "execution_count": 116,
     "metadata": {},
     "output_type": "execute_result"
    }
   ],
   "source": [
    "#How many of each household was predicted\n",
    "df_test_target[0].value_counts()"
   ]
  }
 ],
 "metadata": {
  "celltoolbar": "Raw Cell Format",
  "kernelspec": {
   "display_name": "Python 3",
   "language": "python",
   "name": "python3"
  },
  "language_info": {
   "codemirror_mode": {
    "name": "ipython",
    "version": 3
   },
   "file_extension": ".py",
   "mimetype": "text/x-python",
   "name": "python",
   "nbconvert_exporter": "python",
   "pygments_lexer": "ipython3",
   "version": "3.6.4"
  }
 },
 "nbformat": 4,
 "nbformat_minor": 2
}
